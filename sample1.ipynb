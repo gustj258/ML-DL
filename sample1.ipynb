{
 "cells": [
  {
   "cell_type": "code",
   "execution_count": 2,
   "metadata": {},
   "outputs": [],
   "source": [
    "import requests"
   ]
  },
  {
   "cell_type": "code",
   "execution_count": 6,
   "metadata": {},
   "outputs": [
    {
     "name": "stdout",
     "output_type": "stream",
     "text": [
      "1보아\n",
      "2졸피뎀\n",
      "3손흥민 푸스카스\n",
      "4미스트롯2\n",
      "5황하나\n",
      "6미스트롯2 시청률\n",
      "7홍지윤\n",
      "8채림\n",
      "9황하나 인스타그램\n",
      "10윤형빈\n",
      "11탤런트 김민정\n",
      "12김민정\n",
      "13삼보산업\n",
      "14최철원\n",
      "15종현\n",
      "16발롱도르\n",
      "17동신건설\n",
      "18오거돈\n",
      "19런온\n",
      "20시카리오\n"
     ]
    },
    {
     "ename": "AttributeError",
     "evalue": "'str' object has no attribute 'to_excel'",
     "output_type": "error",
     "traceback": [
      "\u001b[1;31m---------------------------------------------------------------------------\u001b[0m",
      "\u001b[1;31mAttributeError\u001b[0m                            Traceback (most recent call last)",
      "\u001b[1;32m<ipython-input-6-6e5fef2bb071>\u001b[0m in \u001b[0;36m<module>\u001b[1;34m\u001b[0m\n\u001b[0;32m     12\u001b[0m     \u001b[0mprint\u001b[0m\u001b[1;33m(\u001b[0m\u001b[0mkeyword\u001b[0m\u001b[1;33m)\u001b[0m\u001b[1;33m\u001b[0m\u001b[1;33m\u001b[0m\u001b[0m\n\u001b[0;32m     13\u001b[0m \u001b[1;33m\u001b[0m\u001b[0m\n\u001b[1;32m---> 14\u001b[1;33m \u001b[0mkeyword\u001b[0m\u001b[1;33m.\u001b[0m\u001b[0mto_excel\u001b[0m\u001b[1;33m(\u001b[0m\u001b[1;34m'test123.xlsx'\u001b[0m\u001b[1;33m,\u001b[0m \u001b[0mindex\u001b[0m\u001b[1;33m=\u001b[0m\u001b[1;32mFalse\u001b[0m\u001b[1;33m)\u001b[0m\u001b[1;33m\u001b[0m\u001b[1;33m\u001b[0m\u001b[0m\n\u001b[0m",
      "\u001b[1;31mAttributeError\u001b[0m: 'str' object has no attribute 'to_excel'"
     ]
    }
   ],
   "source": [
    "import pandas as pd\n",
    "\n",
    "#네이버 실시간 검색어 확인 1~20위\n",
    "json = requests.get(\"https://www.naver.com/srchrank?frm=main\").json()\n",
    "\n",
    "ranks = json.get(\"data\")\n",
    "\n",
    "i = 1\n",
    "for r in ranks:\n",
    "    keyword = str(i)  + r.get(\"keyword\")\n",
    "    i = i + 1\n",
    "    print(keyword)\n",
    "    \n",
    "keyword.to_excel('test123.xlsx', index=False)"
   ]
  },
  {
   "cell_type": "code",
   "execution_count": 1,
   "metadata": {},
   "outputs": [],
   "source": [
    "from urllib.request import urlopen\n",
    "from bs4 import BeautifulSoup\n",
    "import urllib.parse"
   ]
  },
  {
   "cell_type": "code",
   "execution_count": null,
   "metadata": {},
   "outputs": [
    {
     "name": "stdout",
     "output_type": "stream",
     "text": [
      "검색어를 입력하세요:파이썬\n",
      "몇페이지 크롤링 할까요? : 1\n"
     ]
    }
   ],
   "source": [
    "#네이버 블로그 검색 크롤링 (구현안됨)\n",
    "plusUrl = urllib.parse.quote_plus(input('검색어를 입력하세요:'))\n",
    "\n",
    "pageNum = 1\n",
    "\n",
    "i = input('몇페이지 크롤링 할까요? : ')\n",
    "\n",
    "lastPage = int(i) * 10 - 9\n",
    "while pageNum < lastPage + 1: \n",
    "    url = f'https://search.naver.com/search.naver?date_from=&date_option=0&date_to=&dup_remove=1&nso=&post_blogurl=&post_blogurl_without=&query={plusUrl}=tab_pge&srchby=all&st=sim&where=post&start={pageNum}'\n",
    "html = urllib.request.urlopen(url).read()\n",
    "soup = BeautifulSoup(html, 'html.parser')\n",
    "\n",
    "title = soup.find_all(class_='sh_blog_title')\n",
    "\n",
    "for i in title:\n",
    "    print(i.attrs['title'])\n",
    "    print(i.attrs['href'])\n",
    "    print()\n",
    "    \n",
    "    pageNum += 10"
   ]
  },
  {
   "cell_type": "code",
   "execution_count": null,
   "metadata": {},
   "outputs": [],
   "source": []
  }
 ],
 "metadata": {
  "kernelspec": {
   "display_name": "Python 3",
   "language": "python",
   "name": "python3"
  },
  "language_info": {
   "codemirror_mode": {
    "name": "ipython",
    "version": 3
   },
   "file_extension": ".py",
   "mimetype": "text/x-python",
   "name": "python",
   "nbconvert_exporter": "python",
   "pygments_lexer": "ipython3",
   "version": "3.8.4rc1"
  }
 },
 "nbformat": 4,
 "nbformat_minor": 4
}
