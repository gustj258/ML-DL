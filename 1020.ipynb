{
 "cells": [
  {
   "cell_type": "code",
   "execution_count": 1,
   "metadata": {},
   "outputs": [
    {
     "data": {
      "text/plain": [
       "int"
      ]
     },
     "execution_count": 1,
     "metadata": {},
     "output_type": "execute_result"
    }
   ],
   "source": [
    "#friend 객체에 값을 할당하기\n",
    "friend = 1\n",
    "type(friend)"
   ]
  },
  {
   "cell_type": "code",
   "execution_count": 2,
   "metadata": {},
   "outputs": [
    {
     "name": "stdout",
     "output_type": "stream",
     "text": [
      "12.56 6.0\n"
     ]
    }
   ],
   "source": [
    "#연산을 이용해 원과 삼각형의 넓이 구하기\n",
    "r = 2\n",
    "circle_area = 3.14 * (r**2)\n",
    "x = 3\n",
    "y = 4\n",
    "triangle_area = x * y / 2\n",
    "print (circle_area, triangle_area)"
   ]
  },
  {
   "cell_type": "code",
   "execution_count": 3,
   "metadata": {},
   "outputs": [
    {
     "data": {
      "text/plain": [
       "'pypypy'"
      ]
     },
     "execution_count": 3,
     "metadata": {},
     "output_type": "execute_result"
    }
   ],
   "source": [
    "#문자열 계산하기\n",
    "'py' 'thon'\n",
    "'py' + 'thon'\n",
    "'py' * 3"
   ]
  },
  {
   "cell_type": "code",
   "execution_count": 4,
   "metadata": {},
   "outputs": [
    {
     "data": {
      "text/plain": [
       "'파썬'"
      ]
     },
     "execution_count": 4,
     "metadata": {},
     "output_type": "execute_result"
    }
   ],
   "source": [
    "a = \"파이썬\"\n",
    "a[1]\n",
    "a[1:4]\n",
    "a[:]\n",
    "a[::2] # 처음부터 2칸 간격으로 값 출력"
   ]
  },
  {
   "cell_type": "code",
   "execution_count": 6,
   "metadata": {},
   "outputs": [
    {
     "data": {
      "text/plain": [
       "'3.14'"
      ]
     },
     "execution_count": 6,
     "metadata": {},
     "output_type": "execute_result"
    }
   ],
   "source": [
    "#값의 형태를 변환하기\n",
    "# 실수형에서 문자열로 변환\n",
    "a = str(3.14)\n",
    "a"
   ]
  },
  {
   "cell_type": "code",
   "execution_count": 7,
   "metadata": {},
   "outputs": [
    {
     "ename": "TypeError",
     "evalue": "can only concatenate str (not \"int\") to str",
     "output_type": "error",
     "traceback": [
      "\u001b[1;31m---------------------------------------------------------------------------\u001b[0m",
      "\u001b[1;31mTypeError\u001b[0m                                 Traceback (most recent call last)",
      "\u001b[1;32m<ipython-input-7-9c7e888a4aa7>\u001b[0m in \u001b[0;36m<module>\u001b[1;34m\u001b[0m\n\u001b[1;32m----> 1\u001b[1;33m \u001b[0ma\u001b[0m \u001b[1;33m+\u001b[0m \u001b[1;36m1\u001b[0m \u001b[1;31m# 문자열에 숫자를 더하면 타입 에러가 발생한다.\u001b[0m\u001b[1;33m\u001b[0m\u001b[1;33m\u001b[0m\u001b[0m\n\u001b[0m",
      "\u001b[1;31mTypeError\u001b[0m: can only concatenate str (not \"int\") to str"
     ]
    }
   ],
   "source": [
    "a + 1 # 문자열에 숫자를 더하면 타입 에러가 발생한다."
   ]
  },
  {
   "cell_type": "code",
   "execution_count": 8,
   "metadata": {},
   "outputs": [
    {
     "data": {
      "text/plain": [
       "49"
      ]
     },
     "execution_count": 8,
     "metadata": {},
     "output_type": "execute_result"
    }
   ],
   "source": [
    "#문자열에서 정수로 변환\n",
    "b = int(\"49\")\n",
    "b"
   ]
  },
  {
   "cell_type": "code",
   "execution_count": 9,
   "metadata": {},
   "outputs": [
    {
     "data": {
      "text/plain": [
       "60"
      ]
     },
     "execution_count": 9,
     "metadata": {},
     "output_type": "execute_result"
    }
   ],
   "source": [
    "b + 11"
   ]
  },
  {
   "cell_type": "code",
   "execution_count": 10,
   "metadata": {},
   "outputs": [
    {
     "data": {
      "text/plain": [
       "23.0"
      ]
     },
     "execution_count": 10,
     "metadata": {},
     "output_type": "execute_result"
    }
   ],
   "source": [
    "#정수형에서 실수형으로 변환\n",
    "c = float(23)\n",
    "c"
   ]
  },
  {
   "cell_type": "code",
   "execution_count": 11,
   "metadata": {},
   "outputs": [
    {
     "data": {
      "text/plain": [
       "23.9"
      ]
     },
     "execution_count": 11,
     "metadata": {},
     "output_type": "execute_result"
    }
   ],
   "source": [
    "c + 0.9"
   ]
  },
  {
   "cell_type": "code",
   "execution_count": 12,
   "metadata": {},
   "outputs": [],
   "source": [
    "#함수 정의하고 연산하기\n",
    "\n",
    "#함수 정의\n",
    "def Times(a, b):\n",
    "    a = a + 1 #같은 함수의 내용은 들여쓰기가 같다\n",
    "    b = b + 1\n",
    "    return a * b"
   ]
  },
  {
   "cell_type": "code",
   "execution_count": 13,
   "metadata": {},
   "outputs": [
    {
     "name": "stderr",
     "output_type": "stream",
     "text": [
      "c:\\users\\gb-ofc-006\\appdata\\local\\programs\\python\\python38\\lib\\site-packages\\IPython\\lib\\pretty.py:607: VisibleDeprecationWarning: sctypeNA and typeNA will be removed in v1.18 of numpy\n",
      "  p.pretty(obj[key])\n"
     ]
    },
    {
     "data": {
      "text/plain": [
       "{'__name__': '__main__',\n",
       " '__doc__': 'python',\n",
       " '__package__': None,\n",
       " '__loader__': None,\n",
       " '__spec__': None,\n",
       " '__builtin__': <module 'builtins' (built-in)>,\n",
       " '__builtins__': {'__name__': 'builtins',\n",
       "  '__doc__': \"Built-in functions, exceptions, and other objects.\\n\\nNoteworthy: None is the `nil' object; Ellipsis represents `...' in slices.\",\n",
       "  '__package__': '',\n",
       "  '__loader__': _frozen_importlib.BuiltinImporter,\n",
       "  '__spec__': ModuleSpec(name='builtins', loader=<class '_frozen_importlib.BuiltinImporter'>),\n",
       "  '__build_class__': <function __build_class__>,\n",
       "  '__import__': <function __import__>,\n",
       "  'abs': <function abs(x, /)>,\n",
       "  'all': <function all(iterable, /)>,\n",
       "  'any': <function any(iterable, /)>,\n",
       "  'ascii': <function ascii(obj, /)>,\n",
       "  'bin': <function bin(number, /)>,\n",
       "  'breakpoint': <function breakpoint>,\n",
       "  'callable': <function callable(obj, /)>,\n",
       "  'chr': <function chr(i, /)>,\n",
       "  'compile': <function compile(source, filename, mode, flags=0, dont_inherit=False, optimize=-1, *, _feature_version=-1)>,\n",
       "  'delattr': <function delattr(obj, name, /)>,\n",
       "  'dir': <function dir>,\n",
       "  'divmod': <function divmod(x, y, /)>,\n",
       "  'eval': <function eval(source, globals=None, locals=None, /)>,\n",
       "  'exec': <function exec(source, globals=None, locals=None, /)>,\n",
       "  'format': <function format(value, format_spec='', /)>,\n",
       "  'getattr': <function getattr>,\n",
       "  'globals': <function globals()>,\n",
       "  'hasattr': <function hasattr(obj, name, /)>,\n",
       "  'hash': <function hash(obj, /)>,\n",
       "  'hex': <function hex(number, /)>,\n",
       "  'id': <function id(obj, /)>,\n",
       "  'input': <bound method Kernel.raw_input of <ipykernel.ipkernel.IPythonKernel object at 0x0000024E4BEAA4F0>>,\n",
       "  'isinstance': <function isinstance(obj, class_or_tuple, /)>,\n",
       "  'issubclass': <function issubclass(cls, class_or_tuple, /)>,\n",
       "  'iter': <function iter>,\n",
       "  'len': <function len(obj, /)>,\n",
       "  'locals': <function locals()>,\n",
       "  'max': <function max>,\n",
       "  'min': <function min>,\n",
       "  'next': <function next>,\n",
       "  'oct': <function oct(number, /)>,\n",
       "  'ord': <function ord(c, /)>,\n",
       "  'pow': <function pow(base, exp, mod=None)>,\n",
       "  'print': <function print>,\n",
       "  'repr': <function repr(obj, /)>,\n",
       "  'round': <function round(number, ndigits=None)>,\n",
       "  'setattr': <function setattr(obj, name, value, /)>,\n",
       "  'sorted': <function sorted(iterable, /, *, key=None, reverse=False)>,\n",
       "  'sum': <function sum(iterable, /, start=0)>,\n",
       "  'vars': <function vars>,\n",
       "  'None': None,\n",
       "  'Ellipsis': Ellipsis,\n",
       "  'NotImplemented': NotImplemented,\n",
       "  'False': False,\n",
       "  'True': True,\n",
       "  'bool': bool,\n",
       "  'memoryview': memoryview,\n",
       "  'bytearray': bytearray,\n",
       "  'bytes': bytes,\n",
       "  'classmethod': classmethod,\n",
       "  'complex': complex,\n",
       "  'dict': dict,\n",
       "  'enumerate': enumerate,\n",
       "  'filter': filter,\n",
       "  'float': float,\n",
       "  'frozenset': frozenset,\n",
       "  'property': property,\n",
       "  'int': int,\n",
       "  'list': list,\n",
       "  'map': map,\n",
       "  'object': object,\n",
       "  'range': range,\n",
       "  'reversed': reversed,\n",
       "  'set': set,\n",
       "  'slice': slice,\n",
       "  'staticmethod': staticmethod,\n",
       "  'str': str,\n",
       "  'super': super,\n",
       "  'tuple': tuple,\n",
       "  'type': type,\n",
       "  'zip': zip,\n",
       "  '__debug__': True,\n",
       "  'BaseException': BaseException,\n",
       "  'Exception': Exception,\n",
       "  'TypeError': TypeError,\n",
       "  'StopAsyncIteration': StopAsyncIteration,\n",
       "  'StopIteration': StopIteration,\n",
       "  'GeneratorExit': GeneratorExit,\n",
       "  'SystemExit': SystemExit,\n",
       "  'KeyboardInterrupt': KeyboardInterrupt,\n",
       "  'ImportError': ImportError,\n",
       "  'ModuleNotFoundError': ModuleNotFoundError,\n",
       "  'OSError': OSError,\n",
       "  'EnvironmentError': OSError,\n",
       "  'IOError': OSError,\n",
       "  'WindowsError': OSError,\n",
       "  'EOFError': EOFError,\n",
       "  'RuntimeError': RuntimeError,\n",
       "  'RecursionError': RecursionError,\n",
       "  'NotImplementedError': NotImplementedError,\n",
       "  'NameError': NameError,\n",
       "  'UnboundLocalError': UnboundLocalError,\n",
       "  'AttributeError': AttributeError,\n",
       "  'SyntaxError': SyntaxError,\n",
       "  'IndentationError': IndentationError,\n",
       "  'TabError': TabError,\n",
       "  'LookupError': LookupError,\n",
       "  'IndexError': IndexError,\n",
       "  'KeyError': KeyError,\n",
       "  'ValueError': ValueError,\n",
       "  'UnicodeError': UnicodeError,\n",
       "  'UnicodeEncodeError': UnicodeEncodeError,\n",
       "  'UnicodeDecodeError': UnicodeDecodeError,\n",
       "  'UnicodeTranslateError': UnicodeTranslateError,\n",
       "  'AssertionError': AssertionError,\n",
       "  'ArithmeticError': ArithmeticError,\n",
       "  'FloatingPointError': FloatingPointError,\n",
       "  'OverflowError': OverflowError,\n",
       "  'ZeroDivisionError': ZeroDivisionError,\n",
       "  'SystemError': SystemError,\n",
       "  'ReferenceError': ReferenceError,\n",
       "  'MemoryError': MemoryError,\n",
       "  'BufferError': BufferError,\n",
       "  'Warning': Warning,\n",
       "  'UserWarning': UserWarning,\n",
       "  'DeprecationWarning': DeprecationWarning,\n",
       "  'PendingDeprecationWarning': PendingDeprecationWarning,\n",
       "  'SyntaxWarning': SyntaxWarning,\n",
       "  'RuntimeWarning': RuntimeWarning,\n",
       "  'FutureWarning': FutureWarning,\n",
       "  'ImportWarning': ImportWarning,\n",
       "  'UnicodeWarning': UnicodeWarning,\n",
       "  'BytesWarning': BytesWarning,\n",
       "  'ResourceWarning': ResourceWarning,\n",
       "  'ConnectionError': ConnectionError,\n",
       "  'BlockingIOError': BlockingIOError,\n",
       "  'BrokenPipeError': BrokenPipeError,\n",
       "  'ChildProcessError': ChildProcessError,\n",
       "  'ConnectionAbortedError': ConnectionAbortedError,\n",
       "  'ConnectionRefusedError': ConnectionRefusedError,\n",
       "  'ConnectionResetError': ConnectionResetError,\n",
       "  'FileExistsError': FileExistsError,\n",
       "  'FileNotFoundError': FileNotFoundError,\n",
       "  'IsADirectoryError': IsADirectoryError,\n",
       "  'NotADirectoryError': NotADirectoryError,\n",
       "  'InterruptedError': InterruptedError,\n",
       "  'PermissionError': PermissionError,\n",
       "  'ProcessLookupError': ProcessLookupError,\n",
       "  'TimeoutError': TimeoutError,\n",
       "  'open': <function io.open(file, mode='r', buffering=-1, encoding=None, errors=None, newline=None, closefd=True, opener=None)>,\n",
       "  'copyright': Copyright (c) 2001-2020 Python Software Foundation.\n",
       "  All Rights Reserved.\n",
       "  \n",
       "  Copyright (c) 2000 BeOpen.com.\n",
       "  All Rights Reserved.\n",
       "  \n",
       "  Copyright (c) 1995-2001 Corporation for National Research Initiatives.\n",
       "  All Rights Reserved.\n",
       "  \n",
       "  Copyright (c) 1991-1995 Stichting Mathematisch Centrum, Amsterdam.\n",
       "  All Rights Reserved.,\n",
       "  'credits':     Thanks to CWI, CNRI, BeOpen.com, Zope Corporation and a cast of thousands\n",
       "      for supporting Python development.  See www.python.org for more information.,\n",
       "  'license': Type license() to see the full license text,\n",
       "  'help': Type help() for interactive help, or help(object) for help about object.,\n",
       "  '__IPYTHON__': True,\n",
       "  'display': <function IPython.core.display.display(*objs, include=None, exclude=None, metadata=None, transient=None, display_id=None, **kwargs)>,\n",
       "  'get_ipython': <bound method InteractiveShell.get_ipython of <ipykernel.zmqshell.ZMQInteractiveShell object at 0x0000024E4BE90FD0>>},\n",
       " '_ih': ['',\n",
       "  'friend = 1\\ntype(friend)',\n",
       "  'r = 2\\ncircle_area = 3.14 * (r**2)\\nx = 3\\ny = 4\\ntriangle_area = x * y / 2\\nprint (circle_area, triangle_area)',\n",
       "  \"#문자열 계산하기\\n'py' 'thon'\\n'py' + 'thon'\\n'py' * 3\",\n",
       "  'a = \"파이썬\"\\na[1]\\na[1:4]\\na[:]\\na[::2] # 처음부터 2칸 간격으로 값 출력',\n",
       "  '#값의 형태를 변환하기\\n# 실수형에서 문자열로 변환\\na = str(3.14)\\na\\n\\na + 1 # 문자열에 숫자를 더하면 타입 에러가 발생한다.',\n",
       "  '#값의 형태를 변환하기\\n# 실수형에서 문자열로 변환\\na = str(3.14)\\na',\n",
       "  'a + 1 # 문자열에 숫자를 더하면 타입 에러가 발생한다.',\n",
       "  'b = int(\"49\")\\nb',\n",
       "  'b + 11',\n",
       "  '#정수형에서 실수형으로 변환\\nc = float(23)\\nc',\n",
       "  'c + 0.9',\n",
       "  '#함수 정의하고 연산하기\\n\\n#함수 정의\\ndef Times(a, b):\\n    a = a + 1 #같은 함수의 내용은 들여쓰기가 같다\\n    b = b + 1\\n    return a * b',\n",
       "  'globals()'],\n",
       " '_oh': {1: int,\n",
       "  3: 'pypypy',\n",
       "  4: '파썬',\n",
       "  6: '3.14',\n",
       "  8: 49,\n",
       "  9: 60,\n",
       "  10: 23.0,\n",
       "  11: 23.9},\n",
       " '_dh': ['C:\\\\Users\\\\GB-OFC-006\\\\Downloads\\\\python\\\\study'],\n",
       " 'In': ['',\n",
       "  'friend = 1\\ntype(friend)',\n",
       "  'r = 2\\ncircle_area = 3.14 * (r**2)\\nx = 3\\ny = 4\\ntriangle_area = x * y / 2\\nprint (circle_area, triangle_area)',\n",
       "  \"#문자열 계산하기\\n'py' 'thon'\\n'py' + 'thon'\\n'py' * 3\",\n",
       "  'a = \"파이썬\"\\na[1]\\na[1:4]\\na[:]\\na[::2] # 처음부터 2칸 간격으로 값 출력',\n",
       "  '#값의 형태를 변환하기\\n# 실수형에서 문자열로 변환\\na = str(3.14)\\na\\n\\na + 1 # 문자열에 숫자를 더하면 타입 에러가 발생한다.',\n",
       "  '#값의 형태를 변환하기\\n# 실수형에서 문자열로 변환\\na = str(3.14)\\na',\n",
       "  'a + 1 # 문자열에 숫자를 더하면 타입 에러가 발생한다.',\n",
       "  'b = int(\"49\")\\nb',\n",
       "  'b + 11',\n",
       "  '#정수형에서 실수형으로 변환\\nc = float(23)\\nc',\n",
       "  'c + 0.9',\n",
       "  '#함수 정의하고 연산하기\\n\\n#함수 정의\\ndef Times(a, b):\\n    a = a + 1 #같은 함수의 내용은 들여쓰기가 같다\\n    b = b + 1\\n    return a * b',\n",
       "  'globals()'],\n",
       " 'Out': {1: int,\n",
       "  3: 'pypypy',\n",
       "  4: '파썬',\n",
       "  6: '3.14',\n",
       "  8: 49,\n",
       "  9: 60,\n",
       "  10: 23.0,\n",
       "  11: 23.9},\n",
       " 'get_ipython': <bound method InteractiveShell.get_ipython of <ipykernel.zmqshell.ZMQInteractiveShell object at 0x0000024E4BE90FD0>>,\n",
       " 'exit': <IPython.core.autocall.ZMQExitAutocall at 0x24e4bf33b20>,\n",
       " 'quit': <IPython.core.autocall.ZMQExitAutocall at 0x24e4bf33b20>,\n",
       " '_': 23.9,\n",
       " '__': 23.0,\n",
       " '___': 60,\n",
       " 'numpy': <module 'numpy' from 'c:\\\\users\\\\gb-ofc-006\\\\appdata\\\\local\\\\programs\\\\python\\\\python38\\\\lib\\\\site-packages\\\\numpy\\\\__init__.py'>,\n",
       " 'matplotlib': <module 'matplotlib' from 'c:\\\\users\\\\gb-ofc-006\\\\appdata\\\\local\\\\programs\\\\python\\\\python38\\\\lib\\\\site-packages\\\\matplotlib\\\\__init__.py'>,\n",
       " 'pylab': <module 'matplotlib.pylab' from 'c:\\\\users\\\\gb-ofc-006\\\\appdata\\\\local\\\\programs\\\\python\\\\python38\\\\lib\\\\site-packages\\\\matplotlib\\\\pylab.py'>,\n",
       " 'mlab': <module 'matplotlib.mlab' from 'c:\\\\users\\\\gb-ofc-006\\\\appdata\\\\local\\\\programs\\\\python\\\\python38\\\\lib\\\\site-packages\\\\matplotlib\\\\mlab.py'>,\n",
       " 'pyplot': <module 'matplotlib.pyplot' from 'c:\\\\users\\\\gb-ofc-006\\\\appdata\\\\local\\\\programs\\\\python\\\\python38\\\\lib\\\\site-packages\\\\matplotlib\\\\pyplot.py'>,\n",
       " 'np': <module 'numpy' from 'c:\\\\users\\\\gb-ofc-006\\\\appdata\\\\local\\\\programs\\\\python\\\\python38\\\\lib\\\\site-packages\\\\numpy\\\\__init__.py'>,\n",
       " 'plt': <module 'matplotlib.pyplot' from 'c:\\\\users\\\\gb-ofc-006\\\\appdata\\\\local\\\\programs\\\\python\\\\python38\\\\lib\\\\site-packages\\\\matplotlib\\\\pyplot.py'>,\n",
       " 'flatten': <function matplotlib.cbook.flatten(seq, scalarp=<function is_scalar_or_string at 0x0000024E523BF280>)>,\n",
       " 'silent_list': matplotlib.cbook.silent_list,\n",
       " 'mpl': <module 'matplotlib' from 'c:\\\\users\\\\gb-ofc-006\\\\appdata\\\\local\\\\programs\\\\python\\\\python38\\\\lib\\\\site-packages\\\\matplotlib\\\\__init__.py'>,\n",
       " 'date2num': <function matplotlib.dates.date2num(d)>,\n",
       " 'num2date': <function matplotlib.dates.num2date(x, tz=None)>,\n",
       " 'datestr2num': <function matplotlib.dates.datestr2num(d, default=None)>,\n",
       " 'drange': <function matplotlib.dates.drange(dstart, dend, delta)>,\n",
       " 'epoch2num': <function matplotlib.dates.epoch2num(e)>,\n",
       " 'num2epoch': <function matplotlib.dates.num2epoch(d)>,\n",
       " 'mx2num': <function matplotlib.dates.mx2num(mxdates)>,\n",
       " 'DateFormatter': matplotlib.dates.DateFormatter,\n",
       " 'IndexDateFormatter': matplotlib.dates.IndexDateFormatter,\n",
       " 'DateLocator': matplotlib.dates.DateLocator,\n",
       " 'RRuleLocator': matplotlib.dates.RRuleLocator,\n",
       " 'YearLocator': matplotlib.dates.YearLocator,\n",
       " 'MonthLocator': matplotlib.dates.MonthLocator,\n",
       " 'WeekdayLocator': matplotlib.dates.WeekdayLocator,\n",
       " 'DayLocator': matplotlib.dates.DayLocator,\n",
       " 'HourLocator': matplotlib.dates.HourLocator,\n",
       " 'MinuteLocator': matplotlib.dates.MinuteLocator,\n",
       " 'SecondLocator': matplotlib.dates.SecondLocator,\n",
       " 'rrule': dateutil.rrule.rrule,\n",
       " 'MO': MO,\n",
       " 'TU': TU,\n",
       " 'WE': WE,\n",
       " 'TH': TH,\n",
       " 'FR': FR,\n",
       " 'SA': SA,\n",
       " 'SU': SU,\n",
       " 'YEARLY': 0,\n",
       " 'MONTHLY': 1,\n",
       " 'WEEKLY': 2,\n",
       " 'DAILY': 3,\n",
       " 'HOURLY': 4,\n",
       " 'MINUTELY': 5,\n",
       " 'SECONDLY': 6,\n",
       " 'relativedelta': dateutil.relativedelta.relativedelta,\n",
       " 'detrend': <function matplotlib.mlab.detrend(x, key=None, axis=None)>,\n",
       " 'detrend_linear': <function matplotlib.mlab.detrend_linear(y)>,\n",
       " 'detrend_mean': <function matplotlib.mlab.detrend_mean(x, axis=None)>,\n",
       " 'detrend_none': <function matplotlib.mlab.detrend_none(x, axis=None)>,\n",
       " 'window_hanning': <function matplotlib.mlab.window_hanning(x)>,\n",
       " 'window_none': <function matplotlib.mlab.window_none(x)>,\n",
       " 'cbook': <module 'matplotlib.cbook' from 'c:\\\\users\\\\gb-ofc-006\\\\appdata\\\\local\\\\programs\\\\python\\\\python38\\\\lib\\\\site-packages\\\\matplotlib\\\\cbook\\\\__init__.py'>,\n",
       " 'functools': <module 'functools' from 'c:\\\\users\\\\gb-ofc-006\\\\appdata\\\\local\\\\programs\\\\python\\\\python38\\\\lib\\\\functools.py'>,\n",
       " 'importlib': <module 'importlib' from 'c:\\\\users\\\\gb-ofc-006\\\\appdata\\\\local\\\\programs\\\\python\\\\python38\\\\lib\\\\importlib\\\\__init__.py'>,\n",
       " 'inspect': <module 'inspect' from 'c:\\\\users\\\\gb-ofc-006\\\\appdata\\\\local\\\\programs\\\\python\\\\python38\\\\lib\\\\inspect.py'>,\n",
       " 'logging': <module 'logging' from 'c:\\\\users\\\\gb-ofc-006\\\\appdata\\\\local\\\\programs\\\\python\\\\python38\\\\lib\\\\logging\\\\__init__.py'>,\n",
       " 'Number': numbers.Number,\n",
       " 're': <module 're' from 'c:\\\\users\\\\gb-ofc-006\\\\appdata\\\\local\\\\programs\\\\python\\\\python38\\\\lib\\\\re.py'>,\n",
       " 'sys': <module 'sys' (built-in)>,\n",
       " 'time': <module 'time' (built-in)>,\n",
       " 'threading': <module 'threading' from 'c:\\\\users\\\\gb-ofc-006\\\\appdata\\\\local\\\\programs\\\\python\\\\python38\\\\lib\\\\threading.py'>,\n",
       " 'cycler': <function cycler.cycler(*args, **kwargs)>,\n",
       " 'rcsetup': <module 'matplotlib.rcsetup' from 'c:\\\\users\\\\gb-ofc-006\\\\appdata\\\\local\\\\programs\\\\python\\\\python38\\\\lib\\\\site-packages\\\\matplotlib\\\\rcsetup.py'>,\n",
       " 'style': <module 'matplotlib.style' from 'c:\\\\users\\\\gb-ofc-006\\\\appdata\\\\local\\\\programs\\\\python\\\\python38\\\\lib\\\\site-packages\\\\matplotlib\\\\style\\\\__init__.py'>,\n",
       " 'interactive': <function matplotlib.interactive(b)>,\n",
       " 'docstring': <module 'matplotlib.docstring' from 'c:\\\\users\\\\gb-ofc-006\\\\appdata\\\\local\\\\programs\\\\python\\\\python38\\\\lib\\\\site-packages\\\\matplotlib\\\\docstring.py'>,\n",
       " 'FigureCanvasBase': matplotlib.backend_bases.FigureCanvasBase,\n",
       " 'MouseButton': <enum 'MouseButton'>,\n",
       " 'Figure': matplotlib.figure.Figure,\n",
       " 'figaspect': <function matplotlib.figure.figaspect(arg)>,\n",
       " 'GridSpec': matplotlib.gridspec.GridSpec,\n",
       " 'rcParams': RcParams({'_internal.classic_mode': False,\n",
       "           'agg.path.chunksize': 0,\n",
       "           'animation.avconv_args': [],\n",
       "           'animation.avconv_path': 'avconv',\n",
       "           'animation.bitrate': -1,\n",
       "           'animation.codec': 'h264',\n",
       "           'animation.convert_args': [],\n",
       "           'animation.convert_path': 'convert',\n",
       "           'animation.embed_limit': 20.0,\n",
       "           'animation.ffmpeg_args': [],\n",
       "           'animation.ffmpeg_path': 'ffmpeg',\n",
       "           'animation.frame_format': 'png',\n",
       "           'animation.html': 'none',\n",
       "           'animation.html_args': [],\n",
       "           'animation.writer': 'ffmpeg',\n",
       "           'axes.autolimit_mode': 'data',\n",
       "           'axes.axisbelow': 'line',\n",
       "           'axes.edgecolor': 'black',\n",
       "           'axes.facecolor': 'white',\n",
       "           'axes.formatter.limits': [-5, 6],\n",
       "           'axes.formatter.min_exponent': 0,\n",
       "           'axes.formatter.offset_threshold': 4,\n",
       "           'axes.formatter.use_locale': False,\n",
       "           'axes.formatter.use_mathtext': False,\n",
       "           'axes.formatter.useoffset': True,\n",
       "           'axes.grid': False,\n",
       "           'axes.grid.axis': 'both',\n",
       "           'axes.grid.which': 'major',\n",
       "           'axes.labelcolor': 'black',\n",
       "           'axes.labelpad': 4.0,\n",
       "           'axes.labelsize': 'medium',\n",
       "           'axes.labelweight': 'normal',\n",
       "           'axes.linewidth': 0.8,\n",
       "           'axes.prop_cycle': cycler('color', ['#1f77b4', '#ff7f0e', '#2ca02c', '#d62728', '#9467bd', '#8c564b', '#e377c2', '#7f7f7f', '#bcbd22', '#17becf']),\n",
       "           'axes.spines.bottom': True,\n",
       "           'axes.spines.left': True,\n",
       "           'axes.spines.right': True,\n",
       "           'axes.spines.top': True,\n",
       "           'axes.titlecolor': 'auto',\n",
       "           'axes.titlelocation': 'center',\n",
       "           'axes.titlepad': 6.0,\n",
       "           'axes.titlesize': 'large',\n",
       "           'axes.titleweight': 'normal',\n",
       "           'axes.titley': None,\n",
       "           'axes.unicode_minus': True,\n",
       "           'axes.xmargin': 0.05,\n",
       "           'axes.ymargin': 0.05,\n",
       "           'axes3d.grid': True,\n",
       "           'backend': 'module://ipykernel.pylab.backend_inline',\n",
       "           'backend_fallback': True,\n",
       "           'boxplot.bootstrap': None,\n",
       "           'boxplot.boxprops.color': 'black',\n",
       "           'boxplot.boxprops.linestyle': '-',\n",
       "           'boxplot.boxprops.linewidth': 1.0,\n",
       "           'boxplot.capprops.color': 'black',\n",
       "           'boxplot.capprops.linestyle': '-',\n",
       "           'boxplot.capprops.linewidth': 1.0,\n",
       "           'boxplot.flierprops.color': 'black',\n",
       "           'boxplot.flierprops.linestyle': 'none',\n",
       "           'boxplot.flierprops.linewidth': 1.0,\n",
       "           'boxplot.flierprops.marker': 'o',\n",
       "           'boxplot.flierprops.markeredgecolor': 'black',\n",
       "           'boxplot.flierprops.markeredgewidth': 1.0,\n",
       "           'boxplot.flierprops.markerfacecolor': 'none',\n",
       "           'boxplot.flierprops.markersize': 6.0,\n",
       "           'boxplot.meanline': False,\n",
       "           'boxplot.meanprops.color': 'C2',\n",
       "           'boxplot.meanprops.linestyle': '--',\n",
       "           'boxplot.meanprops.linewidth': 1.0,\n",
       "           'boxplot.meanprops.marker': '^',\n",
       "           'boxplot.meanprops.markeredgecolor': 'C2',\n",
       "           'boxplot.meanprops.markerfacecolor': 'C2',\n",
       "           'boxplot.meanprops.markersize': 6.0,\n",
       "           'boxplot.medianprops.color': 'C1',\n",
       "           'boxplot.medianprops.linestyle': '-',\n",
       "           'boxplot.medianprops.linewidth': 1.0,\n",
       "           'boxplot.notch': False,\n",
       "           'boxplot.patchartist': False,\n",
       "           'boxplot.showbox': True,\n",
       "           'boxplot.showcaps': True,\n",
       "           'boxplot.showfliers': True,\n",
       "           'boxplot.showmeans': False,\n",
       "           'boxplot.vertical': True,\n",
       "           'boxplot.whiskerprops.color': 'black',\n",
       "           'boxplot.whiskerprops.linestyle': '-',\n",
       "           'boxplot.whiskerprops.linewidth': 1.0,\n",
       "           'boxplot.whiskers': 1.5,\n",
       "           'contour.corner_mask': True,\n",
       "           'contour.linewidth': None,\n",
       "           'contour.negative_linestyle': 'dashed',\n",
       "           'date.autoformatter.day': '%Y-%m-%d',\n",
       "           'date.autoformatter.hour': '%m-%d %H',\n",
       "           'date.autoformatter.microsecond': '%M:%S.%f',\n",
       "           'date.autoformatter.minute': '%d %H:%M',\n",
       "           'date.autoformatter.month': '%Y-%m',\n",
       "           'date.autoformatter.second': '%H:%M:%S',\n",
       "           'date.autoformatter.year': '%Y',\n",
       "           'date.epoch': '1970-01-01T00:00:00',\n",
       "           'docstring.hardcopy': False,\n",
       "           'errorbar.capsize': 0.0,\n",
       "           'figure.autolayout': False,\n",
       "           'figure.constrained_layout.h_pad': 0.04167,\n",
       "           'figure.constrained_layout.hspace': 0.02,\n",
       "           'figure.constrained_layout.use': False,\n",
       "           'figure.constrained_layout.w_pad': 0.04167,\n",
       "           'figure.constrained_layout.wspace': 0.02,\n",
       "           'figure.dpi': 72.0,\n",
       "           'figure.edgecolor': (1, 1, 1, 0),\n",
       "           'figure.facecolor': (1, 1, 1, 0),\n",
       "           'figure.figsize': [6.0, 4.0],\n",
       "           'figure.frameon': True,\n",
       "           'figure.max_open_warning': 20,\n",
       "           'figure.raise_window': True,\n",
       "           'figure.subplot.bottom': 0.125,\n",
       "           'figure.subplot.hspace': 0.2,\n",
       "           'figure.subplot.left': 0.125,\n",
       "           'figure.subplot.right': 0.9,\n",
       "           'figure.subplot.top': 0.88,\n",
       "           'figure.subplot.wspace': 0.2,\n",
       "           'figure.titlesize': 'large',\n",
       "           'figure.titleweight': 'normal',\n",
       "           'font.cursive': ['Apple Chancery',\n",
       "                            'Textile',\n",
       "                            'Zapf Chancery',\n",
       "                            'Sand',\n",
       "                            'Script MT',\n",
       "                            'Felipa',\n",
       "                            'cursive'],\n",
       "           'font.family': ['sans-serif'],\n",
       "           'font.fantasy': ['Comic Neue',\n",
       "                            'Comic Sans MS',\n",
       "                            'Chicago',\n",
       "                            'Charcoal',\n",
       "                            'ImpactWestern',\n",
       "                            'Humor Sans',\n",
       "                            'xkcd',\n",
       "                            'fantasy'],\n",
       "           'font.monospace': ['DejaVu Sans Mono',\n",
       "                              'Bitstream Vera Sans Mono',\n",
       "                              'Computer Modern Typewriter',\n",
       "                              'Andale Mono',\n",
       "                              'Nimbus Mono L',\n",
       "                              'Courier New',\n",
       "                              'Courier',\n",
       "                              'Fixed',\n",
       "                              'Terminal',\n",
       "                              'monospace'],\n",
       "           'font.sans-serif': ['DejaVu Sans',\n",
       "                               'Bitstream Vera Sans',\n",
       "                               'Computer Modern Sans Serif',\n",
       "                               'Lucida Grande',\n",
       "                               'Verdana',\n",
       "                               'Geneva',\n",
       "                               'Lucid',\n",
       "                               'Arial',\n",
       "                               'Helvetica',\n",
       "                               'Avant Garde',\n",
       "                               'sans-serif'],\n",
       "           'font.serif': ['DejaVu Serif',\n",
       "                          'Bitstream Vera Serif',\n",
       "                          'Computer Modern Roman',\n",
       "                          'New Century Schoolbook',\n",
       "                          'Century Schoolbook L',\n",
       "                          'Utopia',\n",
       "                          'ITC Bookman',\n",
       "                          'Bookman',\n",
       "                          'Nimbus Roman No9 L',\n",
       "                          'Times New Roman',\n",
       "                          'Times',\n",
       "                          'Palatino',\n",
       "                          'Charter',\n",
       "                          'serif'],\n",
       "           'font.size': 10.0,\n",
       "           'font.stretch': 'normal',\n",
       "           'font.style': 'normal',\n",
       "           'font.variant': 'normal',\n",
       "           'font.weight': 'normal',\n",
       "           'grid.alpha': 1.0,\n",
       "           'grid.color': '#b0b0b0',\n",
       "           'grid.linestyle': '-',\n",
       "           'grid.linewidth': 0.8,\n",
       "           'hatch.color': 'black',\n",
       "           'hatch.linewidth': 1.0,\n",
       "           'hist.bins': 10,\n",
       "           'image.aspect': 'equal',\n",
       "           'image.cmap': 'viridis',\n",
       "           'image.composite_image': True,\n",
       "           'image.interpolation': 'antialiased',\n",
       "           'image.lut': 256,\n",
       "           'image.origin': 'upper',\n",
       "           'image.resample': True,\n",
       "           'interactive': True,\n",
       "           'keymap.all_axes': ['a'],\n",
       "           'keymap.back': ['left', 'c', 'backspace', 'MouseButton.BACK'],\n",
       "           'keymap.copy': ['ctrl+c', 'cmd+c'],\n",
       "           'keymap.forward': ['right', 'v', 'MouseButton.FORWARD'],\n",
       "           'keymap.fullscreen': ['f', 'ctrl+f'],\n",
       "           'keymap.grid': ['g'],\n",
       "           'keymap.grid_minor': ['G'],\n",
       "           'keymap.help': ['f1'],\n",
       "           'keymap.home': ['h', 'r', 'home'],\n",
       "           'keymap.pan': ['p'],\n",
       "           'keymap.quit': ['ctrl+w', 'cmd+w', 'q'],\n",
       "           'keymap.quit_all': [],\n",
       "           'keymap.save': ['s', 'ctrl+s'],\n",
       "           'keymap.xscale': ['k', 'L'],\n",
       "           'keymap.yscale': ['l'],\n",
       "           'keymap.zoom': ['o'],\n",
       "           'legend.borderaxespad': 0.5,\n",
       "           'legend.borderpad': 0.4,\n",
       "           'legend.columnspacing': 2.0,\n",
       "           'legend.edgecolor': '0.8',\n",
       "           'legend.facecolor': 'inherit',\n",
       "           'legend.fancybox': True,\n",
       "           'legend.fontsize': 'medium',\n",
       "           'legend.framealpha': 0.8,\n",
       "           'legend.frameon': True,\n",
       "           'legend.handleheight': 0.7,\n",
       "           'legend.handlelength': 2.0,\n",
       "           'legend.handletextpad': 0.8,\n",
       "           'legend.labelspacing': 0.5,\n",
       "           'legend.loc': 'best',\n",
       "           'legend.markerscale': 1.0,\n",
       "           'legend.numpoints': 1,\n",
       "           'legend.scatterpoints': 1,\n",
       "           'legend.shadow': False,\n",
       "           'legend.title_fontsize': None,\n",
       "           'lines.antialiased': True,\n",
       "           'lines.color': 'C0',\n",
       "           'lines.dash_capstyle': 'butt',\n",
       "           'lines.dash_joinstyle': 'round',\n",
       "           'lines.dashdot_pattern': [6.4, 1.6, 1.0, 1.6],\n",
       "           'lines.dashed_pattern': [3.7, 1.6],\n",
       "           'lines.dotted_pattern': [1.0, 1.65],\n",
       "           'lines.linestyle': '-',\n",
       "           'lines.linewidth': 1.5,\n",
       "           'lines.marker': 'None',\n",
       "           'lines.markeredgecolor': 'auto',\n",
       "           'lines.markeredgewidth': 1.0,\n",
       "           'lines.markerfacecolor': 'auto',\n",
       "           'lines.markersize': 6.0,\n",
       "           'lines.scale_dashes': True,\n",
       "           'lines.solid_capstyle': 'projecting',\n",
       "           'lines.solid_joinstyle': 'round',\n",
       "           'markers.fillstyle': 'full',\n",
       "           'mathtext.bf': 'sans:bold',\n",
       "           'mathtext.cal': 'cursive',\n",
       "           'mathtext.default': 'it',\n",
       "           'mathtext.fallback': 'cm',\n",
       "           'mathtext.fallback_to_cm': None,\n",
       "           'mathtext.fontset': 'dejavusans',\n",
       "           'mathtext.it': 'sans:italic',\n",
       "           'mathtext.rm': 'sans',\n",
       "           'mathtext.sf': 'sans',\n",
       "           'mathtext.tt': 'monospace',\n",
       "           'mpl_toolkits.legacy_colorbar': True,\n",
       "           'patch.antialiased': True,\n",
       "           'patch.edgecolor': 'black',\n",
       "           'patch.facecolor': 'C0',\n",
       "           'patch.force_edgecolor': False,\n",
       "           'patch.linewidth': 1.0,\n",
       "           'path.effects': [],\n",
       "           'path.simplify': True,\n",
       "           'path.simplify_threshold': 0.111111111111,\n",
       "           'path.sketch': None,\n",
       "           'path.snap': True,\n",
       "           'pcolor.shading': 'flat',\n",
       "           'pdf.compression': 6,\n",
       "           'pdf.fonttype': 3,\n",
       "           'pdf.inheritcolor': False,\n",
       "           'pdf.use14corefonts': False,\n",
       "           'pgf.preamble': '',\n",
       "           'pgf.rcfonts': True,\n",
       "           'pgf.texsystem': 'xelatex',\n",
       "           'polaraxes.grid': True,\n",
       "           'ps.distiller.res': 6000,\n",
       "           'ps.fonttype': 3,\n",
       "           'ps.papersize': 'letter',\n",
       "           'ps.useafm': False,\n",
       "           'ps.usedistiller': None,\n",
       "           'savefig.bbox': None,\n",
       "           'savefig.directory': '~',\n",
       "           'savefig.dpi': 'figure',\n",
       "           'savefig.edgecolor': 'auto',\n",
       "           'savefig.facecolor': 'auto',\n",
       "           'savefig.format': 'png',\n",
       "           'savefig.jpeg_quality': 95,\n",
       "           'savefig.orientation': 'portrait',\n",
       "           'savefig.pad_inches': 0.1,\n",
       "           'savefig.transparent': False,\n",
       "           'scatter.edgecolors': 'face',\n",
       "           'scatter.marker': 'o',\n",
       "           'svg.fonttype': 'path',\n",
       "           'svg.hashsalt': None,\n",
       "           'svg.image_inline': True,\n",
       "           'text.antialiased': True,\n",
       "           'text.color': 'black',\n",
       "           'text.hinting': 'force_autohint',\n",
       "           'text.hinting_factor': 8,\n",
       "           'text.kerning_factor': 0,\n",
       "           'text.latex.preamble': '',\n",
       "           'text.latex.preview': False,\n",
       "           'text.usetex': False,\n",
       "           'timezone': 'UTC',\n",
       "           'tk.window_focus': False,\n",
       "           'toolbar': 'toolbar2',\n",
       "           'webagg.address': '127.0.0.1',\n",
       "           'webagg.open_in_browser': True,\n",
       "           'webagg.port': 8988,\n",
       "           'webagg.port_retries': 50,\n",
       "           'xaxis.labellocation': 'center',\n",
       "           'xtick.alignment': 'center',\n",
       "           'xtick.bottom': True,\n",
       "           'xtick.color': 'black',\n",
       "           'xtick.direction': 'out',\n",
       "           'xtick.labelbottom': True,\n",
       "           'xtick.labelsize': 'medium',\n",
       "           'xtick.labeltop': False,\n",
       "           'xtick.major.bottom': True,\n",
       "           'xtick.major.pad': 3.5,\n",
       "           'xtick.major.size': 3.5,\n",
       "           'xtick.major.top': True,\n",
       "           'xtick.major.width': 0.8,\n",
       "           'xtick.minor.bottom': True,\n",
       "           'xtick.minor.pad': 3.4,\n",
       "           'xtick.minor.size': 2.0,\n",
       "           'xtick.minor.top': True,\n",
       "           'xtick.minor.visible': False,\n",
       "           'xtick.minor.width': 0.6,\n",
       "           'xtick.top': False,\n",
       "           'yaxis.labellocation': 'center',\n",
       "           'ytick.alignment': 'center_baseline',\n",
       "           'ytick.color': 'black',\n",
       "           'ytick.direction': 'out',\n",
       "           'ytick.labelleft': True,\n",
       "           'ytick.labelright': False,\n",
       "           'ytick.labelsize': 'medium',\n",
       "           'ytick.left': True,\n",
       "           'ytick.major.left': True,\n",
       "           'ytick.major.pad': 3.5,\n",
       "           'ytick.major.right': True,\n",
       "           'ytick.major.size': 3.5,\n",
       "           'ytick.major.width': 0.8,\n",
       "           'ytick.minor.left': True,\n",
       "           'ytick.minor.pad': 3.4,\n",
       "           'ytick.minor.right': True,\n",
       "           'ytick.minor.size': 2.0,\n",
       "           'ytick.minor.visible': False,\n",
       "           'ytick.minor.width': 0.6,\n",
       "           'ytick.right': False}),\n",
       " 'rcParamsDefault': RcParams({'_internal.classic_mode': False,\n",
       "           'agg.path.chunksize': 0,\n",
       "           'animation.avconv_args': [],\n",
       "           'animation.avconv_path': 'avconv',\n",
       "           'animation.bitrate': -1,\n",
       "           'animation.codec': 'h264',\n",
       "           'animation.convert_args': [],\n",
       "           'animation.convert_path': 'convert',\n",
       "           'animation.embed_limit': 20.0,\n",
       "           'animation.ffmpeg_args': [],\n",
       "           'animation.ffmpeg_path': 'ffmpeg',\n",
       "           'animation.frame_format': 'png',\n",
       "           'animation.html': 'none',\n",
       "           'animation.html_args': [],\n",
       "           'animation.writer': 'ffmpeg',\n",
       "           'axes.autolimit_mode': 'data',\n",
       "           'axes.axisbelow': 'line',\n",
       "           'axes.edgecolor': 'black',\n",
       "           'axes.facecolor': 'white',\n",
       "           'axes.formatter.limits': [-5, 6],\n",
       "           'axes.formatter.min_exponent': 0,\n",
       "           'axes.formatter.offset_threshold': 4,\n",
       "           'axes.formatter.use_locale': False,\n",
       "           'axes.formatter.use_mathtext': False,\n",
       "           'axes.formatter.useoffset': True,\n",
       "           'axes.grid': False,\n",
       "           'axes.grid.axis': 'both',\n",
       "           'axes.grid.which': 'major',\n",
       "           'axes.labelcolor': 'black',\n",
       "           'axes.labelpad': 4.0,\n",
       "           'axes.labelsize': 'medium',\n",
       "           'axes.labelweight': 'normal',\n",
       "           'axes.linewidth': 0.8,\n",
       "           'axes.prop_cycle': cycler('color', ['#1f77b4', '#ff7f0e', '#2ca02c', '#d62728', '#9467bd', '#8c564b', '#e377c2', '#7f7f7f', '#bcbd22', '#17becf']),\n",
       "           'axes.spines.bottom': True,\n",
       "           'axes.spines.left': True,\n",
       "           'axes.spines.right': True,\n",
       "           'axes.spines.top': True,\n",
       "           'axes.titlecolor': 'auto',\n",
       "           'axes.titlelocation': 'center',\n",
       "           'axes.titlepad': 6.0,\n",
       "           'axes.titlesize': 'large',\n",
       "           'axes.titleweight': 'normal',\n",
       "           'axes.titley': None,\n",
       "           'axes.unicode_minus': True,\n",
       "           'axes.xmargin': 0.05,\n",
       "           'axes.ymargin': 0.05,\n",
       "           'axes3d.grid': True,\n",
       "           'backend': 'module://ipykernel.pylab.backend_inline',\n",
       "           'backend_fallback': True,\n",
       "           'boxplot.bootstrap': None,\n",
       "           'boxplot.boxprops.color': 'black',\n",
       "           'boxplot.boxprops.linestyle': '-',\n",
       "           'boxplot.boxprops.linewidth': 1.0,\n",
       "           'boxplot.capprops.color': 'black',\n",
       "           'boxplot.capprops.linestyle': '-',\n",
       "           'boxplot.capprops.linewidth': 1.0,\n",
       "           'boxplot.flierprops.color': 'black',\n",
       "           'boxplot.flierprops.linestyle': 'none',\n",
       "           'boxplot.flierprops.linewidth': 1.0,\n",
       "           'boxplot.flierprops.marker': 'o',\n",
       "           'boxplot.flierprops.markeredgecolor': 'black',\n",
       "           'boxplot.flierprops.markeredgewidth': 1.0,\n",
       "           'boxplot.flierprops.markerfacecolor': 'none',\n",
       "           'boxplot.flierprops.markersize': 6.0,\n",
       "           'boxplot.meanline': False,\n",
       "           'boxplot.meanprops.color': 'C2',\n",
       "           'boxplot.meanprops.linestyle': '--',\n",
       "           'boxplot.meanprops.linewidth': 1.0,\n",
       "           'boxplot.meanprops.marker': '^',\n",
       "           'boxplot.meanprops.markeredgecolor': 'C2',\n",
       "           'boxplot.meanprops.markerfacecolor': 'C2',\n",
       "           'boxplot.meanprops.markersize': 6.0,\n",
       "           'boxplot.medianprops.color': 'C1',\n",
       "           'boxplot.medianprops.linestyle': '-',\n",
       "           'boxplot.medianprops.linewidth': 1.0,\n",
       "           'boxplot.notch': False,\n",
       "           'boxplot.patchartist': False,\n",
       "           'boxplot.showbox': True,\n",
       "           'boxplot.showcaps': True,\n",
       "           'boxplot.showfliers': True,\n",
       "           'boxplot.showmeans': False,\n",
       "           'boxplot.vertical': True,\n",
       "           'boxplot.whiskerprops.color': 'black',\n",
       "           'boxplot.whiskerprops.linestyle': '-',\n",
       "           'boxplot.whiskerprops.linewidth': 1.0,\n",
       "           'boxplot.whiskers': 1.5,\n",
       "           'contour.corner_mask': True,\n",
       "           'contour.linewidth': None,\n",
       "           'contour.negative_linestyle': 'dashed',\n",
       "           'date.autoformatter.day': '%Y-%m-%d',\n",
       "           'date.autoformatter.hour': '%m-%d %H',\n",
       "           'date.autoformatter.microsecond': '%M:%S.%f',\n",
       "           'date.autoformatter.minute': '%d %H:%M',\n",
       "           'date.autoformatter.month': '%Y-%m',\n",
       "           'date.autoformatter.second': '%H:%M:%S',\n",
       "           'date.autoformatter.year': '%Y',\n",
       "           'date.epoch': '1970-01-01T00:00:00',\n",
       "           'docstring.hardcopy': False,\n",
       "           'errorbar.capsize': 0.0,\n",
       "           'figure.autolayout': False,\n",
       "           'figure.constrained_layout.h_pad': 0.04167,\n",
       "           'figure.constrained_layout.hspace': 0.02,\n",
       "           'figure.constrained_layout.use': False,\n",
       "           'figure.constrained_layout.w_pad': 0.04167,\n",
       "           'figure.constrained_layout.wspace': 0.02,\n",
       "           'figure.dpi': 100.0,\n",
       "           'figure.edgecolor': 'white',\n",
       "           'figure.facecolor': 'white',\n",
       "           'figure.figsize': [6.4, 4.8],\n",
       "           'figure.frameon': True,\n",
       "           'figure.max_open_warning': 20,\n",
       "           'figure.raise_window': True,\n",
       "           'figure.subplot.bottom': 0.11,\n",
       "           'figure.subplot.hspace': 0.2,\n",
       "           'figure.subplot.left': 0.125,\n",
       "           'figure.subplot.right': 0.9,\n",
       "           'figure.subplot.top': 0.88,\n",
       "           'figure.subplot.wspace': 0.2,\n",
       "           'figure.titlesize': 'large',\n",
       "           'figure.titleweight': 'normal',\n",
       "           'font.cursive': ['Apple Chancery',\n",
       "                            'Textile',\n",
       "                            'Zapf Chancery',\n",
       "                            'Sand',\n",
       "                            'Script MT',\n",
       "                            'Felipa',\n",
       "                            'cursive'],\n",
       "           'font.family': ['sans-serif'],\n",
       "           'font.fantasy': ['Comic Neue',\n",
       "                            'Comic Sans MS',\n",
       "                            'Chicago',\n",
       "                            'Charcoal',\n",
       "                            'ImpactWestern',\n",
       "                            'Humor Sans',\n",
       "                            'xkcd',\n",
       "                            'fantasy'],\n",
       "           'font.monospace': ['DejaVu Sans Mono',\n",
       "                              'Bitstream Vera Sans Mono',\n",
       "                              'Computer Modern Typewriter',\n",
       "                              'Andale Mono',\n",
       "                              'Nimbus Mono L',\n",
       "                              'Courier New',\n",
       "                              'Courier',\n",
       "                              'Fixed',\n",
       "                              'Terminal',\n",
       "                              'monospace'],\n",
       "           'font.sans-serif': ['DejaVu Sans',\n",
       "                               'Bitstream Vera Sans',\n",
       "                               'Computer Modern Sans Serif',\n",
       "                               'Lucida Grande',\n",
       "                               'Verdana',\n",
       "                               'Geneva',\n",
       "                               'Lucid',\n",
       "                               'Arial',\n",
       "                               'Helvetica',\n",
       "                               'Avant Garde',\n",
       "                               'sans-serif'],\n",
       "           'font.serif': ['DejaVu Serif',\n",
       "                          'Bitstream Vera Serif',\n",
       "                          'Computer Modern Roman',\n",
       "                          'New Century Schoolbook',\n",
       "                          'Century Schoolbook L',\n",
       "                          'Utopia',\n",
       "                          'ITC Bookman',\n",
       "                          'Bookman',\n",
       "                          'Nimbus Roman No9 L',\n",
       "                          'Times New Roman',\n",
       "                          'Times',\n",
       "                          'Palatino',\n",
       "                          'Charter',\n",
       "                          'serif'],\n",
       "           'font.size': 10.0,\n",
       "           'font.stretch': 'normal',\n",
       "           'font.style': 'normal',\n",
       "           'font.variant': 'normal',\n",
       "           'font.weight': 'normal',\n",
       "           'grid.alpha': 1.0,\n",
       "           'grid.color': '#b0b0b0',\n",
       "           'grid.linestyle': '-',\n",
       "           'grid.linewidth': 0.8,\n",
       "           'hatch.color': 'black',\n",
       "           'hatch.linewidth': 1.0,\n",
       "           'hist.bins': 10,\n",
       "           'image.aspect': 'equal',\n",
       "           'image.cmap': 'viridis',\n",
       "           'image.composite_image': True,\n",
       "           'image.interpolation': 'antialiased',\n",
       "           'image.lut': 256,\n",
       "           'image.origin': 'upper',\n",
       "           'image.resample': True,\n",
       "           'interactive': False,\n",
       "           'keymap.all_axes': ['a'],\n",
       "           'keymap.back': ['left', 'c', 'backspace', 'MouseButton.BACK'],\n",
       "           'keymap.copy': ['ctrl+c', 'cmd+c'],\n",
       "           'keymap.forward': ['right', 'v', 'MouseButton.FORWARD'],\n",
       "           'keymap.fullscreen': ['f', 'ctrl+f'],\n",
       "           'keymap.grid': ['g'],\n",
       "           'keymap.grid_minor': ['G'],\n",
       "           'keymap.help': ['f1'],\n",
       "           'keymap.home': ['h', 'r', 'home'],\n",
       "           'keymap.pan': ['p'],\n",
       "           'keymap.quit': ['ctrl+w', 'cmd+w', 'q'],\n",
       "           'keymap.quit_all': [],\n",
       "           'keymap.save': ['s', 'ctrl+s'],\n",
       "           'keymap.xscale': ['k', 'L'],\n",
       "           'keymap.yscale': ['l'],\n",
       "           'keymap.zoom': ['o'],\n",
       "           'legend.borderaxespad': 0.5,\n",
       "           'legend.borderpad': 0.4,\n",
       "           'legend.columnspacing': 2.0,\n",
       "           'legend.edgecolor': '0.8',\n",
       "           'legend.facecolor': 'inherit',\n",
       "           'legend.fancybox': True,\n",
       "           'legend.fontsize': 'medium',\n",
       "           'legend.framealpha': 0.8,\n",
       "           'legend.frameon': True,\n",
       "           'legend.handleheight': 0.7,\n",
       "           'legend.handlelength': 2.0,\n",
       "           'legend.handletextpad': 0.8,\n",
       "           'legend.labelspacing': 0.5,\n",
       "           'legend.loc': 'best',\n",
       "           'legend.markerscale': 1.0,\n",
       "           'legend.numpoints': 1,\n",
       "           'legend.scatterpoints': 1,\n",
       "           'legend.shadow': False,\n",
       "           'legend.title_fontsize': None,\n",
       "           'lines.antialiased': True,\n",
       "           'lines.color': 'C0',\n",
       "           'lines.dash_capstyle': 'butt',\n",
       "           'lines.dash_joinstyle': 'round',\n",
       "           'lines.dashdot_pattern': [6.4, 1.6, 1.0, 1.6],\n",
       "           'lines.dashed_pattern': [3.7, 1.6],\n",
       "           'lines.dotted_pattern': [1.0, 1.65],\n",
       "           'lines.linestyle': '-',\n",
       "           'lines.linewidth': 1.5,\n",
       "           'lines.marker': 'None',\n",
       "           'lines.markeredgecolor': 'auto',\n",
       "           'lines.markeredgewidth': 1.0,\n",
       "           'lines.markerfacecolor': 'auto',\n",
       "           'lines.markersize': 6.0,\n",
       "           'lines.scale_dashes': True,\n",
       "           'lines.solid_capstyle': 'projecting',\n",
       "           'lines.solid_joinstyle': 'round',\n",
       "           'markers.fillstyle': 'full',\n",
       "           'mathtext.bf': 'sans:bold',\n",
       "           'mathtext.cal': 'cursive',\n",
       "           'mathtext.default': 'it',\n",
       "           'mathtext.fallback': 'cm',\n",
       "           'mathtext.fallback_to_cm': None,\n",
       "           'mathtext.fontset': 'dejavusans',\n",
       "           'mathtext.it': 'sans:italic',\n",
       "           'mathtext.rm': 'sans',\n",
       "           'mathtext.sf': 'sans',\n",
       "           'mathtext.tt': 'monospace',\n",
       "           'mpl_toolkits.legacy_colorbar': True,\n",
       "           'patch.antialiased': True,\n",
       "           'patch.edgecolor': 'black',\n",
       "           'patch.facecolor': 'C0',\n",
       "           'patch.force_edgecolor': False,\n",
       "           'patch.linewidth': 1.0,\n",
       "           'path.effects': [],\n",
       "           'path.simplify': True,\n",
       "           'path.simplify_threshold': 0.111111111111,\n",
       "           'path.sketch': None,\n",
       "           'path.snap': True,\n",
       "           'pcolor.shading': 'flat',\n",
       "           'pdf.compression': 6,\n",
       "           'pdf.fonttype': 3,\n",
       "           'pdf.inheritcolor': False,\n",
       "           'pdf.use14corefonts': False,\n",
       "           'pgf.preamble': '',\n",
       "           'pgf.rcfonts': True,\n",
       "           'pgf.texsystem': 'xelatex',\n",
       "           'polaraxes.grid': True,\n",
       "           'ps.distiller.res': 6000,\n",
       "           'ps.fonttype': 3,\n",
       "           'ps.papersize': 'letter',\n",
       "           'ps.useafm': False,\n",
       "           'ps.usedistiller': None,\n",
       "           'savefig.bbox': None,\n",
       "           'savefig.directory': '~',\n",
       "           'savefig.dpi': 'figure',\n",
       "           'savefig.edgecolor': 'auto',\n",
       "           'savefig.facecolor': 'auto',\n",
       "           'savefig.format': 'png',\n",
       "           'savefig.jpeg_quality': 95,\n",
       "           'savefig.orientation': 'portrait',\n",
       "           'savefig.pad_inches': 0.1,\n",
       "           'savefig.transparent': False,\n",
       "           'scatter.edgecolors': 'face',\n",
       "           'scatter.marker': 'o',\n",
       "           'svg.fonttype': 'path',\n",
       "           'svg.hashsalt': None,\n",
       "           'svg.image_inline': True,\n",
       "           'text.antialiased': True,\n",
       "           'text.color': 'black',\n",
       "           'text.hinting': 'force_autohint',\n",
       "           'text.hinting_factor': 8,\n",
       "           'text.kerning_factor': 0,\n",
       "           'text.latex.preamble': '',\n",
       "           'text.latex.preview': False,\n",
       "           'text.usetex': False,\n",
       "           'timezone': 'UTC',\n",
       "           'tk.window_focus': False,\n",
       "           'toolbar': 'toolbar2',\n",
       "           'webagg.address': '127.0.0.1',\n",
       "           'webagg.open_in_browser': True,\n",
       "           'webagg.port': 8988,\n",
       "           'webagg.port_retries': 50,\n",
       "           'xaxis.labellocation': 'center',\n",
       "           'xtick.alignment': 'center',\n",
       "           'xtick.bottom': True,\n",
       "           'xtick.color': 'black',\n",
       "           'xtick.direction': 'out',\n",
       "           'xtick.labelbottom': True,\n",
       "           'xtick.labelsize': 'medium',\n",
       "           'xtick.labeltop': False,\n",
       "           'xtick.major.bottom': True,\n",
       "           'xtick.major.pad': 3.5,\n",
       "           'xtick.major.size': 3.5,\n",
       "           'xtick.major.top': True,\n",
       "           'xtick.major.width': 0.8,\n",
       "           'xtick.minor.bottom': True,\n",
       "           'xtick.minor.pad': 3.4,\n",
       "           'xtick.minor.size': 2.0,\n",
       "           'xtick.minor.top': True,\n",
       "           'xtick.minor.visible': False,\n",
       "           'xtick.minor.width': 0.6,\n",
       "           'xtick.top': False,\n",
       "           'yaxis.labellocation': 'center',\n",
       "           'ytick.alignment': 'center_baseline',\n",
       "           'ytick.color': 'black',\n",
       "           'ytick.direction': 'out',\n",
       "           'ytick.labelleft': True,\n",
       "           'ytick.labelright': False,\n",
       "           'ytick.labelsize': 'medium',\n",
       "           'ytick.left': True,\n",
       "           'ytick.major.left': True,\n",
       "           'ytick.major.pad': 3.5,\n",
       "           'ytick.major.right': True,\n",
       "           'ytick.major.size': 3.5,\n",
       "           'ytick.major.width': 0.8,\n",
       "           'ytick.minor.left': True,\n",
       "           'ytick.minor.pad': 3.4,\n",
       "           'ytick.minor.right': True,\n",
       "           'ytick.minor.size': 2.0,\n",
       "           'ytick.minor.visible': False,\n",
       "           'ytick.minor.width': 0.6,\n",
       "           'ytick.right': False}),\n",
       " 'get_backend': <function matplotlib.get_backend()>,\n",
       " 'rcParamsOrig': RcParams({'_internal.classic_mode': False,\n",
       "           'agg.path.chunksize': 0,\n",
       "           'animation.avconv_args': [],\n",
       "           'animation.avconv_path': 'avconv',\n",
       "           'animation.bitrate': -1,\n",
       "           'animation.codec': 'h264',\n",
       "           'animation.convert_args': [],\n",
       "           'animation.convert_path': 'convert',\n",
       "           'animation.embed_limit': 20.0,\n",
       "           'animation.ffmpeg_args': [],\n",
       "           'animation.ffmpeg_path': 'ffmpeg',\n",
       "           'animation.frame_format': 'png',\n",
       "           'animation.html': 'none',\n",
       "           'animation.html_args': [],\n",
       "           'animation.writer': 'ffmpeg',\n",
       "           'axes.autolimit_mode': 'data',\n",
       "           'axes.axisbelow': 'line',\n",
       "           'axes.edgecolor': 'black',\n",
       "           'axes.facecolor': 'white',\n",
       "           'axes.formatter.limits': [-5, 6],\n",
       "           'axes.formatter.min_exponent': 0,\n",
       "           'axes.formatter.offset_threshold': 4,\n",
       "           'axes.formatter.use_locale': False,\n",
       "           'axes.formatter.use_mathtext': False,\n",
       "           'axes.formatter.useoffset': True,\n",
       "           'axes.grid': False,\n",
       "           'axes.grid.axis': 'both',\n",
       "           'axes.grid.which': 'major',\n",
       "           'axes.labelcolor': 'black',\n",
       "           'axes.labelpad': 4.0,\n",
       "           'axes.labelsize': 'medium',\n",
       "           'axes.labelweight': 'normal',\n",
       "           'axes.linewidth': 0.8,\n",
       "           'axes.prop_cycle': cycler('color', ['#1f77b4', '#ff7f0e', '#2ca02c', '#d62728', '#9467bd', '#8c564b', '#e377c2', '#7f7f7f', '#bcbd22', '#17becf']),\n",
       "           'axes.spines.bottom': True,\n",
       "           'axes.spines.left': True,\n",
       "           'axes.spines.right': True,\n",
       "           'axes.spines.top': True,\n",
       "           'axes.titlecolor': 'auto',\n",
       "           'axes.titlelocation': 'center',\n",
       "           'axes.titlepad': 6.0,\n",
       "           'axes.titlesize': 'large',\n",
       "           'axes.titleweight': 'normal',\n",
       "           'axes.titley': None,\n",
       "           'axes.unicode_minus': True,\n",
       "           'axes.xmargin': 0.05,\n",
       "           'axes.ymargin': 0.05,\n",
       "           'axes3d.grid': True,\n",
       "           'backend': 'TkAgg',\n",
       "           'backend_fallback': True,\n",
       "           'boxplot.bootstrap': None,\n",
       "           'boxplot.boxprops.color': 'black',\n",
       "           'boxplot.boxprops.linestyle': '-',\n",
       "           'boxplot.boxprops.linewidth': 1.0,\n",
       "           'boxplot.capprops.color': 'black',\n",
       "           'boxplot.capprops.linestyle': '-',\n",
       "           'boxplot.capprops.linewidth': 1.0,\n",
       "           'boxplot.flierprops.color': 'black',\n",
       "           'boxplot.flierprops.linestyle': 'none',\n",
       "           'boxplot.flierprops.linewidth': 1.0,\n",
       "           'boxplot.flierprops.marker': 'o',\n",
       "           'boxplot.flierprops.markeredgecolor': 'black',\n",
       "           'boxplot.flierprops.markeredgewidth': 1.0,\n",
       "           'boxplot.flierprops.markerfacecolor': 'none',\n",
       "           'boxplot.flierprops.markersize': 6.0,\n",
       "           'boxplot.meanline': False,\n",
       "           'boxplot.meanprops.color': 'C2',\n",
       "           'boxplot.meanprops.linestyle': '--',\n",
       "           'boxplot.meanprops.linewidth': 1.0,\n",
       "           'boxplot.meanprops.marker': '^',\n",
       "           'boxplot.meanprops.markeredgecolor': 'C2',\n",
       "           'boxplot.meanprops.markerfacecolor': 'C2',\n",
       "           'boxplot.meanprops.markersize': 6.0,\n",
       "           'boxplot.medianprops.color': 'C1',\n",
       "           'boxplot.medianprops.linestyle': '-',\n",
       "           'boxplot.medianprops.linewidth': 1.0,\n",
       "           'boxplot.notch': False,\n",
       "           'boxplot.patchartist': False,\n",
       "           'boxplot.showbox': True,\n",
       "           'boxplot.showcaps': True,\n",
       "           'boxplot.showfliers': True,\n",
       "           'boxplot.showmeans': False,\n",
       "           'boxplot.vertical': True,\n",
       "           'boxplot.whiskerprops.color': 'black',\n",
       "           'boxplot.whiskerprops.linestyle': '-',\n",
       "           'boxplot.whiskerprops.linewidth': 1.0,\n",
       "           'boxplot.whiskers': 1.5,\n",
       "           'contour.corner_mask': True,\n",
       "           'contour.linewidth': None,\n",
       "           'contour.negative_linestyle': 'dashed',\n",
       "           'date.autoformatter.day': '%Y-%m-%d',\n",
       "           'date.autoformatter.hour': '%m-%d %H',\n",
       "           'date.autoformatter.microsecond': '%M:%S.%f',\n",
       "           'date.autoformatter.minute': '%d %H:%M',\n",
       "           'date.autoformatter.month': '%Y-%m',\n",
       "           'date.autoformatter.second': '%H:%M:%S',\n",
       "           'date.autoformatter.year': '%Y',\n",
       "           'date.epoch': '1970-01-01T00:00:00',\n",
       "           'docstring.hardcopy': False,\n",
       "           'errorbar.capsize': 0.0,\n",
       "           'figure.autolayout': False,\n",
       "           'figure.constrained_layout.h_pad': 0.04167,\n",
       "           'figure.constrained_layout.hspace': 0.02,\n",
       "           'figure.constrained_layout.use': False,\n",
       "           'figure.constrained_layout.w_pad': 0.04167,\n",
       "           'figure.constrained_layout.wspace': 0.02,\n",
       "           'figure.dpi': 100.0,\n",
       "           'figure.edgecolor': 'white',\n",
       "           'figure.facecolor': 'white',\n",
       "           'figure.figsize': [6.4, 4.8],\n",
       "           'figure.frameon': True,\n",
       "           'figure.max_open_warning': 20,\n",
       "           'figure.raise_window': True,\n",
       "           'figure.subplot.bottom': 0.11,\n",
       "           'figure.subplot.hspace': 0.2,\n",
       "           'figure.subplot.left': 0.125,\n",
       "           'figure.subplot.right': 0.9,\n",
       "           'figure.subplot.top': 0.88,\n",
       "           'figure.subplot.wspace': 0.2,\n",
       "           'figure.titlesize': 'large',\n",
       "           'figure.titleweight': 'normal',\n",
       "           'font.cursive': ['Apple Chancery',\n",
       "                            'Textile',\n",
       "                            'Zapf Chancery',\n",
       "                            'Sand',\n",
       "                            'Script MT',\n",
       "                            'Felipa',\n",
       "                            'cursive'],\n",
       "           'font.family': ['sans-serif'],\n",
       "           'font.fantasy': ['Comic Neue',\n",
       "                            'Comic Sans MS',\n",
       "                            'Chicago',\n",
       "                            'Charcoal',\n",
       "                            'ImpactWestern',\n",
       "                            'Humor Sans',\n",
       "                            'xkcd',\n",
       "                            'fantasy'],\n",
       "           'font.monospace': ['DejaVu Sans Mono',\n",
       "                              'Bitstream Vera Sans Mono',\n",
       "                              'Computer Modern Typewriter',\n",
       "                              'Andale Mono',\n",
       "                              'Nimbus Mono L',\n",
       "                              'Courier New',\n",
       "                              'Courier',\n",
       "                              'Fixed',\n",
       "                              'Terminal',\n",
       "                              'monospace'],\n",
       "           'font.sans-serif': ['DejaVu Sans',\n",
       "                               'Bitstream Vera Sans',\n",
       "                               'Computer Modern Sans Serif',\n",
       "                               'Lucida Grande',\n",
       "                               'Verdana',\n",
       "                               'Geneva',\n",
       "                               'Lucid',\n",
       "                               'Arial',\n",
       "                               'Helvetica',\n",
       "                               'Avant Garde',\n",
       "                               'sans-serif'],\n",
       "           'font.serif': ['DejaVu Serif',\n",
       "                          'Bitstream Vera Serif',\n",
       "                          'Computer Modern Roman',\n",
       "                          'New Century Schoolbook',\n",
       "                          'Century Schoolbook L',\n",
       "                          'Utopia',\n",
       "                          'ITC Bookman',\n",
       "                          'Bookman',\n",
       "                          'Nimbus Roman No9 L',\n",
       "                          'Times New Roman',\n",
       "                          'Times',\n",
       "                          'Palatino',\n",
       "                          'Charter',\n",
       "                          'serif'],\n",
       "           'font.size': 10.0,\n",
       "           'font.stretch': 'normal',\n",
       "           'font.style': 'normal',\n",
       "           'font.variant': 'normal',\n",
       "           'font.weight': 'normal',\n",
       "           'grid.alpha': 1.0,\n",
       "           'grid.color': '#b0b0b0',\n",
       "           'grid.linestyle': '-',\n",
       "           'grid.linewidth': 0.8,\n",
       "           'hatch.color': 'black',\n",
       "           'hatch.linewidth': 1.0,\n",
       "           'hist.bins': 10,\n",
       "           'image.aspect': 'equal',\n",
       "           'image.cmap': 'viridis',\n",
       "           'image.composite_image': True,\n",
       "           'image.interpolation': 'antialiased',\n",
       "           'image.lut': 256,\n",
       "           'image.origin': 'upper',\n",
       "           'image.resample': True,\n",
       "           'interactive': False,\n",
       "           'keymap.all_axes': ['a'],\n",
       "           'keymap.back': ['left', 'c', 'backspace', 'MouseButton.BACK'],\n",
       "           'keymap.copy': ['ctrl+c', 'cmd+c'],\n",
       "           'keymap.forward': ['right', 'v', 'MouseButton.FORWARD'],\n",
       "           'keymap.fullscreen': ['f', 'ctrl+f'],\n",
       "           'keymap.grid': ['g'],\n",
       "           'keymap.grid_minor': ['G'],\n",
       "           'keymap.help': ['f1'],\n",
       "           'keymap.home': ['h', 'r', 'home'],\n",
       "           'keymap.pan': ['p'],\n",
       "           'keymap.quit': ['ctrl+w', 'cmd+w', 'q'],\n",
       "           'keymap.quit_all': [],\n",
       "           'keymap.save': ['s', 'ctrl+s'],\n",
       "           'keymap.xscale': ['k', 'L'],\n",
       "           'keymap.yscale': ['l'],\n",
       "           'keymap.zoom': ['o'],\n",
       "           'legend.borderaxespad': 0.5,\n",
       "           'legend.borderpad': 0.4,\n",
       "           'legend.columnspacing': 2.0,\n",
       "           'legend.edgecolor': '0.8',\n",
       "           'legend.facecolor': 'inherit',\n",
       "           'legend.fancybox': True,\n",
       "           'legend.fontsize': 'medium',\n",
       "           'legend.framealpha': 0.8,\n",
       "           'legend.frameon': True,\n",
       "           'legend.handleheight': 0.7,\n",
       "           'legend.handlelength': 2.0,\n",
       "           'legend.handletextpad': 0.8,\n",
       "           'legend.labelspacing': 0.5,\n",
       "           'legend.loc': 'best',\n",
       "           'legend.markerscale': 1.0,\n",
       "           'legend.numpoints': 1,\n",
       "           'legend.scatterpoints': 1,\n",
       "           'legend.shadow': False,\n",
       "           'legend.title_fontsize': None,\n",
       "           'lines.antialiased': True,\n",
       "           'lines.color': 'C0',\n",
       "           'lines.dash_capstyle': 'butt',\n",
       "           'lines.dash_joinstyle': 'round',\n",
       "           'lines.dashdot_pattern': [6.4, 1.6, 1.0, 1.6],\n",
       "           'lines.dashed_pattern': [3.7, 1.6],\n",
       "           'lines.dotted_pattern': [1.0, 1.65],\n",
       "           'lines.linestyle': '-',\n",
       "           'lines.linewidth': 1.5,\n",
       "           'lines.marker': 'None',\n",
       "           'lines.markeredgecolor': 'auto',\n",
       "           'lines.markeredgewidth': 1.0,\n",
       "           'lines.markerfacecolor': 'auto',\n",
       "           'lines.markersize': 6.0,\n",
       "           'lines.scale_dashes': True,\n",
       "           'lines.solid_capstyle': 'projecting',\n",
       "           'lines.solid_joinstyle': 'round',\n",
       "           'markers.fillstyle': 'full',\n",
       "           'mathtext.bf': 'sans:bold',\n",
       "           'mathtext.cal': 'cursive',\n",
       "           'mathtext.default': 'it',\n",
       "           'mathtext.fallback': 'cm',\n",
       "           'mathtext.fallback_to_cm': None,\n",
       "           'mathtext.fontset': 'dejavusans',\n",
       "           'mathtext.it': 'sans:italic',\n",
       "           'mathtext.rm': 'sans',\n",
       "           'mathtext.sf': 'sans',\n",
       "           'mathtext.tt': 'monospace',\n",
       "           'mpl_toolkits.legacy_colorbar': True,\n",
       "           'patch.antialiased': True,\n",
       "           'patch.edgecolor': 'black',\n",
       "           'patch.facecolor': 'C0',\n",
       "           'patch.force_edgecolor': False,\n",
       "           'patch.linewidth': 1.0,\n",
       "           'path.effects': [],\n",
       "           'path.simplify': True,\n",
       "           'path.simplify_threshold': 0.111111111111,\n",
       "           'path.sketch': None,\n",
       "           'path.snap': True,\n",
       "           'pcolor.shading': 'flat',\n",
       "           'pdf.compression': 6,\n",
       "           'pdf.fonttype': 3,\n",
       "           'pdf.inheritcolor': False,\n",
       "           'pdf.use14corefonts': False,\n",
       "           'pgf.preamble': '',\n",
       "           'pgf.rcfonts': True,\n",
       "           'pgf.texsystem': 'xelatex',\n",
       "           'polaraxes.grid': True,\n",
       "           'ps.distiller.res': 6000,\n",
       "           'ps.fonttype': 3,\n",
       "           'ps.papersize': 'letter',\n",
       "           'ps.useafm': False,\n",
       "           'ps.usedistiller': None,\n",
       "           'savefig.bbox': None,\n",
       "           'savefig.directory': '~',\n",
       "           'savefig.dpi': 'figure',\n",
       "           'savefig.edgecolor': 'auto',\n",
       "           'savefig.facecolor': 'auto',\n",
       "           'savefig.format': 'png',\n",
       "           'savefig.jpeg_quality': 95,\n",
       "           'savefig.orientation': 'portrait',\n",
       "           'savefig.pad_inches': 0.1,\n",
       "           'savefig.transparent': False,\n",
       "           'scatter.edgecolors': 'face',\n",
       "           'scatter.marker': 'o',\n",
       "           'svg.fonttype': 'path',\n",
       "           'svg.hashsalt': None,\n",
       "           'svg.image_inline': True,\n",
       "           'text.antialiased': True,\n",
       "           'text.color': 'black',\n",
       "           'text.hinting': 'force_autohint',\n",
       "           'text.hinting_factor': 8,\n",
       "           'text.kerning_factor': 0,\n",
       "           'text.latex.preamble': '',\n",
       "           'text.latex.preview': False,\n",
       "           'text.usetex': False,\n",
       "           'timezone': 'UTC',\n",
       "           'tk.window_focus': False,\n",
       "           'toolbar': 'toolbar2',\n",
       "           'webagg.address': '127.0.0.1',\n",
       "           'webagg.open_in_browser': True,\n",
       "           'webagg.port': 8988,\n",
       "           'webagg.port_retries': 50,\n",
       "           'xaxis.labellocation': 'center',\n",
       "           'xtick.alignment': 'center',\n",
       "           'xtick.bottom': True,\n",
       "           'xtick.color': 'black',\n",
       "           'xtick.direction': 'out',\n",
       "           'xtick.labelbottom': True,\n",
       "           'xtick.labelsize': 'medium',\n",
       "           'xtick.labeltop': False,\n",
       "           'xtick.major.bottom': True,\n",
       "           'xtick.major.pad': 3.5,\n",
       "           'xtick.major.size': 3.5,\n",
       "           'xtick.major.top': True,\n",
       "           'xtick.major.width': 0.8,\n",
       "           'xtick.minor.bottom': True,\n",
       "           'xtick.minor.pad': 3.4,\n",
       "           'xtick.minor.size': 2.0,\n",
       "           'xtick.minor.top': True,\n",
       "           'xtick.minor.visible': False,\n",
       "           'xtick.minor.width': 0.6,\n",
       "           'xtick.top': False,\n",
       "           'yaxis.labellocation': 'center',\n",
       "           'ytick.alignment': 'center_baseline',\n",
       "           'ytick.color': 'black',\n",
       "           'ytick.direction': 'out',\n",
       "           'ytick.labelleft': True,\n",
       "           'ytick.labelright': False,\n",
       "           'ytick.labelsize': 'medium',\n",
       "           'ytick.left': True,\n",
       "           'ytick.major.left': True,\n",
       "           'ytick.major.pad': 3.5,\n",
       "           'ytick.major.right': True,\n",
       "           'ytick.major.size': 3.5,\n",
       "           'ytick.major.width': 0.8,\n",
       "           'ytick.minor.left': True,\n",
       "           'ytick.minor.pad': 3.4,\n",
       "           'ytick.minor.right': True,\n",
       "           'ytick.minor.size': 2.0,\n",
       "           'ytick.minor.visible': False,\n",
       "           'ytick.minor.width': 0.6,\n",
       "           'ytick.right': False}),\n",
       " 'Artist': matplotlib.artist.Artist,\n",
       " 'Axes': matplotlib.axes._axes.Axes,\n",
       " 'Subplot': matplotlib.axes._subplots.AxesSubplot,\n",
       " 'PolarAxes': matplotlib.projections.polar.PolarAxes,\n",
       " 'get_scale_names': <function matplotlib.scale.get_scale_names()>,\n",
       " 'cm': <module 'matplotlib.cm' from 'c:\\\\users\\\\gb-ofc-006\\\\appdata\\\\local\\\\programs\\\\python\\\\python38\\\\lib\\\\site-packages\\\\matplotlib\\\\cm.py'>,\n",
       " 'get_cmap': <function matplotlib.cm.get_cmap(name=None, lut=None)>,\n",
       " 'register_cmap': <function matplotlib.cm.register_cmap(name=None, cmap=None, data=None, lut=None)>,\n",
       " 'Normalize': matplotlib.colors.Normalize,\n",
       " 'Line2D': matplotlib.lines.Line2D,\n",
       " 'Text': matplotlib.text.Text,\n",
       " 'Annotation': matplotlib.text.Annotation,\n",
       " 'Polygon': matplotlib.patches.Polygon,\n",
       " 'Rectangle': matplotlib.patches.Rectangle,\n",
       " 'Circle': matplotlib.patches.Circle,\n",
       " 'Arrow': matplotlib.patches.Arrow,\n",
       " 'SubplotTool': matplotlib.widgets.SubplotTool,\n",
       " 'Button': matplotlib.widgets.Button,\n",
       " 'Slider': matplotlib.widgets.Slider,\n",
       " 'Widget': matplotlib.widgets.Widget,\n",
       " 'TickHelper': matplotlib.ticker.TickHelper,\n",
       " 'Formatter': matplotlib.ticker.Formatter,\n",
       " 'FixedFormatter': matplotlib.ticker.FixedFormatter,\n",
       " 'NullFormatter': matplotlib.ticker.NullFormatter,\n",
       " 'FuncFormatter': matplotlib.ticker.FuncFormatter,\n",
       " 'FormatStrFormatter': matplotlib.ticker.FormatStrFormatter,\n",
       " 'ScalarFormatter': matplotlib.ticker.ScalarFormatter,\n",
       " 'LogFormatter': matplotlib.ticker.LogFormatter,\n",
       " 'LogFormatterExponent': matplotlib.ticker.LogFormatterExponent,\n",
       " 'LogFormatterMathtext': matplotlib.ticker.LogFormatterMathtext,\n",
       " 'Locator': matplotlib.ticker.Locator,\n",
       " 'IndexLocator': matplotlib.ticker.IndexLocator,\n",
       " 'FixedLocator': matplotlib.ticker.FixedLocator,\n",
       " 'NullLocator': matplotlib.ticker.NullLocator,\n",
       " 'LinearLocator': matplotlib.ticker.LinearLocator,\n",
       " 'LogLocator': matplotlib.ticker.LogLocator,\n",
       " 'AutoLocator': matplotlib.ticker.AutoLocator,\n",
       " 'MultipleLocator': matplotlib.ticker.MultipleLocator,\n",
       " 'MaxNLocator': matplotlib.ticker.MaxNLocator,\n",
       " 'install_repl_displayhook': <function matplotlib.pyplot.install_repl_displayhook()>,\n",
       " 'uninstall_repl_displayhook': <function matplotlib.pyplot.uninstall_repl_displayhook()>,\n",
       " 'draw_all': <bound method Gcf.draw_all of <class 'matplotlib._pylab_helpers.Gcf'>>,\n",
       " 'set_loglevel': <function matplotlib.set_loglevel(level)>,\n",
       " 'findobj': <function matplotlib.pyplot.findobj(o=None, match=None, include_self=True)>,\n",
       " 'switch_backend': <function matplotlib.pyplot.switch_backend(newbackend)>,\n",
       " 'new_figure_manager': <function matplotlib.pyplot.new_figure_manager(num, *args, **kwargs)>,\n",
       " 'draw_if_interactive': <function IPython.utils.decorators.flag_calls.<locals>.wrapper()>,\n",
       " 'show': <function matplotlib.pyplot.show(close=None, block=None)>,\n",
       " 'isinteractive': <function matplotlib.pyplot.isinteractive()>,\n",
       " 'ioff': <function matplotlib.pyplot.ioff()>,\n",
       " 'ion': <function matplotlib.pyplot.ion()>,\n",
       " 'pause': <function matplotlib.pyplot.pause(interval)>,\n",
       " 'rc': <function matplotlib.pyplot.rc(group, **kwargs)>,\n",
       " 'rc_context': <function matplotlib.pyplot.rc_context(rc=None, fname=None)>,\n",
       " 'rcdefaults': <function matplotlib.pyplot.rcdefaults()>,\n",
       " 'getp': <function matplotlib.pyplot.getp(obj, *args, **kwargs)>,\n",
       " 'get': <function matplotlib.pyplot.get(obj, *args, **kwargs)>,\n",
       " 'setp': <function matplotlib.pyplot.setp(obj, *args, **kwargs)>,\n",
       " 'xkcd': <function matplotlib.pyplot.xkcd(scale=1, length=100, randomness=2)>,\n",
       " 'figure': <function matplotlib.pyplot.figure(num=None, figsize=None, dpi=None, facecolor=None, edgecolor=None, frameon=True, FigureClass=<class 'matplotlib.figure.Figure'>, clear=False, **kwargs)>,\n",
       " 'gcf': <function matplotlib.pyplot.gcf()>,\n",
       " 'fignum_exists': <function matplotlib.pyplot.fignum_exists(num)>,\n",
       " 'get_fignums': <function matplotlib.pyplot.get_fignums()>,\n",
       " 'get_figlabels': <function matplotlib.pyplot.get_figlabels()>,\n",
       " 'get_current_fig_manager': <function matplotlib.pyplot.get_current_fig_manager()>,\n",
       " 'connect': <function matplotlib.pyplot.connect(s, func)>,\n",
       " 'disconnect': <function matplotlib.pyplot.disconnect(cid)>,\n",
       " 'close': <function matplotlib.pyplot.close(fig=None)>,\n",
       " 'clf': <function matplotlib.pyplot.clf()>,\n",
       " 'draw': <function matplotlib.pyplot.draw()>,\n",
       " 'savefig': <function matplotlib.pyplot.savefig(*args, **kwargs)>,\n",
       " 'figlegend': <function matplotlib.pyplot.figlegend(*args, **kwargs)>,\n",
       " 'axes': <function matplotlib.pyplot.axes(arg=None, **kwargs)>,\n",
       " 'delaxes': <function matplotlib.pyplot.delaxes(ax=None)>,\n",
       " 'sca': <function matplotlib.pyplot.sca(ax)>,\n",
       " 'subplot': <function matplotlib.pyplot.subplot(*args, **kwargs)>,\n",
       " 'subplots': <function matplotlib.pyplot.subplots(nrows=1, ncols=1, *, sharex=False, sharey=False, squeeze=True, subplot_kw=None, gridspec_kw=None, **fig_kw)>,\n",
       " 'subplot_mosaic': <function matplotlib.pyplot.subplot_mosaic(layout, *, subplot_kw=None, gridspec_kw=None, empty_sentinel='.', **fig_kw)>,\n",
       " 'subplot2grid': <function matplotlib.pyplot.subplot2grid(shape, loc, rowspan=1, colspan=1, fig=None, **kwargs)>,\n",
       " 'twinx': <function matplotlib.pyplot.twinx(ax=None)>,\n",
       " 'twiny': <function matplotlib.pyplot.twiny(ax=None)>,\n",
       " 'subplot_tool': <function matplotlib.pyplot.subplot_tool(targetfig=None)>,\n",
       " 'tight_layout': <function matplotlib.pyplot.tight_layout(*, pad=1.08, h_pad=None, w_pad=None, rect=None)>,\n",
       " 'box': <function matplotlib.pyplot.box(on=None)>,\n",
       " 'xlim': <function matplotlib.pyplot.xlim(*args, **kwargs)>,\n",
       " 'ylim': <function matplotlib.pyplot.ylim(*args, **kwargs)>,\n",
       " 'xticks': <function matplotlib.pyplot.xticks(ticks=None, labels=None, **kwargs)>,\n",
       " 'yticks': <function matplotlib.pyplot.yticks(ticks=None, labels=None, **kwargs)>,\n",
       " 'rgrids': <function matplotlib.pyplot.rgrids(radii=None, labels=None, angle=None, fmt=None, **kwargs)>,\n",
       " 'thetagrids': <function matplotlib.pyplot.thetagrids(angles=None, labels=None, fmt=None, **kwargs)>,\n",
       " 'plotting': <function matplotlib.pyplot.plotting()>,\n",
       " 'get_plot_commands': <function matplotlib.pyplot.get_plot_commands()>,\n",
       " 'colormaps': <function matplotlib.pyplot.colormaps()>,\n",
       " 'colorbar': <function matplotlib.pyplot.colorbar(mappable=None, cax=None, ax=None, **kw)>,\n",
       " 'clim': <function matplotlib.pyplot.clim(vmin=None, vmax=None)>,\n",
       " 'set_cmap': <function matplotlib.pyplot.set_cmap(cmap)>,\n",
       " 'imread': <function matplotlib.pyplot.imread(fname, format=None)>,\n",
       " 'imsave': <function matplotlib.pyplot.imsave(fname, arr, **kwargs)>,\n",
       " 'matshow': <function matplotlib.pyplot.matshow(A, fignum=None, **kwargs)>,\n",
       " 'polar': <function matplotlib.pyplot.polar(*args, **kwargs)>,\n",
       " 'figimage': <function matplotlib.pyplot.figimage(X, xo=0, yo=0, alpha=None, norm=None, cmap=None, vmin=None, vmax=None, origin=None, resize=False, **kwargs)>,\n",
       " 'figtext': <function matplotlib.pyplot.figtext(x, y, s, fontdict=None, **kwargs)>,\n",
       " 'gca': <function matplotlib.pyplot.gca(**kwargs)>,\n",
       " 'gci': <function matplotlib.pyplot.gci()>,\n",
       " 'ginput': <function matplotlib.pyplot.ginput(n=1, timeout=30, show_clicks=True, mouse_add=<MouseButton.LEFT: 1>, mouse_pop=<MouseButton.RIGHT: 3>, mouse_stop=<MouseButton.MIDDLE: 2>)>,\n",
       " 'subplots_adjust': <function matplotlib.pyplot.subplots_adjust(left=None, bottom=None, right=None, top=None, wspace=None, hspace=None)>,\n",
       " 'suptitle': <function matplotlib.pyplot.suptitle(t, **kwargs)>,\n",
       " 'waitforbuttonpress': <function matplotlib.pyplot.waitforbuttonpress(timeout=-1)>,\n",
       " 'acorr': <function matplotlib.pyplot.acorr(x, *, data=None, **kwargs)>,\n",
       " 'angle_spectrum': <function matplotlib.pyplot.angle_spectrum(x, Fs=None, Fc=None, window=None, pad_to=None, sides=None, *, data=None, **kwargs)>,\n",
       " 'annotate': <function matplotlib.pyplot.annotate(text, xy, *args, **kwargs)>,\n",
       " 'arrow': <function matplotlib.pyplot.arrow(x, y, dx, dy, **kwargs)>,\n",
       " 'autoscale': <function matplotlib.pyplot.autoscale(enable=True, axis='both', tight=None)>,\n",
       " 'axhline': <function matplotlib.pyplot.axhline(y=0, xmin=0, xmax=1, **kwargs)>,\n",
       " 'axhspan': <function matplotlib.pyplot.axhspan(ymin, ymax, xmin=0, xmax=1, **kwargs)>,\n",
       " 'axis': <function matplotlib.pyplot.axis(*args, emit=True, **kwargs)>,\n",
       " 'axline': <function matplotlib.pyplot.axline(xy1, xy2=None, *, slope=None, **kwargs)>,\n",
       " 'axvline': <function matplotlib.pyplot.axvline(x=0, ymin=0, ymax=1, **kwargs)>,\n",
       " 'axvspan': <function matplotlib.pyplot.axvspan(xmin, xmax, ymin=0, ymax=1, **kwargs)>,\n",
       " 'bar': <function matplotlib.pyplot.bar(x, height, width=0.8, bottom=None, *, align='center', data=None, **kwargs)>,\n",
       " 'barbs': <function matplotlib.pyplot.barbs(*args, data=None, **kw)>,\n",
       " 'barh': <function matplotlib.pyplot.barh(y, width, height=0.8, left=None, *, align='center', **kwargs)>,\n",
       " 'boxplot': <function matplotlib.pyplot.boxplot(x, notch=None, sym=None, vert=None, whis=None, positions=None, widths=None, patch_artist=None, bootstrap=None, usermedians=None, conf_intervals=None, meanline=None, showmeans=None, showcaps=None, showbox=None, showfliers=None, boxprops=None, labels=None, flierprops=None, medianprops=None, meanprops=None, capprops=None, whiskerprops=None, manage_ticks=True, autorange=False, zorder=None, *, data=None)>,\n",
       " 'broken_barh': <function matplotlib.pyplot.broken_barh(xranges, yrange, *, data=None, **kwargs)>,\n",
       " 'cla': <function matplotlib.pyplot.cla()>,\n",
       " 'clabel': <function matplotlib.pyplot.clabel(CS, levels=None, **kwargs)>,\n",
       " 'cohere': <function matplotlib.pyplot.cohere(x, y, NFFT=256, Fs=2, Fc=0, detrend=<function detrend_none at 0x0000024E53C70940>, window=<function window_hanning at 0x0000024E53C70280>, noverlap=0, pad_to=None, sides='default', scale_by_freq=None, *, data=None, **kwargs)>,\n",
       " 'contour': <function matplotlib.pyplot.contour(*args, data=None, **kwargs)>,\n",
       " 'contourf': <function matplotlib.pyplot.contourf(*args, data=None, **kwargs)>,\n",
       " 'csd': <function matplotlib.pyplot.csd(x, y, NFFT=None, Fs=None, Fc=None, detrend=None, window=None, noverlap=None, pad_to=None, sides=None, scale_by_freq=None, return_line=None, *, data=None, **kwargs)>,\n",
       " 'errorbar': <function matplotlib.pyplot.errorbar(x, y, yerr=None, xerr=None, fmt='', ecolor=None, elinewidth=None, capsize=None, barsabove=False, lolims=False, uplims=False, xlolims=False, xuplims=False, errorevery=1, capthick=None, *, data=None, **kwargs)>,\n",
       " 'eventplot': <function matplotlib.pyplot.eventplot(positions, orientation='horizontal', lineoffsets=1, linelengths=1, linewidths=None, colors=None, linestyles='solid', *, data=None, **kwargs)>,\n",
       " 'fill': <function matplotlib.pyplot.fill(*args, data=None, **kwargs)>,\n",
       " 'fill_between': <function matplotlib.pyplot.fill_between(x, y1, y2=0, where=None, interpolate=False, step=None, *, data=None, **kwargs)>,\n",
       " 'fill_betweenx': <function matplotlib.pyplot.fill_betweenx(y, x1, x2=0, where=None, step=None, interpolate=False, *, data=None, **kwargs)>,\n",
       " 'grid': <function matplotlib.pyplot.grid(b=None, which='major', axis='both', **kwargs)>,\n",
       " 'hexbin': <function matplotlib.pyplot.hexbin(x, y, C=None, gridsize=100, bins=None, xscale='linear', yscale='linear', extent=None, cmap=None, norm=None, vmin=None, vmax=None, alpha=None, linewidths=None, edgecolors='face', reduce_C_function=<function mean at 0x0000024E5206E3A0>, mincnt=None, marginals=False, *, data=None, **kwargs)>,\n",
       " 'hist': <function matplotlib.pyplot.hist(x, bins=None, range=None, density=False, weights=None, cumulative=False, bottom=None, histtype='bar', align='mid', orientation='vertical', rwidth=None, log=False, color=None, label=None, stacked=False, *, data=None, **kwargs)>,\n",
       " 'hist2d': <function matplotlib.pyplot.hist2d(x, y, bins=10, range=None, density=False, weights=None, cmin=None, cmax=None, *, data=None, **kwargs)>,\n",
       " 'hlines': <function matplotlib.pyplot.hlines(y, xmin, xmax, colors=None, linestyles='solid', label='', *, data=None, **kwargs)>,\n",
       " 'imshow': <function matplotlib.pyplot.imshow(X, cmap=None, norm=None, aspect=None, interpolation=None, alpha=None, vmin=None, vmax=None, origin=None, extent=None, *, filternorm=True, filterrad=4.0, resample=None, url=None, data=None, **kwargs)>,\n",
       " 'legend': <function matplotlib.pyplot.legend(*args, **kwargs)>,\n",
       " 'locator_params': <function matplotlib.pyplot.locator_params(axis='both', tight=None, **kwargs)>,\n",
       " 'loglog': <function matplotlib.pyplot.loglog(*args, **kwargs)>,\n",
       " 'magnitude_spectrum': <function matplotlib.pyplot.magnitude_spectrum(x, Fs=None, Fc=None, window=None, pad_to=None, sides=None, scale=None, *, data=None, **kwargs)>,\n",
       " 'margins': <function matplotlib.pyplot.margins(*margins, x=None, y=None, tight=True)>,\n",
       " 'minorticks_off': <function matplotlib.pyplot.minorticks_off()>,\n",
       " 'minorticks_on': <function matplotlib.pyplot.minorticks_on()>,\n",
       " 'pcolor': <function matplotlib.pyplot.pcolor(*args, shading=None, alpha=None, norm=None, cmap=None, vmin=None, vmax=None, data=None, **kwargs)>,\n",
       " 'pcolormesh': <function matplotlib.pyplot.pcolormesh(*args, alpha=None, norm=None, cmap=None, vmin=None, vmax=None, shading=None, antialiased=False, data=None, **kwargs)>,\n",
       " 'phase_spectrum': <function matplotlib.pyplot.phase_spectrum(x, Fs=None, Fc=None, window=None, pad_to=None, sides=None, *, data=None, **kwargs)>,\n",
       " 'pie': <function matplotlib.pyplot.pie(x, explode=None, labels=None, colors=None, autopct=None, pctdistance=0.6, shadow=False, labeldistance=1.1, startangle=0, radius=1, counterclock=True, wedgeprops=None, textprops=None, center=(0, 0), frame=False, rotatelabels=False, *, normalize=None, data=None)>,\n",
       " 'plot': <function matplotlib.pyplot.plot(*args, scalex=True, scaley=True, data=None, **kwargs)>,\n",
       " 'plot_date': <function matplotlib.pyplot.plot_date(x, y, fmt='o', tz=None, xdate=True, ydate=False, *, data=None, **kwargs)>,\n",
       " 'psd': <function matplotlib.pyplot.psd(x, NFFT=None, Fs=None, Fc=None, detrend=None, window=None, noverlap=None, pad_to=None, sides=None, scale_by_freq=None, return_line=None, *, data=None, **kwargs)>,\n",
       " 'quiver': <function matplotlib.pyplot.quiver(*args, data=None, **kw)>,\n",
       " 'quiverkey': <function matplotlib.pyplot.quiverkey(Q, X, Y, U, label, **kw)>,\n",
       " 'scatter': <function matplotlib.pyplot.scatter(x, y, s=None, c=None, marker=None, cmap=None, norm=None, vmin=None, vmax=None, alpha=None, linewidths=None, verts=<deprecated parameter>, edgecolors=None, *, plotnonfinite=False, data=None, **kwargs)>,\n",
       " 'semilogx': <function matplotlib.pyplot.semilogx(*args, **kwargs)>,\n",
       " 'semilogy': <function matplotlib.pyplot.semilogy(*args, **kwargs)>,\n",
       " 'specgram': <function matplotlib.pyplot.specgram(x, NFFT=None, Fs=None, Fc=None, detrend=None, window=None, noverlap=None, cmap=None, xextent=None, pad_to=None, sides=None, scale_by_freq=None, mode=None, scale=None, vmin=None, vmax=None, *, data=None, **kwargs)>,\n",
       " 'spy': <function matplotlib.pyplot.spy(Z, precision=0, marker=None, markersize=None, aspect='equal', origin='upper', **kwargs)>,\n",
       " 'stackplot': <function matplotlib.pyplot.stackplot(x, *args, labels=(), colors=None, baseline='zero', data=None, **kwargs)>,\n",
       " 'stem': <function matplotlib.pyplot.stem(*args, linefmt=None, markerfmt=None, basefmt=None, bottom=0, label=None, use_line_collection=True, data=None)>,\n",
       " 'step': <function matplotlib.pyplot.step(x, y, *args, where='pre', data=None, **kwargs)>,\n",
       " 'streamplot': <function matplotlib.pyplot.streamplot(x, y, u, v, density=1, linewidth=None, color=None, cmap=None, norm=None, arrowsize=1, arrowstyle='-|>', minlength=0.1, transform=None, zorder=None, start_points=None, maxlength=4.0, integration_direction='both', *, data=None)>,\n",
       " 'table': <function matplotlib.pyplot.table(cellText=None, cellColours=None, cellLoc='right', colWidths=None, rowLabels=None, rowColours=None, rowLoc='left', colLabels=None, colColours=None, colLoc='center', loc='bottom', bbox=None, edges='closed', **kwargs)>,\n",
       " 'text': <function matplotlib.pyplot.text(x, y, s, fontdict=None, **kwargs)>,\n",
       " 'tick_params': <function matplotlib.pyplot.tick_params(axis='both', **kwargs)>,\n",
       " 'ticklabel_format': <function matplotlib.pyplot.ticklabel_format(*, axis='both', style='', scilimits=None, useOffset=None, useLocale=None, useMathText=None)>,\n",
       " 'tricontour': <function matplotlib.pyplot.tricontour(*args, **kwargs)>,\n",
       " 'tricontourf': <function matplotlib.pyplot.tricontourf(*args, **kwargs)>,\n",
       " 'tripcolor': <function matplotlib.pyplot.tripcolor(*args, alpha=1.0, norm=None, cmap=None, vmin=None, vmax=None, shading='flat', facecolors=None, **kwargs)>,\n",
       " 'triplot': <function matplotlib.pyplot.triplot(*args, **kwargs)>,\n",
       " 'violinplot': <function matplotlib.pyplot.violinplot(dataset, positions=None, vert=True, widths=0.5, showmeans=False, showextrema=True, showmedians=False, quantiles=None, points=100, bw_method=None, *, data=None)>,\n",
       " 'vlines': <function matplotlib.pyplot.vlines(x, ymin, ymax, colors=None, linestyles='solid', label='', *, data=None, **kwargs)>,\n",
       " 'xcorr': <function matplotlib.pyplot.xcorr(x, y, normed=True, detrend=<function detrend_none at 0x0000024E53C70940>, usevlines=True, maxlags=10, *, data=None, **kwargs)>,\n",
       " 'sci': <function matplotlib.pyplot.sci(im)>,\n",
       " 'title': <function matplotlib.pyplot.title(label, fontdict=None, loc=None, pad=None, *, y=None, **kwargs)>,\n",
       " 'xlabel': <function matplotlib.pyplot.xlabel(xlabel, fontdict=None, labelpad=None, *, loc=None, **kwargs)>,\n",
       " 'ylabel': <function matplotlib.pyplot.ylabel(ylabel, fontdict=None, labelpad=None, *, loc=None, **kwargs)>,\n",
       " 'xscale': <function matplotlib.pyplot.xscale(value, **kwargs)>,\n",
       " 'yscale': <function matplotlib.pyplot.yscale(value, **kwargs)>,\n",
       " 'autumn': <function matplotlib.pyplot.autumn()>,\n",
       " 'bone': <function matplotlib.pyplot.bone()>,\n",
       " 'cool': <function matplotlib.pyplot.cool()>,\n",
       " 'copper': <function matplotlib.pyplot.copper()>,\n",
       " 'flag': <function matplotlib.pyplot.flag()>,\n",
       " 'gray': <function matplotlib.pyplot.gray()>,\n",
       " 'hot': <function matplotlib.pyplot.hot()>,\n",
       " 'hsv': <function matplotlib.pyplot.hsv()>,\n",
       " 'jet': <function matplotlib.pyplot.jet()>,\n",
       " 'pink': <function matplotlib.pyplot.pink()>,\n",
       " 'prism': <function matplotlib.pyplot.prism()>,\n",
       " 'spring': <function matplotlib.pyplot.spring()>,\n",
       " 'summer': <function matplotlib.pyplot.summer()>,\n",
       " 'winter': <function matplotlib.pyplot.winter()>,\n",
       " 'magma': <function matplotlib.pyplot.magma()>,\n",
       " 'inferno': <function matplotlib.pyplot.inferno()>,\n",
       " 'plasma': <function matplotlib.pyplot.plasma()>,\n",
       " 'viridis': <function matplotlib.pyplot.viridis()>,\n",
       " 'nipy_spectral': <function matplotlib.pyplot.nipy_spectral()>,\n",
       " 'ModuleDeprecationWarning': numpy.ModuleDeprecationWarning,\n",
       " 'VisibleDeprecationWarning': numpy.VisibleDeprecationWarning,\n",
       " 'show_config': <function numpy.__config__.show()>,\n",
       " 'char': <module 'numpy.core.defchararray' from 'c:\\\\users\\\\gb-ofc-006\\\\appdata\\\\local\\\\programs\\\\python\\\\python38\\\\lib\\\\site-packages\\\\numpy\\\\core\\\\defchararray.py'>,\n",
       " 'rec': <module 'numpy.core.records' from 'c:\\\\users\\\\gb-ofc-006\\\\appdata\\\\local\\\\programs\\\\python\\\\python38\\\\lib\\\\site-packages\\\\numpy\\\\core\\\\records.py'>,\n",
       " 'memmap': numpy.memmap,\n",
       " 'newaxis': None,\n",
       " 'ndarray': numpy.ndarray,\n",
       " 'flatiter': numpy.flatiter,\n",
       " 'nditer': numpy.nditer,\n",
       " 'nested_iters': <function numpy.nested_iters>,\n",
       " 'ufunc': numpy.ufunc,\n",
       " 'arange': <function numpy.arange>,\n",
       " 'array': <function numpy.array>,\n",
       " 'zeros': <function numpy.zeros>,\n",
       " 'count_nonzero': <function numpy.count_nonzero(a, axis=None)>,\n",
       " 'empty': <function numpy.empty>,\n",
       " 'broadcast': numpy.broadcast,\n",
       " 'dtype': numpy.dtype,\n",
       " 'fromstring': <function numpy.fromstring>,\n",
       " 'fromfile': <function numpy.fromfile>,\n",
       " 'frombuffer': <function numpy.frombuffer>,\n",
       " 'int_asbuffer': <function numpy.core._multiarray_umath.int_asbuffer>,\n",
       " 'where': <function numpy.where>,\n",
       " 'argwhere': <function numpy.argwhere(a)>,\n",
       " 'copyto': <function numpy.copyto>,\n",
       " 'concatenate': <function numpy.concatenate>,\n",
       " 'fastCopyAndTranspose': <function numpy.core._multiarray_umath._fastCopyAndTranspose>,\n",
       " 'lexsort': <function numpy.lexsort>,\n",
       " 'set_numeric_ops': <function numpy.set_numeric_ops>,\n",
       " 'can_cast': <function numpy.can_cast>,\n",
       " 'promote_types': <function numpy.promote_types>,\n",
       " 'min_scalar_type': <function numpy.min_scalar_type>,\n",
       " 'result_type': <function numpy.result_type>,\n",
       " 'isfortran': <function numpy.isfortran(a)>,\n",
       " 'empty_like': <function numpy.empty_like>,\n",
       " 'zeros_like': <function numpy.zeros_like(a, dtype=None, order='K', subok=True, shape=None)>,\n",
       " 'ones_like': <function numpy.ones_like(a, dtype=None, order='K', subok=True, shape=None)>,\n",
       " 'correlate': <function numpy.correlate(a, v, mode='valid')>,\n",
       " 'convolve': <function numpy.convolve(a, v, mode='full')>,\n",
       " 'inner': <function numpy.inner>,\n",
       " 'dot': <function numpy.dot>,\n",
       " 'outer': <function numpy.outer(a, b, out=None)>,\n",
       " 'vdot': <function numpy.vdot>,\n",
       " 'roll': <function numpy.roll(a, shift, axis=None)>,\n",
       " 'rollaxis': <function numpy.rollaxis(a, axis, start=0)>,\n",
       " 'moveaxis': <function numpy.moveaxis(a, source, destination)>,\n",
       " 'cross': <function numpy.cross(a, b, axisa=-1, axisb=-1, axisc=-1, axis=None)>,\n",
       " 'tensordot': <function numpy.tensordot(a, b, axes=2)>,\n",
       " 'little_endian': True,\n",
       " 'fromiter': <function numpy.fromiter>,\n",
       " 'array_equal': <function numpy.array_equal(a1, a2)>,\n",
       " 'array_equiv': <function numpy.array_equiv(a1, a2)>,\n",
       " 'indices': <function numpy.indices(dimensions, dtype=<class 'int'>, sparse=False)>,\n",
       " 'fromfunction': <function numpy.fromfunction(function, shape, **kwargs)>,\n",
       " 'isclose': <function numpy.isclose(a, b, rtol=1e-05, atol=1e-08, equal_nan=False)>,\n",
       " 'isscalar': <function numpy.isscalar(element)>,\n",
       " 'binary_repr': <function numpy.binary_repr(num, width=None)>,\n",
       " 'base_repr': <function numpy.base_repr(number, base=2, padding=0)>,\n",
       " 'ones': <function numpy.ones(shape, dtype=None, order='C')>,\n",
       " 'identity': <function numpy.identity(n, dtype=None)>,\n",
       " 'allclose': <function numpy.allclose(a, b, rtol=1e-05, atol=1e-08, equal_nan=False)>,\n",
       " 'compare_chararrays': <function numpy.core._multiarray_umath.compare_chararrays>,\n",
       " 'putmask': <function numpy.putmask>,\n",
       " 'flatnonzero': <function numpy.flatnonzero(a)>,\n",
       " 'Inf': inf,\n",
       " 'inf': inf,\n",
       " 'infty': inf,\n",
       " 'Infinity': inf,\n",
       " 'nan': nan,\n",
       " 'NaN': nan,\n",
       " 'False_': False,\n",
       " 'True_': True,\n",
       " 'bitwise_not': <ufunc 'invert'>,\n",
       " 'CLIP': 0,\n",
       " 'RAISE': 2,\n",
       " 'WRAP': 1,\n",
       " 'MAXDIMS': 32,\n",
       " 'BUFSIZE': 8192,\n",
       " 'ALLOW_THREADS': 1,\n",
       " 'ComplexWarning': numpy.ComplexWarning,\n",
       " 'full': <function numpy.full(shape, fill_value, dtype=None, order='C')>,\n",
       " 'full_like': <function numpy.full_like(a, fill_value, dtype=None, order='K', subok=True, shape=None)>,\n",
       " 'matmul': <ufunc 'matmul'>,\n",
       " 'shares_memory': <function numpy.shares_memory>,\n",
       " 'may_share_memory': <function numpy.may_share_memory>,\n",
       " 'MAY_SHARE_BOUNDS': 0,\n",
       " 'MAY_SHARE_EXACT': -1,\n",
       " 'TooHardError': numpy.TooHardError,\n",
       " 'AxisError': numpy.AxisError,\n",
       " 'alen': <function numpy.alen(a)>,\n",
       " 'all': <function numpy.all(a, axis=None, out=None, keepdims=<no value>)>,\n",
       " 'alltrue': <function numpy.alltrue(*args, **kwargs)>,\n",
       " 'amax': <function numpy.amax(a, axis=None, out=None, keepdims=<no value>, initial=<no value>, where=<no value>)>,\n",
       " 'amin': <function numpy.amin(a, axis=None, out=None, keepdims=<no value>, initial=<no value>, where=<no value>)>,\n",
       " 'any': <function numpy.any(a, axis=None, out=None, keepdims=<no value>)>,\n",
       " 'argmax': <function numpy.argmax(a, axis=None, out=None)>,\n",
       " 'argmin': <function numpy.argmin(a, axis=None, out=None)>,\n",
       " 'argpartition': <function numpy.argpartition(a, kth, axis=-1, kind='introselect', order=None)>,\n",
       " 'argsort': <function numpy.argsort(a, axis=-1, kind=None, order=None)>,\n",
       " 'around': <function numpy.around(a, decimals=0, out=None)>,\n",
       " 'choose': <function numpy.choose(a, choices, out=None, mode='raise')>,\n",
       " 'clip': <function numpy.clip(a, a_min, a_max, out=None, **kwargs)>,\n",
       " 'compress': <function numpy.compress(condition, a, axis=None, out=None)>,\n",
       " 'cumprod': <function numpy.cumprod(a, axis=None, dtype=None, out=None)>,\n",
       " 'cumproduct': <function numpy.cumproduct(*args, **kwargs)>,\n",
       " 'cumsum': <function numpy.cumsum(a, axis=None, dtype=None, out=None)>,\n",
       " 'diagonal': <function numpy.diagonal(a, offset=0, axis1=0, axis2=1)>,\n",
       " 'mean': <function numpy.mean(a, axis=None, dtype=None, out=None, keepdims=<no value>)>,\n",
       " 'ndim': <function numpy.ndim(a)>,\n",
       " 'nonzero': <function numpy.nonzero(a)>,\n",
       " 'partition': <function numpy.partition(a, kth, axis=-1, kind='introselect', order=None)>,\n",
       " 'prod': <function numpy.prod(a, axis=None, dtype=None, out=None, keepdims=<no value>, initial=<no value>, where=<no value>)>,\n",
       " 'product': <function numpy.product(*args, **kwargs)>,\n",
       " 'ptp': <function numpy.ptp(a, axis=None, out=None, keepdims=<no value>)>,\n",
       " 'put': <function numpy.put(a, ind, v, mode='raise')>,\n",
       " 'ravel': <function numpy.ravel(a, order='C')>,\n",
       " 'repeat': <function numpy.repeat(a, repeats, axis=None)>,\n",
       " 'reshape': <function numpy.reshape(a, newshape, order='C')>,\n",
       " 'resize': <function numpy.resize(a, new_shape)>,\n",
       " 'round_': <function numpy.round_(a, decimals=0, out=None)>,\n",
       " 'searchsorted': <function numpy.searchsorted(a, v, side='left', sorter=None)>,\n",
       " 'shape': <function numpy.shape(a)>,\n",
       " 'size': <function numpy.size(a, axis=None)>,\n",
       " 'sometrue': <function numpy.sometrue(*args, **kwargs)>,\n",
       " 'sort': <function numpy.sort(a, axis=-1, kind=None, order=None)>,\n",
       " 'squeeze': <function numpy.squeeze(a, axis=None)>,\n",
       " 'std': <function numpy.std(a, axis=None, dtype=None, out=None, ddof=0, keepdims=<no value>)>,\n",
       " 'sum': <function numpy.sum(a, axis=None, dtype=None, out=None, keepdims=<no value>, initial=<no value>, where=<no value>)>,\n",
       " 'swapaxes': <function numpy.swapaxes(a, axis1, axis2)>,\n",
       " 'take': <function numpy.take(a, indices, axis=None, out=None, mode='raise')>,\n",
       " 'trace': <function numpy.trace(a, offset=0, axis1=0, axis2=1, dtype=None, out=None)>,\n",
       " 'transpose': <function numpy.transpose(a, axes=None)>,\n",
       " 'var': <function numpy.var(a, axis=None, dtype=None, out=None, ddof=0, keepdims=<no value>)>,\n",
       " 'ERR_CALL': 3,\n",
       " 'ERR_DEFAULT': 521,\n",
       " 'ERR_IGNORE': 0,\n",
       " 'ERR_LOG': 5,\n",
       " 'ERR_PRINT': 4,\n",
       " 'ERR_RAISE': 2,\n",
       " 'ERR_WARN': 1,\n",
       " 'FLOATING_POINT_SUPPORT': 1,\n",
       " 'FPE_DIVIDEBYZERO': 1,\n",
       " 'FPE_INVALID': 8,\n",
       " 'FPE_OVERFLOW': 2,\n",
       " 'FPE_UNDERFLOW': 4,\n",
       " 'NAN': nan,\n",
       " 'NINF': -inf,\n",
       " 'NZERO': -0.0,\n",
       " 'PINF': inf,\n",
       " 'PZERO': 0.0,\n",
       " 'SHIFT_DIVIDEBYZERO': 0,\n",
       " 'SHIFT_INVALID': 9,\n",
       " 'SHIFT_OVERFLOW': 3,\n",
       " 'SHIFT_UNDERFLOW': 6,\n",
       " 'UFUNC_BUFSIZE_DEFAULT': 8192,\n",
       " 'UFUNC_PYVALS_NAME': 'UFUNC_PYVALS',\n",
       " 'absolute': <ufunc 'absolute'>,\n",
       " 'add': <ufunc 'add'>,\n",
       " 'arccos': <ufunc 'arccos'>,\n",
       " 'arccosh': <ufunc 'arccosh'>,\n",
       " 'arcsin': <ufunc 'arcsin'>,\n",
       " 'arcsinh': <ufunc 'arcsinh'>,\n",
       " 'arctan': <ufunc 'arctan'>,\n",
       " 'arctan2': <ufunc 'arctan2'>,\n",
       " 'arctanh': <ufunc 'arctanh'>,\n",
       " 'bitwise_and': <ufunc 'bitwise_and'>,\n",
       " 'bitwise_or': <ufunc 'bitwise_or'>,\n",
       " 'bitwise_xor': <ufunc 'bitwise_xor'>,\n",
       " 'cbrt': <ufunc 'cbrt'>,\n",
       " 'ceil': <ufunc 'ceil'>,\n",
       " 'conj': <ufunc 'conjugate'>,\n",
       " 'conjugate': <ufunc 'conjugate'>,\n",
       " 'copysign': <ufunc 'copysign'>,\n",
       " 'cos': <ufunc 'cos'>,\n",
       " 'cosh': <ufunc 'cosh'>,\n",
       " 'deg2rad': <ufunc 'deg2rad'>,\n",
       " 'degrees': <ufunc 'degrees'>,\n",
       " 'divide': <ufunc 'true_divide'>,\n",
       " 'divmod': <ufunc 'divmod'>,\n",
       " 'e': 2.718281828459045,\n",
       " 'equal': <ufunc 'equal'>,\n",
       " 'euler_gamma': 0.5772156649015329,\n",
       " 'exp': <ufunc 'exp'>,\n",
       " 'exp2': <ufunc 'exp2'>,\n",
       " 'expm1': <ufunc 'expm1'>,\n",
       " 'fabs': <ufunc 'fabs'>,\n",
       " 'floor': <ufunc 'floor'>,\n",
       " 'floor_divide': <ufunc 'floor_divide'>,\n",
       " 'float_power': <ufunc 'float_power'>,\n",
       " 'fmax': <ufunc 'fmax'>,\n",
       " 'fmin': <ufunc 'fmin'>,\n",
       " 'fmod': <ufunc 'fmod'>,\n",
       " 'frexp': <ufunc 'frexp'>,\n",
       " 'frompyfunc': <function numpy.frompyfunc>,\n",
       " 'gcd': <ufunc 'gcd'>,\n",
       " 'geterrobj': <function numpy.geterrobj>,\n",
       " 'greater': <ufunc 'greater'>,\n",
       " 'greater_equal': <ufunc 'greater_equal'>,\n",
       " 'heaviside': <ufunc 'heaviside'>,\n",
       " 'hypot': <ufunc 'hypot'>,\n",
       " 'invert': <ufunc 'invert'>,\n",
       " 'isfinite': <ufunc 'isfinite'>,\n",
       " 'isinf': <ufunc 'isinf'>,\n",
       " 'isnan': <ufunc 'isnan'>,\n",
       " 'isnat': <ufunc 'isnat'>,\n",
       " 'lcm': <ufunc 'lcm'>,\n",
       " 'ldexp': <ufunc 'ldexp'>,\n",
       " 'left_shift': <ufunc 'left_shift'>,\n",
       " 'less': <ufunc 'less'>,\n",
       " 'less_equal': <ufunc 'less_equal'>,\n",
       " 'log': <ufunc 'log'>,\n",
       " 'log10': <ufunc 'log10'>,\n",
       " 'log1p': <ufunc 'log1p'>,\n",
       " 'log2': <ufunc 'log2'>,\n",
       " 'logaddexp': <ufunc 'logaddexp'>,\n",
       " 'logaddexp2': <ufunc 'logaddexp2'>,\n",
       " 'logical_and': <ufunc 'logical_and'>,\n",
       " 'logical_not': <ufunc 'logical_not'>,\n",
       " 'logical_or': <ufunc 'logical_or'>,\n",
       " 'logical_xor': <ufunc 'logical_xor'>,\n",
       " 'maximum': <ufunc 'maximum'>,\n",
       " 'minimum': <ufunc 'minimum'>,\n",
       " 'mod': <ufunc 'remainder'>,\n",
       " 'modf': <ufunc 'modf'>,\n",
       " 'multiply': <ufunc 'multiply'>,\n",
       " 'negative': <ufunc 'negative'>,\n",
       " 'nextafter': <ufunc 'nextafter'>,\n",
       " 'not_equal': <ufunc 'not_equal'>,\n",
       " 'pi': 3.141592653589793,\n",
       " 'positive': <ufunc 'positive'>,\n",
       " 'power': <ufunc 'power'>,\n",
       " 'rad2deg': <ufunc 'rad2deg'>,\n",
       " 'radians': <ufunc 'radians'>,\n",
       " 'reciprocal': <ufunc 'reciprocal'>,\n",
       " 'remainder': <ufunc 'remainder'>,\n",
       " 'right_shift': <ufunc 'right_shift'>,\n",
       " 'rint': <ufunc 'rint'>,\n",
       " 'seterrobj': <function numpy.seterrobj>,\n",
       " 'sign': <ufunc 'sign'>,\n",
       " 'signbit': <ufunc 'signbit'>,\n",
       " 'sin': <ufunc 'sin'>,\n",
       " 'sinh': <ufunc 'sinh'>,\n",
       " 'spacing': <ufunc 'spacing'>,\n",
       " 'sqrt': <ufunc 'sqrt'>,\n",
       " 'square': <ufunc 'square'>,\n",
       " 'subtract': <ufunc 'subtract'>,\n",
       " 'tan': <ufunc 'tan'>,\n",
       " 'tanh': <ufunc 'tanh'>,\n",
       " 'true_divide': <ufunc 'true_divide'>,\n",
       " 'trunc': <ufunc 'trunc'>,\n",
       " 'sctypeDict': {'?': numpy.bool_,\n",
       "  0: numpy.bool_,\n",
       "  'byte': numpy.int8,\n",
       "  'b': numpy.int8,\n",
       "  1: numpy.int8,\n",
       "  'ubyte': numpy.uint8,\n",
       "  'B': numpy.uint8,\n",
       "  2: numpy.uint8,\n",
       "  'short': numpy.int16,\n",
       "  'h': numpy.int16,\n",
       "  3: numpy.int16,\n",
       "  'ushort': numpy.uint16,\n",
       "  'H': numpy.uint16,\n",
       "  4: numpy.uint16,\n",
       "  'i': numpy.intc,\n",
       "  5: numpy.intc,\n",
       "  'uint': numpy.uint32,\n",
       "  'I': numpy.uintc,\n",
       "  6: numpy.uintc,\n",
       "  'intp': numpy.int64,\n",
       "  'p': numpy.int64,\n",
       "  9: numpy.int64,\n",
       "  'uintp': numpy.uint64,\n",
       "  'P': numpy.uint64,\n",
       "  10: numpy.uint64,\n",
       "  'long': numpy.int32,\n",
       "  'l': numpy.int32,\n",
       "  7: numpy.int32,\n",
       "  'L': numpy.uint32,\n",
       "  8: numpy.uint32,\n",
       "  'longlong': numpy.int64,\n",
       "  'q': numpy.int64,\n",
       "  'ulonglong': numpy.uint64,\n",
       "  'Q': numpy.uint64,\n",
       "  'half': numpy.float16,\n",
       "  'e': numpy.float16,\n",
       "  23: numpy.float16,\n",
       "  'f': numpy.float32,\n",
       "  11: numpy.float32,\n",
       "  'double': numpy.float64,\n",
       "  'd': numpy.float64,\n",
       "  12: numpy.float64,\n",
       "  'longdouble': numpy.longdouble,\n",
       "  'g': numpy.longdouble,\n",
       "  13: numpy.longdouble,\n",
       "  'cfloat': numpy.complex128,\n",
       "  'F': numpy.complex64,\n",
       "  14: numpy.complex64,\n",
       "  'cdouble': numpy.complex128,\n",
       "  'D': numpy.complex128,\n",
       "  15: numpy.complex128,\n",
       "  'clongdouble': numpy.clongdouble,\n",
       "  'G': numpy.clongdouble,\n",
       "  16: numpy.clongdouble,\n",
       "  'O': numpy.object_,\n",
       "  17: numpy.object_,\n",
       "  'S': numpy.bytes_,\n",
       "  18: numpy.bytes_,\n",
       "  'unicode': numpy.str_,\n",
       "  'U': numpy.str_,\n",
       "  19: numpy.str_,\n",
       "  'void': numpy.void,\n",
       "  'V': numpy.void,\n",
       "  20: numpy.void,\n",
       "  'M': numpy.datetime64,\n",
       "  21: numpy.datetime64,\n",
       "  'm': numpy.timedelta64,\n",
       "  22: numpy.timedelta64,\n",
       "  'bool8': numpy.bool_,\n",
       "  'Bool': numpy.bool_,\n",
       "  'b1': numpy.bool_,\n",
       "  'int64': numpy.int64,\n",
       "  'Int64': numpy.int64,\n",
       "  'i8': numpy.int64,\n",
       "  'uint64': numpy.uint64,\n",
       "  'Uint64': numpy.uint64,\n",
       "  'u8': numpy.uint64,\n",
       "  'float16': numpy.float16,\n",
       "  'Float16': numpy.float16,\n",
       "  'f2': numpy.float16,\n",
       "  'float32': numpy.float32,\n",
       "  'Float32': numpy.float32,\n",
       "  'f4': numpy.float32,\n",
       "  'float64': numpy.float64,\n",
       "  'Float64': numpy.float64,\n",
       "  'f8': numpy.float64,\n",
       "  'complex64': numpy.complex64,\n",
       "  'Complex32': numpy.complex64,\n",
       "  'c8': numpy.complex64,\n",
       "  'complex128': numpy.complex128,\n",
       "  'Complex64': numpy.complex128,\n",
       "  'c16': numpy.complex128,\n",
       "  'object0': numpy.object_,\n",
       "  'Object0': numpy.object_,\n",
       "  'bytes0': numpy.bytes_,\n",
       "  'Bytes0': numpy.bytes_,\n",
       "  'str0': numpy.str_,\n",
       "  'Str0': numpy.str_,\n",
       "  'void0': numpy.void,\n",
       "  'Void0': numpy.void,\n",
       "  'datetime64': numpy.datetime64,\n",
       "  'Datetime64': numpy.datetime64,\n",
       "  'M8': numpy.datetime64,\n",
       "  'timedelta64': numpy.timedelta64,\n",
       "  'Timedelta64': numpy.timedelta64,\n",
       "  'm8': numpy.timedelta64,\n",
       "  'int32': numpy.int32,\n",
       "  'Int32': numpy.int32,\n",
       "  'i4': numpy.int32,\n",
       "  'uint32': numpy.uint32,\n",
       "  'UInt32': numpy.uint32,\n",
       "  'u4': numpy.uint32,\n",
       "  'UInt64': numpy.uint64,\n",
       "  'int16': numpy.int16,\n",
       "  'Int16': numpy.int16,\n",
       "  'i2': numpy.int16,\n",
       "  'uint16': numpy.uint16,\n",
       "  'UInt16': numpy.uint16,\n",
       "  'u2': numpy.uint16,\n",
       "  'int8': numpy.int8,\n",
       "  'Int8': numpy.int8,\n",
       "  'i1': numpy.int8,\n",
       "  'uint8': numpy.uint8,\n",
       "  'UInt8': numpy.uint8,\n",
       "  'u1': numpy.uint8,\n",
       "  'complex_': numpy.complex128,\n",
       "  'int0': numpy.int64,\n",
       "  'uint0': numpy.uint64,\n",
       "  'single': numpy.float32,\n",
       "  'csingle': numpy.complex64,\n",
       "  'singlecomplex': numpy.complex64,\n",
       "  'float_': numpy.float64,\n",
       "  'intc': numpy.intc,\n",
       "  'uintc': numpy.uintc,\n",
       "  'int_': numpy.int32,\n",
       "  'longfloat': numpy.longdouble,\n",
       "  'clongfloat': numpy.clongdouble,\n",
       "  'longcomplex': numpy.clongdouble,\n",
       "  'bool_': numpy.bool_,\n",
       "  'bytes_': numpy.bytes_,\n",
       "  'string_': numpy.bytes_,\n",
       "  'unicode_': numpy.str_,\n",
       "  'object_': numpy.object_,\n",
       "  'str_': numpy.str_,\n",
       "  'int': numpy.int32,\n",
       "  'float': numpy.float64,\n",
       "  'complex': numpy.complex128,\n",
       "  'bool': numpy.bool_,\n",
       "  'object': numpy.object_,\n",
       "  'str': numpy.str_,\n",
       "  'bytes': numpy.bytes_,\n",
       "  'a': numpy.bytes_},\n",
       " 'sctypeNA': {'Bool': numpy.bool_,\n",
       "  numpy.bool_: 'Bool',\n",
       "  '?': 'Bool',\n",
       "  'b1': 'Bool',\n",
       "  'Int64': numpy.int64,\n",
       "  numpy.int64: 'Int64',\n",
       "  'p': 'Int64',\n",
       "  'i8': numpy.int64,\n",
       "  'Uint64': numpy.uint64,\n",
       "  numpy.uint64: 'UInt64',\n",
       "  'P': 'Uint64',\n",
       "  'u8': numpy.uint64,\n",
       "  'Float16': numpy.float16,\n",
       "  numpy.float16: 'Float16',\n",
       "  'e': 'Float16',\n",
       "  'f2': 'Float16',\n",
       "  'Float32': numpy.float32,\n",
       "  numpy.float32: 'Float32',\n",
       "  'f': 'Float32',\n",
       "  'f4': 'Float32',\n",
       "  'Float64': numpy.float64,\n",
       "  numpy.float64: 'Float64',\n",
       "  'd': 'Float64',\n",
       "  'f8': 'Float64',\n",
       "  'Complex32': numpy.complex64,\n",
       "  numpy.complex64: 'Complex32',\n",
       "  'F': 'Complex32',\n",
       "  'c8': 'Complex32',\n",
       "  'Complex64': numpy.complex128,\n",
       "  numpy.complex128: 'Complex64',\n",
       "  'D': 'Complex64',\n",
       "  'c16': 'Complex64',\n",
       "  'Object0': numpy.object_,\n",
       "  numpy.object_: 'Object0',\n",
       "  'O': 'Object0',\n",
       "  'Bytes0': numpy.bytes_,\n",
       "  numpy.bytes_: 'Bytes0',\n",
       "  'S': 'Bytes0',\n",
       "  'Str0': numpy.str_,\n",
       "  numpy.str_: 'Str0',\n",
       "  'U': 'Str0',\n",
       "  'Void0': numpy.void,\n",
       "  numpy.void: 'Void0',\n",
       "  'V': 'Void0',\n",
       "  'Datetime64': numpy.datetime64,\n",
       "  numpy.datetime64: 'Datetime64',\n",
       "  'M': 'Datetime64',\n",
       "  'M8': 'Datetime64',\n",
       "  'Timedelta64': numpy.timedelta64,\n",
       "  numpy.timedelta64: 'Timedelta64',\n",
       "  'm': 'Timedelta64',\n",
       "  'm8': 'Timedelta64',\n",
       "  'Int32': numpy.int32,\n",
       "  'i4': numpy.int32,\n",
       "  numpy.int32: 'Int32',\n",
       "  'l': 'Int32',\n",
       "  'UInt32': numpy.uint32,\n",
       "  'u4': numpy.uint32,\n",
       "  numpy.uint32: 'UInt32',\n",
       "  'L': 'UInt32',\n",
       "  'q': 'Int64',\n",
       "  'UInt64': numpy.uint64,\n",
       "  'Q': 'UInt64',\n",
       "  numpy.intc: 'Int32',\n",
       "  'i': 'Int32',\n",
       "  numpy.uintc: 'UInt32',\n",
       "  'I': 'UInt32',\n",
       "  'Int16': numpy.int16,\n",
       "  'i2': numpy.int16,\n",
       "  numpy.int16: 'Int16',\n",
       "  'h': 'Int16',\n",
       "  'UInt16': numpy.uint16,\n",
       "  'u2': numpy.uint16,\n",
       "  numpy.uint16: 'UInt16',\n",
       "  'H': 'UInt16',\n",
       "  'Int8': numpy.int8,\n",
       "  'i1': numpy.int8,\n",
       "  numpy.int8: 'Int8',\n",
       "  'b': 'Int8',\n",
       "  'UInt8': numpy.uint8,\n",
       "  'u1': numpy.uint8,\n",
       "  numpy.uint8: 'UInt8',\n",
       "  'B': 'UInt8'},\n",
       " 'typeDict': {'?': numpy.bool_,\n",
       "  0: numpy.bool_,\n",
       "  'byte': numpy.int8,\n",
       "  'b': numpy.int8,\n",
       "  1: numpy.int8,\n",
       "  'ubyte': numpy.uint8,\n",
       "  'B': numpy.uint8,\n",
       "  2: numpy.uint8,\n",
       "  'short': numpy.int16,\n",
       "  'h': numpy.int16,\n",
       "  3: numpy.int16,\n",
       "  'ushort': numpy.uint16,\n",
       "  'H': numpy.uint16,\n",
       "  4: numpy.uint16,\n",
       "  'i': numpy.intc,\n",
       "  5: numpy.intc,\n",
       "  'uint': numpy.uint32,\n",
       "  'I': numpy.uintc,\n",
       "  6: numpy.uintc,\n",
       "  'intp': numpy.int64,\n",
       "  'p': numpy.int64,\n",
       "  9: numpy.int64,\n",
       "  'uintp': numpy.uint64,\n",
       "  'P': numpy.uint64,\n",
       "  10: numpy.uint64,\n",
       "  'long': numpy.int32,\n",
       "  'l': numpy.int32,\n",
       "  7: numpy.int32,\n",
       "  'L': numpy.uint32,\n",
       "  8: numpy.uint32,\n",
       "  'longlong': numpy.int64,\n",
       "  'q': numpy.int64,\n",
       "  'ulonglong': numpy.uint64,\n",
       "  'Q': numpy.uint64,\n",
       "  'half': numpy.float16,\n",
       "  'e': numpy.float16,\n",
       "  23: numpy.float16,\n",
       "  'f': numpy.float32,\n",
       "  11: numpy.float32,\n",
       "  'double': numpy.float64,\n",
       "  'd': numpy.float64,\n",
       "  12: numpy.float64,\n",
       "  'longdouble': numpy.longdouble,\n",
       "  'g': numpy.longdouble,\n",
       "  13: numpy.longdouble,\n",
       "  'cfloat': numpy.complex128,\n",
       "  'F': numpy.complex64,\n",
       "  14: numpy.complex64,\n",
       "  'cdouble': numpy.complex128,\n",
       "  'D': numpy.complex128,\n",
       "  15: numpy.complex128,\n",
       "  'clongdouble': numpy.clongdouble,\n",
       "  'G': numpy.clongdouble,\n",
       "  16: numpy.clongdouble,\n",
       "  'O': numpy.object_,\n",
       "  17: numpy.object_,\n",
       "  'S': numpy.bytes_,\n",
       "  18: numpy.bytes_,\n",
       "  'unicode': numpy.str_,\n",
       "  'U': numpy.str_,\n",
       "  19: numpy.str_,\n",
       "  'void': numpy.void,\n",
       "  'V': numpy.void,\n",
       "  20: numpy.void,\n",
       "  'M': numpy.datetime64,\n",
       "  21: numpy.datetime64,\n",
       "  'm': numpy.timedelta64,\n",
       "  22: numpy.timedelta64,\n",
       "  'bool8': numpy.bool_,\n",
       "  'Bool': numpy.bool_,\n",
       "  'b1': numpy.bool_,\n",
       "  'int64': numpy.int64,\n",
       "  'Int64': numpy.int64,\n",
       "  'i8': numpy.int64,\n",
       "  'uint64': numpy.uint64,\n",
       "  'Uint64': numpy.uint64,\n",
       "  'u8': numpy.uint64,\n",
       "  'float16': numpy.float16,\n",
       "  'Float16': numpy.float16,\n",
       "  'f2': numpy.float16,\n",
       "  'float32': numpy.float32,\n",
       "  'Float32': numpy.float32,\n",
       "  'f4': numpy.float32,\n",
       "  'float64': numpy.float64,\n",
       "  'Float64': numpy.float64,\n",
       "  'f8': numpy.float64,\n",
       "  'complex64': numpy.complex64,\n",
       "  'Complex32': numpy.complex64,\n",
       "  'c8': numpy.complex64,\n",
       "  'complex128': numpy.complex128,\n",
       "  'Complex64': numpy.complex128,\n",
       "  'c16': numpy.complex128,\n",
       "  'object0': numpy.object_,\n",
       "  'Object0': numpy.object_,\n",
       "  'bytes0': numpy.bytes_,\n",
       "  'Bytes0': numpy.bytes_,\n",
       "  'str0': numpy.str_,\n",
       "  'Str0': numpy.str_,\n",
       "  'void0': numpy.void,\n",
       "  'Void0': numpy.void,\n",
       "  'datetime64': numpy.datetime64,\n",
       "  'Datetime64': numpy.datetime64,\n",
       "  'M8': numpy.datetime64,\n",
       "  'timedelta64': numpy.timedelta64,\n",
       "  'Timedelta64': numpy.timedelta64,\n",
       "  'm8': numpy.timedelta64,\n",
       "  'int32': numpy.int32,\n",
       "  'Int32': numpy.int32,\n",
       "  'i4': numpy.int32,\n",
       "  'uint32': numpy.uint32,\n",
       "  'UInt32': numpy.uint32,\n",
       "  'u4': numpy.uint32,\n",
       "  'UInt64': numpy.uint64,\n",
       "  'int16': numpy.int16,\n",
       "  'Int16': numpy.int16,\n",
       "  'i2': numpy.int16,\n",
       "  'uint16': numpy.uint16,\n",
       "  'UInt16': numpy.uint16,\n",
       "  'u2': numpy.uint16,\n",
       "  'int8': numpy.int8,\n",
       "  'Int8': numpy.int8,\n",
       "  'i1': numpy.int8,\n",
       "  'uint8': numpy.uint8,\n",
       "  'UInt8': numpy.uint8,\n",
       "  'u1': numpy.uint8,\n",
       "  'complex_': numpy.complex128,\n",
       "  'int0': numpy.int64,\n",
       "  'uint0': numpy.uint64,\n",
       "  'single': numpy.float32,\n",
       "  'csingle': numpy.complex64,\n",
       "  'singlecomplex': numpy.complex64,\n",
       "  'float_': numpy.float64,\n",
       "  'intc': numpy.intc,\n",
       "  'uintc': numpy.uintc,\n",
       "  'int_': numpy.int32,\n",
       "  'longfloat': numpy.longdouble,\n",
       "  'clongfloat': numpy.clongdouble,\n",
       "  'longcomplex': numpy.clongdouble,\n",
       "  'bool_': numpy.bool_,\n",
       "  'bytes_': numpy.bytes_,\n",
       "  'string_': numpy.bytes_,\n",
       "  'unicode_': numpy.str_,\n",
       "  'object_': numpy.object_,\n",
       "  'str_': numpy.str_,\n",
       "  'int': numpy.int32,\n",
       "  'float': numpy.float64,\n",
       "  'complex': numpy.complex128,\n",
       "  'bool': numpy.bool_,\n",
       "  'object': numpy.object_,\n",
       "  'str': numpy.str_,\n",
       "  'bytes': numpy.bytes_,\n",
       "  'a': numpy.bytes_},\n",
       " 'typeNA': {'Bool': numpy.bool_,\n",
       "  numpy.bool_: 'Bool',\n",
       "  '?': 'Bool',\n",
       "  'b1': 'Bool',\n",
       "  'Int64': numpy.int64,\n",
       "  numpy.int64: 'Int64',\n",
       "  'p': 'Int64',\n",
       "  'i8': numpy.int64,\n",
       "  'Uint64': numpy.uint64,\n",
       "  numpy.uint64: 'UInt64',\n",
       "  'P': 'Uint64',\n",
       "  'u8': numpy.uint64,\n",
       "  'Float16': numpy.float16,\n",
       "  numpy.float16: 'Float16',\n",
       "  'e': 'Float16',\n",
       "  'f2': 'Float16',\n",
       "  'Float32': numpy.float32,\n",
       "  numpy.float32: 'Float32',\n",
       "  'f': 'Float32',\n",
       "  'f4': 'Float32',\n",
       "  'Float64': numpy.float64,\n",
       "  numpy.float64: 'Float64',\n",
       "  'd': 'Float64',\n",
       "  'f8': 'Float64',\n",
       "  'Complex32': numpy.complex64,\n",
       "  numpy.complex64: 'Complex32',\n",
       "  'F': 'Complex32',\n",
       "  'c8': 'Complex32',\n",
       "  'Complex64': numpy.complex128,\n",
       "  numpy.complex128: 'Complex64',\n",
       "  'D': 'Complex64',\n",
       "  'c16': 'Complex64',\n",
       "  'Object0': numpy.object_,\n",
       "  numpy.object_: 'Object0',\n",
       "  'O': 'Object0',\n",
       "  'Bytes0': numpy.bytes_,\n",
       "  numpy.bytes_: 'Bytes0',\n",
       "  'S': 'Bytes0',\n",
       "  'Str0': numpy.str_,\n",
       "  numpy.str_: 'Str0',\n",
       "  'U': 'Str0',\n",
       "  'Void0': numpy.void,\n",
       "  numpy.void: 'Void0',\n",
       "  'V': 'Void0',\n",
       "  'Datetime64': numpy.datetime64,\n",
       "  numpy.datetime64: 'Datetime64',\n",
       "  'M': 'Datetime64',\n",
       "  'M8': 'Datetime64',\n",
       "  'Timedelta64': numpy.timedelta64,\n",
       "  numpy.timedelta64: 'Timedelta64',\n",
       "  'm': 'Timedelta64',\n",
       "  'm8': 'Timedelta64',\n",
       "  'Int32': numpy.int32,\n",
       "  'i4': numpy.int32,\n",
       "  numpy.int32: 'Int32',\n",
       "  'l': 'Int32',\n",
       "  'UInt32': numpy.uint32,\n",
       "  'u4': numpy.uint32,\n",
       "  numpy.uint32: 'UInt32',\n",
       "  'L': 'UInt32',\n",
       "  'q': 'Int64',\n",
       "  'UInt64': numpy.uint64,\n",
       "  'Q': 'UInt64',\n",
       "  numpy.intc: 'Int32',\n",
       "  'i': 'Int32',\n",
       "  numpy.uintc: 'UInt32',\n",
       "  'I': 'UInt32',\n",
       "  'Int16': numpy.int16,\n",
       "  'i2': numpy.int16,\n",
       "  numpy.int16: 'Int16',\n",
       "  'h': 'Int16',\n",
       "  'UInt16': numpy.uint16,\n",
       "  'u2': numpy.uint16,\n",
       "  numpy.uint16: 'UInt16',\n",
       "  'H': 'UInt16',\n",
       "  'Int8': numpy.int8,\n",
       "  'i1': numpy.int8,\n",
       "  numpy.int8: 'Int8',\n",
       "  'b': 'Int8',\n",
       "  'UInt8': numpy.uint8,\n",
       "  'u1': numpy.uint8,\n",
       "  numpy.uint8: 'UInt8',\n",
       "  'B': 'UInt8'},\n",
       " 'sctypes': {'int': [numpy.int8, numpy.int16, numpy.int32, numpy.int64],\n",
       "  'uint': [numpy.uint8, numpy.uint16, numpy.uint32, numpy.uint64],\n",
       "  'float': [numpy.float16, numpy.float32, numpy.float64],\n",
       "  'complex': [numpy.complex64, numpy.complex128],\n",
       "  'others': [bool, object, bytes, str, numpy.void]},\n",
       " 'ScalarType': (int,\n",
       "  float,\n",
       "  complex,\n",
       "  int,\n",
       "  bool,\n",
       "  bytes,\n",
       "  str,\n",
       "  memoryview,\n",
       "  numpy.complex64,\n",
       "  numpy.uint16,\n",
       "  numpy.bytes_,\n",
       "  numpy.float16,\n",
       "  numpy.clongdouble,\n",
       "  numpy.int32,\n",
       "  numpy.timedelta64,\n",
       "  numpy.complex128,\n",
       "  numpy.uintc,\n",
       "  numpy.int64,\n",
       "  numpy.void,\n",
       "  numpy.longdouble,\n",
       "  numpy.uint8,\n",
       "  numpy.uint32,\n",
       "  numpy.int16,\n",
       "  numpy.uint64,\n",
       "  numpy.intc,\n",
       "  numpy.int8,\n",
       "  numpy.object_,\n",
       "  numpy.float64,\n",
       "  numpy.bool_,\n",
       "  numpy.float32,\n",
       "  numpy.datetime64,\n",
       "  numpy.str_),\n",
       " 'obj2sctype': <function numpy.obj2sctype(rep, default=None)>,\n",
       " 'cast': {numpy.complex64: <function numpy.core.numerictypes.<lambda>(x, k=<class 'numpy.complex64'>)>,\n",
       "  numpy.uint16: <function numpy.core.numerictypes.<lambda>(x, k=<class 'numpy.uint16'>)>,\n",
       "  numpy.bytes_: <function numpy.core.numerictypes.<lambda>(x, k=<class 'numpy.bytes_'>)>,\n",
       "  numpy.float16: <function numpy.core.numerictypes.<lambda>(x, k=<class 'numpy.float16'>)>,\n",
       "  numpy.clongdouble: <function numpy.core.numerictypes.<lambda>(x, k=<class 'numpy.clongdouble'>)>,\n",
       "  numpy.int32: <function numpy.core.numerictypes.<lambda>(x, k=<class 'numpy.int32'>)>,\n",
       "  numpy.timedelta64: <function numpy.core.numerictypes.<lambda>(x, k=<class 'numpy.timedelta64'>)>,\n",
       "  numpy.complex128: <function numpy.core.numerictypes.<lambda>(x, k=<class 'numpy.complex128'>)>,\n",
       "  numpy.uintc: <function numpy.core.numerictypes.<lambda>(x, k=<class 'numpy.uintc'>)>,\n",
       "  numpy.int64: <function numpy.core.numerictypes.<lambda>(x, k=<class 'numpy.int64'>)>,\n",
       "  numpy.void: <function numpy.core.numerictypes.<lambda>(x, k=<class 'numpy.void'>)>,\n",
       "  numpy.longdouble: <function numpy.core.numerictypes.<lambda>(x, k=<class 'numpy.longdouble'>)>,\n",
       "  numpy.uint8: <function numpy.core.numerictypes.<lambda>(x, k=<class 'numpy.uint8'>)>,\n",
       "  numpy.uint32: <function numpy.core.numerictypes.<lambda>(x, k=<class 'numpy.uint32'>)>,\n",
       "  numpy.int16: <function numpy.core.numerictypes.<lambda>(x, k=<class 'numpy.int16'>)>,\n",
       "  numpy.uint64: <function numpy.core.numerictypes.<lambda>(x, k=<class 'numpy.uint64'>)>,\n",
       "  numpy.intc: <function numpy.core.numerictypes.<lambda>(x, k=<class 'numpy.intc'>)>,\n",
       "  numpy.int8: <function numpy.core.numerictypes.<lambda>(x, k=<class 'numpy.int8'>)>,\n",
       "  numpy.object_: <function numpy.core.numerictypes.<lambda>(x, k=<class 'numpy.object_'>)>,\n",
       "  numpy.float64: <function numpy.core.numerictypes.<lambda>(x, k=<class 'numpy.float64'>)>,\n",
       "  numpy.bool_: <function numpy.core.numerictypes.<lambda>(x, k=<class 'numpy.bool_'>)>,\n",
       "  numpy.float32: <function numpy.core.numerictypes.<lambda>(x, k=<class 'numpy.float32'>)>,\n",
       "  numpy.datetime64: <function numpy.core.numerictypes.<lambda>(x, k=<class 'numpy.datetime64'>)>,\n",
       "  numpy.str_: <function numpy.core.numerictypes.<lambda>(x, k=<class 'numpy.str_'>)>},\n",
       " 'nbytes': {numpy.bool_: 1,\n",
       "  numpy.int8: 1,\n",
       "  numpy.uint8: 1,\n",
       "  numpy.int16: 2,\n",
       "  numpy.uint16: 2,\n",
       "  numpy.intc: 4,\n",
       "  numpy.uintc: 4,\n",
       "  numpy.int64: 8,\n",
       "  numpy.uint64: 8,\n",
       "  numpy.int32: 4,\n",
       "  numpy.uint32: 4,\n",
       "  numpy.float16: 2,\n",
       "  numpy.float32: 4,\n",
       "  numpy.float64: 8,\n",
       "  numpy.longdouble: 8,\n",
       "  numpy.complex64: 8,\n",
       "  numpy.complex128: 16,\n",
       "  numpy.clongdouble: 16,\n",
       "  numpy.object_: 8,\n",
       "  numpy.bytes_: 0,\n",
       "  numpy.str_: 0,\n",
       "  numpy.void: 0,\n",
       "  numpy.datetime64: 8,\n",
       "  numpy.timedelta64: 8},\n",
       " 'sctype2char': <function numpy.sctype2char(sctype)>,\n",
       " 'maximum_sctype': <function numpy.maximum_sctype(t)>,\n",
       " 'issctype': <function numpy.issctype(rep)>,\n",
       " 'typecodes': {'Character': 'c',\n",
       "  'Integer': 'bhilqp',\n",
       "  'UnsignedInteger': 'BHILQP',\n",
       "  'Float': 'efdg',\n",
       "  'Complex': 'FDG',\n",
       "  'AllInteger': 'bBhHiIlLqQpP',\n",
       "  'AllFloat': 'efdgFDG',\n",
       "  'Datetime': 'Mm',\n",
       "  'All': '?bhilqpBHILQPefdgFDGSUVOMm'},\n",
       " 'find_common_type': <function numpy.find_common_type(array_types, scalar_types)>,\n",
       " 'issubdtype': <function numpy.issubdtype(arg1, arg2)>,\n",
       " 'datetime_data': <function numpy.datetime_data>,\n",
       " 'datetime_as_string': <function numpy.datetime_as_string>,\n",
       " 'busday_offset': <function numpy.busday_offset>,\n",
       " 'busday_count': <function numpy.busday_count>,\n",
       " 'is_busday': <function numpy.is_busday>,\n",
       " 'busdaycalendar': numpy.busdaycalendar,\n",
       " 'byte': numpy.int8,\n",
       " 'ubyte': numpy.uint8,\n",
       " 'short': numpy.int16,\n",
       " 'ushort': numpy.uint16,\n",
       " 'uint': numpy.uint32,\n",
       " 'intp': numpy.int64,\n",
       " 'uintp': numpy.uint64,\n",
       " 'longlong': numpy.int64,\n",
       " 'ulonglong': numpy.uint64,\n",
       " 'half': numpy.float16,\n",
       " 'double': numpy.float64,\n",
       " 'longdouble': numpy.longdouble,\n",
       " 'cfloat': numpy.complex128,\n",
       " 'cdouble': numpy.complex128,\n",
       " 'clongdouble': numpy.clongdouble,\n",
       " 'void': numpy.void,\n",
       " 'generic': numpy.generic,\n",
       " 'number': numpy.number,\n",
       " 'integer': numpy.integer,\n",
       " 'inexact': numpy.inexact,\n",
       " 'signedinteger': numpy.signedinteger,\n",
       " 'unsignedinteger': numpy.unsignedinteger,\n",
       " 'floating': numpy.floating,\n",
       " 'complexfloating': numpy.complexfloating,\n",
       " 'flexible': numpy.flexible,\n",
       " 'character': numpy.character,\n",
       " 'bool8': numpy.bool_,\n",
       " 'int64': numpy.int64,\n",
       " 'uint64': numpy.uint64,\n",
       " 'float16': numpy.float16,\n",
       " 'float32': numpy.float32,\n",
       " 'float64': numpy.float64,\n",
       " 'complex64': numpy.complex64,\n",
       " 'complex128': numpy.complex128,\n",
       " 'object0': numpy.object_,\n",
       " 'bytes0': numpy.bytes_,\n",
       " 'str0': numpy.str_,\n",
       " 'void0': numpy.void,\n",
       " 'datetime64': numpy.datetime64,\n",
       " 'timedelta64': numpy.timedelta64,\n",
       " 'int32': numpy.int32,\n",
       " 'uint32': numpy.uint32,\n",
       " 'int16': numpy.int16,\n",
       " 'uint16': numpy.uint16,\n",
       " 'int8': numpy.int8,\n",
       " 'uint8': numpy.uint8,\n",
       " 'complex_': numpy.complex128,\n",
       " 'int0': numpy.int64,\n",
       " 'uint0': numpy.uint64,\n",
       " 'single': numpy.float32,\n",
       " 'csingle': numpy.complex64,\n",
       " 'singlecomplex': numpy.complex64,\n",
       " 'float_': numpy.float64,\n",
       " 'intc': numpy.intc,\n",
       " 'uintc': numpy.uintc,\n",
       " 'int_': numpy.int32,\n",
       " 'longfloat': numpy.longdouble,\n",
       " 'clongfloat': numpy.clongdouble,\n",
       " 'longcomplex': numpy.clongdouble,\n",
       " 'bool_': numpy.bool_,\n",
       " 'bytes_': numpy.bytes_,\n",
       " 'string_': numpy.bytes_,\n",
       " 'unicode_': numpy.str_,\n",
       " 'object_': numpy.object_,\n",
       " 'str_': numpy.str_,\n",
       " 'array2string': <function numpy.array2string(a, max_line_width=None, precision=None, suppress_small=None, separator=' ', prefix='', style=<no value>, formatter=None, threshold=None, edgeitems=None, sign=None, floatmode=None, suffix='', **kwarg)>,\n",
       " 'array_str': <function numpy.array_str(a, max_line_width=None, precision=None, suppress_small=None)>,\n",
       " 'array_repr': <function numpy.array_repr(arr, max_line_width=None, precision=None, suppress_small=None)>,\n",
       " 'set_string_function': <function numpy.core.arrayprint.set_string_function(f, repr=True)>,\n",
       " 'set_printoptions': <function numpy.set_printoptions(precision=None, threshold=None, edgeitems=None, linewidth=None, suppress=None, nanstr=None, infstr=None, formatter=None, sign=None, floatmode=None, **kwarg)>,\n",
       " 'get_printoptions': <function numpy.get_printoptions()>,\n",
       " 'printoptions': <function numpy.printoptions(*args, **kwargs)>,\n",
       " 'format_float_positional': <function numpy.format_float_positional(x, precision=None, unique=True, fractional=True, trim='k', sign=False, pad_left=None, pad_right=None)>,\n",
       " 'format_float_scientific': <function numpy.format_float_scientific(x, precision=None, unique=True, trim='k', sign=False, pad_left=None, exp_digits=None)>,\n",
       " 'asarray': <function numpy.asarray(a, dtype=None, order=None)>,\n",
       " 'asanyarray': <function numpy.asanyarray(a, dtype=None, order=None)>,\n",
       " 'ascontiguousarray': <function numpy.ascontiguousarray(a, dtype=None)>,\n",
       " 'asfortranarray': <function numpy.asfortranarray(a, dtype=None)>,\n",
       " 'require': <function numpy.require(a, dtype=None, requirements=None)>,\n",
       " 'seterr': <function numpy.seterr(all=None, divide=None, over=None, under=None, invalid=None)>,\n",
       " 'geterr': <function numpy.geterr()>,\n",
       " 'setbufsize': <function numpy.setbufsize(size)>,\n",
       " 'getbufsize': <function numpy.getbufsize()>,\n",
       " 'seterrcall': <function numpy.seterrcall(func)>,\n",
       " 'geterrcall': <function numpy.geterrcall()>,\n",
       " 'errstate': numpy.errstate,\n",
       " 'record': numpy.record,\n",
       " 'recarray': numpy.recarray,\n",
       " 'format_parser': numpy.format_parser,\n",
       " 'chararray': numpy.chararray,\n",
       " 'logspace': <function numpy.logspace(start, stop, num=50, endpoint=True, base=10.0, dtype=None, axis=0)>,\n",
       " 'linspace': <function numpy.linspace(start, stop, num=50, endpoint=True, retstep=False, dtype=None, axis=0)>,\n",
       " 'geomspace': <function numpy.geomspace(start, stop, num=50, endpoint=True, dtype=None, axis=0)>,\n",
       " 'MachAr': numpy.MachAr,\n",
       " 'finfo': numpy.finfo,\n",
       " 'iinfo': numpy.iinfo,\n",
       " 'atleast_1d': <function numpy.atleast_1d(*arys)>,\n",
       " 'atleast_2d': <function numpy.atleast_2d(*arys)>,\n",
       " 'atleast_3d': <function numpy.atleast_3d(*arys)>,\n",
       " 'block': <function numpy.block(arrays)>,\n",
       " 'hstack': <function numpy.hstack(tup)>,\n",
       " 'stack': <function numpy.stack(arrays, axis=0, out=None)>,\n",
       " 'vstack': <function numpy.vstack(tup)>,\n",
       " 'einsum': <function numpy.einsum(*operands, **kwargs)>,\n",
       " 'einsum_path': <function numpy.einsum_path(*operands, **kwargs)>,\n",
       " 'matrix': numpy.matrix,\n",
       " 'bmat': <function numpy.bmat(obj, ldict=None, gdict=None)>,\n",
       " 'mat': <function numpy.asmatrix(data, dtype=None)>,\n",
       " 'asmatrix': <function numpy.asmatrix(data, dtype=None)>,\n",
       " 'emath': <module 'numpy.lib.scimath' from 'c:\\\\users\\\\gb-ofc-006\\\\appdata\\\\local\\\\programs\\\\python\\\\python38\\\\lib\\\\site-packages\\\\numpy\\\\lib\\\\scimath.py'>,\n",
       " 'math': <module 'math' (built-in)>,\n",
       " 'tracemalloc_domain': 389047,\n",
       " 'iscomplexobj': <function numpy.iscomplexobj(x)>,\n",
       " 'isrealobj': <function numpy.isrealobj(x)>,\n",
       " 'imag': <function numpy.imag(val)>,\n",
       " 'iscomplex': <function numpy.iscomplex(x)>,\n",
       " 'isreal': <function numpy.isreal(x)>,\n",
       " 'nan_to_num': <function numpy.nan_to_num(x, copy=True, nan=0.0, posinf=None, neginf=None)>,\n",
       " 'real': <function numpy.real(val)>,\n",
       " 'real_if_close': <function numpy.real_if_close(a, tol=100)>,\n",
       " 'typename': <function numpy.typename(char)>,\n",
       " 'asfarray': <function numpy.asfarray(a, dtype=<class 'numpy.float64'>)>,\n",
       " 'mintypecode': <function numpy.mintypecode(typechars, typeset='GDFgdf', default='d')>,\n",
       " 'asscalar': <function numpy.asscalar(a)>,\n",
       " 'common_type': <function numpy.common_type(*arrays)>,\n",
       " 'ravel_multi_index': <function numpy.ravel_multi_index>,\n",
       " 'unravel_index': <function numpy.unravel_index>,\n",
       " 'mgrid': <numpy.lib.index_tricks.MGridClass at 0x24e52133910>,\n",
       " 'ogrid': <numpy.lib.index_tricks.OGridClass at 0x24e521339a0>,\n",
       " 'r_': <numpy.lib.index_tricks.RClass at 0x24e521b4070>,\n",
       " 'c_': <numpy.lib.index_tricks.CClass at 0x24e521b4130>,\n",
       " 's_': <numpy.lib.index_tricks.IndexExpression at 0x24e521b42b0>,\n",
       " 'index_exp': <numpy.lib.index_tricks.IndexExpression at 0x24e521b4190>,\n",
       " 'ix_': <function numpy.ix_(*args)>,\n",
       " 'ndenumerate': numpy.ndenumerate,\n",
       " 'ndindex': numpy.ndindex,\n",
       " 'fill_diagonal': <function numpy.fill_diagonal(a, val, wrap=False)>,\n",
       " 'diag_indices': <function numpy.diag_indices(n, ndim=2)>,\n",
       " 'diag_indices_from': <function numpy.diag_indices_from(arr)>,\n",
       " 'select': <function numpy.select(condlist, choicelist, default=0)>,\n",
       " 'piecewise': <function numpy.piecewise(x, condlist, funclist, *args, **kw)>,\n",
       " 'trim_zeros': <function numpy.trim_zeros(filt, trim='fb')>,\n",
       " 'copy': <function numpy.copy(a, order='K')>,\n",
       " 'iterable': <function numpy.iterable(y)>,\n",
       " 'percentile': <function numpy.percentile(a, q, axis=None, out=None, overwrite_input=False, interpolation='linear', keepdims=False)>,\n",
       " 'diff': <function numpy.diff(a, n=1, axis=-1, prepend=<no value>, append=<no value>)>,\n",
       " 'gradient': <function numpy.gradient(f, *varargs, **kwargs)>,\n",
       " 'angle': <function numpy.angle(z, deg=False)>,\n",
       " 'unwrap': <function numpy.unwrap(p, discont=3.141592653589793, axis=-1)>,\n",
       " 'sort_complex': <function numpy.sort_complex(a)>,\n",
       " 'disp': <function numpy.lib.function_base.disp(mesg, device=None, linefeed=True)>,\n",
       " 'flip': <function numpy.flip(m, axis=None)>,\n",
       " 'rot90': <function numpy.rot90(m, k=1, axes=(0, 1))>,\n",
       " 'extract': <function numpy.extract(condition, arr)>,\n",
       " 'place': <function numpy.place(arr, mask, vals)>,\n",
       " 'vectorize': numpy.vectorize,\n",
       " 'asarray_chkfinite': <function numpy.asarray_chkfinite(a, dtype=None, order=None)>,\n",
       " 'average': <function numpy.average(a, axis=None, weights=None, returned=False)>,\n",
       " 'bincount': <function numpy.bincount>,\n",
       " 'digitize': <function numpy.digitize(x, bins, right=False)>,\n",
       " 'cov': <function numpy.cov(m, y=None, rowvar=True, bias=False, ddof=None, fweights=None, aweights=None)>,\n",
       " 'corrcoef': <function numpy.corrcoef(x, y=None, rowvar=True, bias=<no value>, ddof=<no value>)>,\n",
       " 'msort': <function numpy.msort(a)>,\n",
       " 'median': <function numpy.median(a, axis=None, out=None, overwrite_input=False, keepdims=False)>,\n",
       " 'sinc': <function numpy.sinc(x)>,\n",
       " 'hamming': <function numpy.hamming(M)>,\n",
       " 'hanning': <function numpy.hanning(M)>,\n",
       " 'bartlett': <function numpy.bartlett(M)>,\n",
       " 'blackman': <function numpy.blackman(M)>,\n",
       " 'kaiser': <function numpy.kaiser(M, beta)>,\n",
       " 'trapz': <function numpy.trapz(y, x=None, dx=1.0, axis=-1)>,\n",
       " 'i0': <function numpy.i0(x)>,\n",
       " 'add_newdoc': <function numpy.core.function_base.add_newdoc(place, obj, doc, warn_on_python=True)>,\n",
       " 'add_docstring': <function numpy.core._multiarray_umath.add_docstring>,\n",
       " 'meshgrid': <function numpy.meshgrid(*xi, **kwargs)>,\n",
       " 'delete': <function numpy.delete(arr, obj, axis=None)>,\n",
       " 'insert': <function numpy.insert(arr, obj, values, axis=None)>,\n",
       " 'append': <function numpy.append(arr, values, axis=None)>,\n",
       " 'interp': <function numpy.interp(x, xp, fp, left=None, right=None, period=None)>,\n",
       " 'add_newdoc_ufunc': <function numpy.core._multiarray_umath._add_newdoc_ufunc>,\n",
       " 'quantile': <function numpy.quantile(a, q, axis=None, out=None, overwrite_input=False, interpolation='linear', keepdims=False)>,\n",
       " 'column_stack': <function numpy.column_stack(tup)>,\n",
       " 'row_stack': <function numpy.vstack(tup)>,\n",
       " 'dstack': <function numpy.dstack(tup)>,\n",
       " 'array_split': <function numpy.array_split(ary, indices_or_sections, axis=0)>,\n",
       " 'split': <function numpy.split(ary, indices_or_sections, axis=0)>,\n",
       " 'hsplit': <function numpy.hsplit(ary, indices_or_sections)>,\n",
       " 'vsplit': <function numpy.vsplit(ary, indices_or_sections)>,\n",
       " 'dsplit': <function numpy.dsplit(ary, indices_or_sections)>,\n",
       " 'apply_over_axes': <function numpy.apply_over_axes(func, a, axes)>,\n",
       " 'expand_dims': <function numpy.expand_dims(a, axis)>,\n",
       " 'apply_along_axis': <function numpy.apply_along_axis(func1d, axis, arr, *args, **kwargs)>,\n",
       " 'kron': <function numpy.kron(a, b)>,\n",
       " 'tile': <function numpy.tile(A, reps)>,\n",
       " 'get_array_wrap': <function numpy.lib.shape_base.get_array_wrap(*args)>,\n",
       " 'take_along_axis': <function numpy.take_along_axis(arr, indices, axis)>,\n",
       " 'put_along_axis': <function numpy.put_along_axis(arr, indices, values, axis)>,\n",
       " 'broadcast_to': <function numpy.broadcast_to(array, shape, subok=False)>,\n",
       " 'broadcast_arrays': <function numpy.broadcast_arrays(*args, **kwargs)>,\n",
       " 'diag': <function numpy.diag(v, k=0)>,\n",
       " 'diagflat': <function numpy.diagflat(v, k=0)>,\n",
       " 'eye': <function numpy.eye(N, M=None, k=0, dtype=<class 'float'>, order='C')>,\n",
       " 'fliplr': <function numpy.fliplr(m)>,\n",
       " 'flipud': <function numpy.flipud(m)>,\n",
       " 'tri': <function numpy.tri(N, M=None, k=0, dtype=<class 'float'>)>,\n",
       " 'triu': <function numpy.triu(m, k=0)>,\n",
       " 'tril': <function numpy.tril(m, k=0)>,\n",
       " 'vander': <function numpy.vander(x, N=None, increasing=False)>,\n",
       " 'histogram2d': <function numpy.histogram2d(x, y, bins=10, range=None, normed=None, weights=None, density=None)>,\n",
       " 'mask_indices': <function numpy.mask_indices(n, mask_func, k=0)>,\n",
       " 'tril_indices': <function numpy.tril_indices(n, k=0, m=None)>,\n",
       " 'tril_indices_from': <function numpy.tril_indices_from(arr, k=0)>,\n",
       " 'triu_indices': <function numpy.triu_indices(n, k=0, m=None)>,\n",
       " 'triu_indices_from': <function numpy.triu_indices_from(arr, k=0)>,\n",
       " 'fix': <function numpy.fix(x, out=None)>,\n",
       " 'isneginf': <function numpy.isneginf(x, out=None)>,\n",
       " 'isposinf': <function numpy.isposinf(x, out=None)>,\n",
       " 'pad': <function numpy.pad(array, pad_width, mode='constant', **kwargs)>,\n",
       " 'poly': <function numpy.poly(seq_of_zeros)>,\n",
       " 'roots': <function numpy.roots(p)>,\n",
       " 'polyint': <function numpy.polyint(p, m=1, k=None)>,\n",
       " 'polyder': <function numpy.polyder(p, m=1)>,\n",
       " 'polyadd': <function numpy.polyadd(a1, a2)>,\n",
       " 'polysub': <function numpy.polysub(a1, a2)>,\n",
       " 'polymul': <function numpy.polymul(a1, a2)>,\n",
       " 'polydiv': <function numpy.polydiv(u, v)>,\n",
       " 'polyval': <function numpy.polyval(p, x)>,\n",
       " 'poly1d': numpy.poly1d,\n",
       " 'polyfit': <function numpy.polyfit(x, y, deg, rcond=None, full=False, w=None, cov=False)>,\n",
       " 'RankWarning': numpy.RankWarning,\n",
       " 'issubclass_': <function numpy.issubclass_(arg1, arg2)>,\n",
       " 'issubsctype': <function numpy.issubsctype(arg1, arg2)>,\n",
       " 'deprecate': <function numpy.lib.utils.deprecate(*args, **kwargs)>,\n",
       " 'deprecate_with_doc': <function numpy.lib.utils.<lambda>(msg)>,\n",
       " 'get_include': <function numpy.lib.utils.get_include()>,\n",
       " 'info': <function numpy.info(object=None, maxwidth=76, output=<ipykernel.iostream.OutStream object at 0x0000024E4BE90EB0>, toplevel='numpy')>,\n",
       " 'source': <function numpy.source(object, output=<ipykernel.iostream.OutStream object at 0x0000024E4BE90EB0>)>,\n",
       " 'who': <function numpy.lib.utils.who(vardict=None)>,\n",
       " 'lookfor': <function numpy.lookfor(what, module=None, import_modules=True, regenerate=False, output=None)>,\n",
       " 'byte_bounds': <function numpy.lib.utils.byte_bounds(a)>,\n",
       " 'safe_eval': <function numpy.lib.utils.safe_eval(source)>,\n",
       " 'ediff1d': <function numpy.ediff1d(ary, to_end=None, to_begin=None)>,\n",
       " 'intersect1d': <function numpy.intersect1d(ar1, ar2, assume_unique=False, return_indices=False)>,\n",
       " 'setxor1d': <function numpy.setxor1d(ar1, ar2, assume_unique=False)>,\n",
       " 'union1d': <function numpy.union1d(ar1, ar2)>,\n",
       " 'setdiff1d': <function numpy.setdiff1d(ar1, ar2, assume_unique=False)>,\n",
       " 'unique': <function numpy.unique(ar, return_index=False, return_inverse=False, return_counts=False, axis=None)>,\n",
       " 'in1d': <function numpy.in1d(ar1, ar2, assume_unique=False, invert=False)>,\n",
       " 'isin': <function numpy.isin(element, test_elements, assume_unique=False, invert=False)>,\n",
       " 'savetxt': <function numpy.savetxt(fname, X, fmt='%.18e', delimiter=' ', newline='\\n', header='', footer='', comments='# ', encoding=None)>,\n",
       " 'loadtxt': <function numpy.loadtxt(fname, dtype=<class 'float'>, comments='#', delimiter=None, converters=None, skiprows=0, usecols=None, unpack=False, ndmin=0, encoding='bytes', max_rows=None)>,\n",
       " 'genfromtxt': <function numpy.genfromtxt(fname, dtype=<class 'float'>, comments='#', delimiter=None, skip_header=0, skip_footer=0, converters=None, missing_values=None, filling_values=None, usecols=None, names=None, excludelist=None, deletechars=\" !#$%&'()*+,-./:;<=>?@[\\\\]^{|}~\", replace_space='_', autostrip=False, case_sensitive=True, defaultfmt='f%i', unpack=None, usemask=False, loose=True, invalid_raise=True, max_rows=None, encoding='bytes')>,\n",
       " 'ndfromtxt': <function numpy.lib.npyio.ndfromtxt(fname, **kwargs)>,\n",
       " 'mafromtxt': <function numpy.lib.npyio.mafromtxt(fname, **kwargs)>,\n",
       " 'recfromtxt': <function numpy.lib.npyio.recfromtxt(fname, **kwargs)>,\n",
       " 'recfromcsv': <function numpy.lib.npyio.recfromcsv(fname, **kwargs)>,\n",
       " 'load': <function numpy.load(file, mmap_mode=None, allow_pickle=False, fix_imports=True, encoding='ASCII')>,\n",
       " 'loads': <function numpy.loads(*args, **kwargs)>,\n",
       " 'save': <function numpy.save(file, arr, allow_pickle=True, fix_imports=True)>,\n",
       " 'savez': <function numpy.savez(file, *args, **kwds)>,\n",
       " 'savez_compressed': <function numpy.savez_compressed(file, *args, **kwds)>,\n",
       " 'packbits': <function numpy.packbits>,\n",
       " 'unpackbits': <function numpy.unpackbits>,\n",
       " 'fromregex': <function numpy.fromregex(file, regexp, dtype, encoding=None)>,\n",
       " 'DataSource': numpy.DataSource,\n",
       " 'fv': <function numpy.fv(rate, nper, pmt, pv, when='end')>,\n",
       " 'pmt': <function numpy.pmt(rate, nper, pv, fv=0, when='end')>,\n",
       " 'nper': <function numpy.nper(rate, pmt, pv, fv=0, when='end')>,\n",
       " 'ipmt': <function numpy.ipmt(rate, per, nper, pv, fv=0, when='end')>,\n",
       " 'ppmt': <function numpy.ppmt(rate, per, nper, pv, fv=0, when='end')>,\n",
       " 'pv': <function numpy.pv(rate, nper, pmt, fv=0, when='end')>,\n",
       " 'rate': <function numpy.rate(nper, pmt, pv, fv, when='end', guess=None, tol=None, maxiter=100)>,\n",
       " 'irr': <function numpy.irr(values)>,\n",
       " 'npv': <function numpy.npv(rate, values)>,\n",
       " 'mirr': <function numpy.mirr(values, finance_rate, reinvest_rate)>,\n",
       " 'nansum': <function numpy.nansum(a, axis=None, dtype=None, out=None, keepdims=<no value>)>,\n",
       " 'nanmax': <function numpy.nanmax(a, axis=None, out=None, keepdims=<no value>)>,\n",
       " 'nanmin': <function numpy.nanmin(a, axis=None, out=None, keepdims=<no value>)>,\n",
       " 'nanargmax': <function numpy.nanargmax(a, axis=None)>,\n",
       " 'nanargmin': <function numpy.nanargmin(a, axis=None)>,\n",
       " 'nanmean': <function numpy.nanmean(a, axis=None, dtype=None, out=None, keepdims=<no value>)>,\n",
       " 'nanmedian': <function numpy.nanmedian(a, axis=None, out=None, overwrite_input=False, keepdims=<no value>)>,\n",
       " 'nanpercentile': <function numpy.nanpercentile(a, q, axis=None, out=None, overwrite_input=False, interpolation='linear', keepdims=<no value>)>,\n",
       " 'nanvar': <function numpy.nanvar(a, axis=None, dtype=None, out=None, ddof=0, keepdims=<no value>)>,\n",
       " 'nanstd': <function numpy.nanstd(a, axis=None, dtype=None, out=None, ddof=0, keepdims=<no value>)>,\n",
       " 'nanprod': <function numpy.nanprod(a, axis=None, dtype=None, out=None, keepdims=<no value>)>,\n",
       " 'nancumsum': <function numpy.nancumsum(a, axis=None, dtype=None, out=None)>,\n",
       " 'nancumprod': <function numpy.nancumprod(a, axis=None, dtype=None, out=None)>,\n",
       " 'nanquantile': <function numpy.nanquantile(a, q, axis=None, out=None, overwrite_input=False, interpolation='linear', keepdims=<no value>)>,\n",
       " 'histogram': <function numpy.histogram(a, bins=10, range=None, normed=None, weights=None, density=None)>,\n",
       " 'histogramdd': <function numpy.histogramdd(sample, bins=10, range=None, normed=None, weights=None, density=None)>,\n",
       " 'histogram_bin_edges': <function numpy.histogram_bin_edges(a, bins=10, range=None, weights=None)>,\n",
       " 'linalg': <module 'numpy.linalg' from 'c:\\\\users\\\\gb-ofc-006\\\\appdata\\\\local\\\\programs\\\\python\\\\python38\\\\lib\\\\site-packages\\\\numpy\\\\linalg\\\\__init__.py'>,\n",
       " 'fft': <module 'numpy.fft' from 'c:\\\\users\\\\gb-ofc-006\\\\appdata\\\\local\\\\programs\\\\python\\\\python38\\\\lib\\\\site-packages\\\\numpy\\\\fft\\\\__init__.py'>,\n",
       " 'random': <module 'numpy.random' from 'c:\\\\users\\\\gb-ofc-006\\\\appdata\\\\local\\\\programs\\\\python\\\\python38\\\\lib\\\\site-packages\\\\numpy\\\\random\\\\__init__.py'>,\n",
       " 'ctypeslib': <module 'numpy.ctypeslib' from 'c:\\\\users\\\\gb-ofc-006\\\\appdata\\\\local\\\\programs\\\\python\\\\python38\\\\lib\\\\site-packages\\\\numpy\\\\ctypeslib.py'>,\n",
       " 'ma': <module 'numpy.ma' from 'c:\\\\users\\\\gb-ofc-006\\\\appdata\\\\local\\\\programs\\\\python\\\\python38\\\\lib\\\\site-packages\\\\numpy\\\\ma\\\\__init__.py'>,\n",
       " 'division': _Feature((2, 2, 0, 'alpha', 2), (3, 0, 0, 'alpha', 0), 131072),\n",
       " 'absolute_import': _Feature((2, 5, 0, 'alpha', 1), (3, 0, 0, 'alpha', 0), 262144),\n",
       " 'print_function': _Feature((2, 6, 0, 'alpha', 2), (3, 0, 0, 'alpha', 0), 1048576),\n",
       " 'ifft': <function numpy.fft.ifft(a, n=None, axis=-1, norm=None)>,\n",
       " 'rfft': <function numpy.fft.rfft(a, n=None, axis=-1, norm=None)>,\n",
       " 'irfft': <function numpy.fft.irfft(a, n=None, axis=-1, norm=None)>,\n",
       " 'hfft': <function numpy.fft.hfft(a, n=None, axis=-1, norm=None)>,\n",
       " 'ihfft': <function numpy.fft.ihfft(a, n=None, axis=-1, norm=None)>,\n",
       " 'rfftn': <function numpy.fft.rfftn(a, s=None, axes=None, norm=None)>,\n",
       " 'irfftn': <function numpy.fft.irfftn(a, s=None, axes=None, norm=None)>,\n",
       " 'rfft2': <function numpy.fft.rfft2(a, s=None, axes=(-2, -1), norm=None)>,\n",
       " 'irfft2': <function numpy.fft.irfft2(a, s=None, axes=(-2, -1), norm=None)>,\n",
       " 'fft2': <function numpy.fft.fft2(a, s=None, axes=(-2, -1), norm=None)>,\n",
       " 'ifft2': <function numpy.fft.ifft2(a, s=None, axes=(-2, -1), norm=None)>,\n",
       " 'fftn': <function numpy.fft.fftn(a, s=None, axes=None, norm=None)>,\n",
       " 'ifftn': <function numpy.fft.ifftn(a, s=None, axes=None, norm=None)>,\n",
       " 'helper': <module 'numpy.fft.helper' from 'c:\\\\users\\\\gb-ofc-006\\\\appdata\\\\local\\\\programs\\\\python\\\\python38\\\\lib\\\\site-packages\\\\numpy\\\\fft\\\\helper.py'>,\n",
       " 'fftshift': <function numpy.fft.fftshift(x, axes=None)>,\n",
       " 'ifftshift': <function numpy.fft.ifftshift(x, axes=None)>,\n",
       " 'fftfreq': <function numpy.fft.fftfreq(n, d=1.0)>,\n",
       " 'rfftfreq': <function numpy.fft.rfftfreq(n, d=1.0)>,\n",
       " 'test': <numpy._pytesttester.PytestTester at 0x24e52138ac0>,\n",
       " 'beta': <function RandomState.beta>,\n",
       " 'binomial': <function RandomState.binomial>,\n",
       " 'bytes': bytes,\n",
       " 'chisquare': <function RandomState.chisquare>,\n",
       " 'choice': <function RandomState.choice>,\n",
       " 'dirichlet': <function RandomState.dirichlet>,\n",
       " 'exponential': <function RandomState.exponential>,\n",
       " 'f': <function RandomState.f>,\n",
       " 'gamma': <function RandomState.gamma>,\n",
       " 'geometric': <function RandomState.geometric>,\n",
       " 'get_state': <function RandomState.get_state>,\n",
       " 'gumbel': <function RandomState.gumbel>,\n",
       " 'hypergeometric': <function RandomState.hypergeometric>,\n",
       " 'laplace': <function RandomState.laplace>,\n",
       " 'logistic': <function RandomState.logistic>,\n",
       " 'lognormal': <function RandomState.lognormal>,\n",
       " 'logseries': <function RandomState.logseries>,\n",
       " 'multinomial': <function RandomState.multinomial>,\n",
       " 'multivariate_normal': <function RandomState.multivariate_normal>,\n",
       " 'negative_binomial': <function RandomState.negative_binomial>,\n",
       " 'noncentral_chisquare': <function RandomState.noncentral_chisquare>,\n",
       " 'noncentral_f': <function RandomState.noncentral_f>,\n",
       " 'normal': <function RandomState.normal>,\n",
       " 'pareto': <function RandomState.pareto>,\n",
       " 'permutation': <function RandomState.permutation>,\n",
       " 'poisson': <function RandomState.poisson>,\n",
       " 'rand': <function RandomState.rand>,\n",
       " 'randint': <function RandomState.randint>,\n",
       " 'randn': <function RandomState.randn>,\n",
       " 'random_integers': <function RandomState.random_integers>,\n",
       " 'random_sample': <function RandomState.random_sample>,\n",
       " 'ranf': <function numpy.random.mtrand.ranf>,\n",
       " 'rayleigh': <function RandomState.rayleigh>,\n",
       " 'sample': <function numpy.random.mtrand.sample>,\n",
       " 'seed': <function RandomState.seed>,\n",
       " 'set_state': <function RandomState.set_state>,\n",
       " 'shuffle': <function RandomState.shuffle>,\n",
       " 'standard_cauchy': <function RandomState.standard_cauchy>,\n",
       " 'standard_exponential': <function RandomState.standard_exponential>,\n",
       " 'standard_gamma': <function RandomState.standard_gamma>,\n",
       " 'standard_normal': <function RandomState.standard_normal>,\n",
       " 'standard_t': <function RandomState.standard_t>,\n",
       " 'triangular': <function RandomState.triangular>,\n",
       " 'uniform': <function RandomState.uniform>,\n",
       " 'vonmises': <function RandomState.vonmises>,\n",
       " 'wald': <function RandomState.wald>,\n",
       " 'weibull': <function RandomState.weibull>,\n",
       " 'zipf': <function RandomState.zipf>,\n",
       " 'Generator': numpy.random._generator.Generator,\n",
       " 'RandomState': numpy.random.mtrand.RandomState,\n",
       " 'SeedSequence': numpy.random._bit_generator.SeedSequence,\n",
       " 'MT19937': numpy.random._mt19937.MT19937,\n",
       " 'Philox': numpy.random._philox.Philox,\n",
       " 'PCG64': numpy.random._pcg64.PCG64,\n",
       " 'SFC64': numpy.random._sfc64.SFC64,\n",
       " 'default_rng': <function numpy.random._generator.default_rng>,\n",
       " 'BitGenerator': numpy.random._bit_generator.BitGenerator,\n",
       " 'lapack_lite': <module 'numpy.linalg.lapack_lite' from 'c:\\\\users\\\\gb-ofc-006\\\\appdata\\\\local\\\\programs\\\\python\\\\python38\\\\lib\\\\site-packages\\\\numpy\\\\linalg\\\\lapack_lite.cp38-win_amd64.pyd'>,\n",
       " 'matrix_power': <function numpy.linalg.matrix_power(a, n)>,\n",
       " 'solve': <function numpy.linalg.solve(a, b)>,\n",
       " 'tensorsolve': <function numpy.linalg.tensorsolve(a, b, axes=None)>,\n",
       " 'tensorinv': <function numpy.linalg.tensorinv(a, ind=2)>,\n",
       " 'inv': <function numpy.linalg.inv(a)>,\n",
       " 'cholesky': <function numpy.linalg.cholesky(a)>,\n",
       " 'eigvals': <function numpy.linalg.eigvals(a)>,\n",
       " 'eigvalsh': <function numpy.linalg.eigvalsh(a, UPLO='L')>,\n",
       " 'pinv': <function numpy.linalg.pinv(a, rcond=1e-15, hermitian=False)>,\n",
       " 'slogdet': <function numpy.linalg.slogdet(a)>,\n",
       " 'det': <function numpy.linalg.det(a)>,\n",
       " 'svd': <function numpy.linalg.svd(a, full_matrices=True, compute_uv=True, hermitian=False)>,\n",
       " 'eig': <function numpy.linalg.eig(a)>,\n",
       " 'eigh': <function numpy.linalg.eigh(a, UPLO='L')>,\n",
       " 'lstsq': <function numpy.linalg.lstsq(a, b, rcond='warn')>,\n",
       " 'norm': <function numpy.linalg.norm(x, ord=None, axis=None, keepdims=False)>,\n",
       " 'qr': <function numpy.linalg.qr(a, mode='reduced')>,\n",
       " 'cond': <function numpy.linalg.cond(x, p=None)>,\n",
       " 'matrix_rank': <function numpy.linalg.matrix_rank(M, tol=None, hermitian=False)>,\n",
       " 'LinAlgError': numpy.linalg.LinAlgError,\n",
       " 'multi_dot': <function numpy.linalg.multi_dot(arrays)>,\n",
       " 'datetime': <module 'datetime' from 'c:\\\\users\\\\gb-ofc-006\\\\appdata\\\\local\\\\programs\\\\python\\\\python38\\\\lib\\\\datetime.py'>,\n",
       " '__version__': '1.18.5',\n",
       " '_UFUNC_API': <capsule object NULL at 0x0000024E4BFCFA50>,\n",
       " '_add_newdoc_ufunc': <function numpy.core._multiarray_umath._add_newdoc_ufunc>,\n",
       " 'figsize': <function IPython.core.pylabtools.figsize(sizex, sizey)>,\n",
       " 'display': <function IPython.core.display.display(*objs, include=None, exclude=None, metadata=None, transient=None, display_id=None, **kwargs)>,\n",
       " 'getfigs': <function IPython.core.pylabtools.getfigs(*fig_nums)>,\n",
       " '_i': '#함수 정의하고 연산하기\\n\\n#함수 정의\\ndef Times(a, b):\\n    a = a + 1 #같은 함수의 내용은 들여쓰기가 같다\\n    b = b + 1\\n    return a * b',\n",
       " '_ii': 'c + 0.9',\n",
       " '_iii': '#정수형에서 실수형으로 변환\\nc = float(23)\\nc',\n",
       " '_i1': 'friend = 1\\ntype(friend)',\n",
       " 'friend': 1,\n",
       " '_1': int,\n",
       " '_i2': 'r = 2\\ncircle_area = 3.14 * (r**2)\\nx = 3\\ny = 4\\ntriangle_area = x * y / 2\\nprint (circle_area, triangle_area)',\n",
       " 'r': 2,\n",
       " 'circle_area': 12.56,\n",
       " 'x': 3,\n",
       " 'y': 4,\n",
       " 'triangle_area': 6.0,\n",
       " '_i3': \"#문자열 계산하기\\n'py' 'thon'\\n'py' + 'thon'\\n'py' * 3\",\n",
       " '_3': 'pypypy',\n",
       " '_i4': 'a = \"파이썬\"\\na[1]\\na[1:4]\\na[:]\\na[::2] # 처음부터 2칸 간격으로 값 출력',\n",
       " 'a': '3.14',\n",
       " '_4': '파썬',\n",
       " '_i5': '#값의 형태를 변환하기\\n# 실수형에서 문자열로 변환\\na = str(3.14)\\na\\n\\na + 1 # 문자열에 숫자를 더하면 타입 에러가 발생한다.',\n",
       " '_i6': '#값의 형태를 변환하기\\n# 실수형에서 문자열로 변환\\na = str(3.14)\\na',\n",
       " '_6': '3.14',\n",
       " '_i7': 'a + 1 # 문자열에 숫자를 더하면 타입 에러가 발생한다.',\n",
       " '_i8': 'b = int(\"49\")\\nb',\n",
       " 'b': 49,\n",
       " '_8': 49,\n",
       " '_i9': 'b + 11',\n",
       " '_9': 60,\n",
       " '_i10': '#정수형에서 실수형으로 변환\\nc = float(23)\\nc',\n",
       " 'c': 23.0,\n",
       " '_10': 23.0,\n",
       " ...}"
      ]
     },
     "execution_count": 13,
     "metadata": {},
     "output_type": "execute_result"
    }
   ],
   "source": [
    "globals()"
   ]
  },
  {
   "cell_type": "code",
   "execution_count": 14,
   "metadata": {},
   "outputs": [
    {
     "data": {
      "text/plain": [
       "121"
      ]
     },
     "execution_count": 14,
     "metadata": {},
     "output_type": "execute_result"
    }
   ],
   "source": [
    "Times(10, 10)"
   ]
  },
  {
   "cell_type": "code",
   "execution_count": 15,
   "metadata": {},
   "outputs": [],
   "source": [
    "#return이 없으면 None을 반환하는 것을 확인\n",
    "def setValue(newValue):\n",
    "    x = newValue\n",
    "    retval = setValue(10)\n",
    "    print(retval)"
   ]
  },
  {
   "cell_type": "code",
   "execution_count": 16,
   "metadata": {},
   "outputs": [
    {
     "name": "stdout",
     "output_type": "stream",
     "text": [
      "1\n",
      "2\n",
      "3\n",
      "4\n"
     ]
    }
   ],
   "source": [
    "#반복문 사용하기\n",
    "for i in [1,2,3,4]:\n",
    "    print(i)"
   ]
  },
  {
   "cell_type": "code",
   "execution_count": 20,
   "metadata": {},
   "outputs": [
    {
     "name": "stdout",
     "output_type": "stream",
     "text": [
      "1\n",
      "2\n",
      "3\n",
      "4\n"
     ]
    }
   ],
   "source": [
    "for i in range(1,5): # 1부터 5미만의 숫자를 리스트로 자동으로 만드는 range 함수\n",
    "    print(i)"
   ]
  },
  {
   "cell_type": "code",
   "execution_count": 21,
   "metadata": {},
   "outputs": [],
   "source": [
    "#리스트 안에 for를 포함하여 실습하기\n",
    "a = [1,2,3,4]\n",
    "result = []\n",
    "for num in a:\n",
    "    result.append(num * 3)"
   ]
  },
  {
   "cell_type": "code",
   "execution_count": 22,
   "metadata": {},
   "outputs": [],
   "source": [
    "result = [num * 3 for num in a]"
   ]
  },
  {
   "cell_type": "code",
   "execution_count": 23,
   "metadata": {},
   "outputs": [
    {
     "name": "stdout",
     "output_type": "stream",
     "text": [
      "[3, 6, 9, 12]\n"
     ]
    }
   ],
   "source": [
    "print(result)"
   ]
  },
  {
   "cell_type": "code",
   "execution_count": 24,
   "metadata": {},
   "outputs": [],
   "source": [
    "#리스트 a의 값 중에서 2로 나눈 나머지가 0인 수만 3을 곱해 리스트 result에 넣는다\n",
    "result = [num * 3 for num in a if num % 2 == 0]"
   ]
  },
  {
   "cell_type": "code",
   "execution_count": 25,
   "metadata": {},
   "outputs": [
    {
     "name": "stdout",
     "output_type": "stream",
     "text": [
      "[6, 12]\n"
     ]
    }
   ],
   "source": [
    "print(result)"
   ]
  },
  {
   "cell_type": "code",
   "execution_count": 26,
   "metadata": {},
   "outputs": [
    {
     "data": {
      "text/plain": [
       "list"
      ]
     },
     "execution_count": 26,
     "metadata": {},
     "output_type": "execute_result"
    }
   ],
   "source": [
    "#리스트 만들기\n",
    "clr_names = ['red', 'green', 'gold']\n",
    "type(clr_names) # 자료 구조의 종류를 알려줌"
   ]
  },
  {
   "cell_type": "code",
   "execution_count": 27,
   "metadata": {},
   "outputs": [
    {
     "data": {
      "text/plain": [
       "['red', 'green', 'gold', 'blue']"
      ]
     },
     "execution_count": 27,
     "metadata": {},
     "output_type": "execute_result"
    }
   ],
   "source": [
    "#리스트에 값 추가하기\n",
    "clr_names.append('blue')\n",
    "clr_names"
   ]
  },
  {
   "cell_type": "code",
   "execution_count": 29,
   "metadata": {},
   "outputs": [
    {
     "data": {
      "text/plain": [
       "['red', 'black', 'black', 'green', 'gold', 'blue']"
      ]
     },
     "execution_count": 29,
     "metadata": {},
     "output_type": "execute_result"
    }
   ],
   "source": [
    "#리스트에 0부터 시작할 위치를 지정하여 값 추가하기\n",
    "clr_names.insert(1, 'black')\n",
    "clr_names"
   ]
  },
  {
   "cell_type": "code",
   "execution_count": 30,
   "metadata": {},
   "outputs": [
    {
     "name": "stdout",
     "output_type": "stream",
     "text": [
      "1 2\n"
     ]
    }
   ],
   "source": [
    "t = (1, 2, 3)\n",
    "type(t)\n",
    "a, b = 1, 2\n",
    "(a, b) = (1, 2)\n",
    "print(a, b)"
   ]
  },
  {
   "cell_type": "code",
   "execution_count": 31,
   "metadata": {},
   "outputs": [
    {
     "name": "stdout",
     "output_type": "stream",
     "text": [
      "2 1\n"
     ]
    }
   ],
   "source": [
    "a, b = b, a\n",
    "print(a, b)"
   ]
  },
  {
   "cell_type": "code",
   "execution_count": 32,
   "metadata": {},
   "outputs": [
    {
     "data": {
      "text/plain": [
       "set"
      ]
     },
     "execution_count": 32,
     "metadata": {},
     "output_type": "execute_result"
    }
   ],
   "source": [
    "# in 연산자를 이용해 값 확인하기\n",
    "a = set((1, 2, 3))\n",
    "type(a)"
   ]
  },
  {
   "cell_type": "code",
   "execution_count": 33,
   "metadata": {},
   "outputs": [
    {
     "data": {
      "text/plain": [
       "True"
      ]
     },
     "execution_count": 33,
     "metadata": {},
     "output_type": "execute_result"
    }
   ],
   "source": [
    "1 in a"
   ]
  },
  {
   "cell_type": "code",
   "execution_count": 34,
   "metadata": {},
   "outputs": [
    {
     "data": {
      "text/plain": [
       "tuple"
      ]
     },
     "execution_count": 34,
     "metadata": {},
     "output_type": "execute_result"
    }
   ],
   "source": [
    "c = tuple(a)\n",
    "type(c)"
   ]
  },
  {
   "cell_type": "code",
   "execution_count": 35,
   "metadata": {},
   "outputs": [
    {
     "data": {
      "text/plain": [
       "True"
      ]
     },
     "execution_count": 35,
     "metadata": {},
     "output_type": "execute_result"
    }
   ],
   "source": [
    "3 in c"
   ]
  },
  {
   "cell_type": "code",
   "execution_count": 37,
   "metadata": {},
   "outputs": [
    {
     "data": {
      "text/plain": [
       "dict"
      ]
     },
     "execution_count": 37,
     "metadata": {},
     "output_type": "execute_result"
    }
   ],
   "source": [
    "#딕셔너리 만들기\n",
    "d = dict(a = 1, b = 3, c = 5) #dict로 딕셔너리 생성\n",
    "type(d)"
   ]
  },
  {
   "cell_type": "code",
   "execution_count": 38,
   "metadata": {},
   "outputs": [
    {
     "data": {
      "text/plain": [
       "{'apple': 'red', 'banana': 'yellow'}"
      ]
     },
     "execution_count": 38,
     "metadata": {},
     "output_type": "execute_result"
    }
   ],
   "source": [
    "clr_names = {\"apple\":\"red\", \"banana\":\"yellow\"}\n",
    "clr_names"
   ]
  },
  {
   "cell_type": "code",
   "execution_count": 39,
   "metadata": {},
   "outputs": [
    {
     "data": {
      "text/plain": [
       "'red'"
      ]
     },
     "execution_count": 39,
     "metadata": {},
     "output_type": "execute_result"
    }
   ],
   "source": [
    "clr_names[\"apple\"]"
   ]
  },
  {
   "cell_type": "code",
   "execution_count": 40,
   "metadata": {},
   "outputs": [
    {
     "ename": "KeyError",
     "evalue": "0",
     "output_type": "error",
     "traceback": [
      "\u001b[1;31m---------------------------------------------------------------------------\u001b[0m",
      "\u001b[1;31mKeyError\u001b[0m                                  Traceback (most recent call last)",
      "\u001b[1;32m<ipython-input-40-d659bef667b2>\u001b[0m in \u001b[0;36m<module>\u001b[1;34m\u001b[0m\n\u001b[1;32m----> 1\u001b[1;33m \u001b[0mclr_names\u001b[0m\u001b[1;33m[\u001b[0m\u001b[1;36m0\u001b[0m\u001b[1;33m]\u001b[0m\u001b[1;33m\u001b[0m\u001b[1;33m\u001b[0m\u001b[0m\n\u001b[0m",
      "\u001b[1;31mKeyError\u001b[0m: 0"
     ]
    }
   ],
   "source": [
    "clr_names[0] #인덱싱을 지원하지 않는다."
   ]
  },
  {
   "cell_type": "code",
   "execution_count": 41,
   "metadata": {},
   "outputs": [
    {
     "data": {
      "text/plain": [
       "{'apple': 'red', 'banana': 'yellow', 'cherry': 'red'}"
      ]
     },
     "execution_count": 41,
     "metadata": {},
     "output_type": "execute_result"
    }
   ],
   "source": [
    "clr_names[\"cherry\"] = \"red\" #값 추가\n",
    "clr_names"
   ]
  },
  {
   "cell_type": "code",
   "execution_count": 42,
   "metadata": {},
   "outputs": [
    {
     "data": {
      "text/plain": [
       "1"
      ]
     },
     "execution_count": 42,
     "metadata": {},
     "output_type": "execute_result"
    }
   ],
   "source": [
    "#numpy의 array 함수를 쓰기 위해 numpy패키지를 np라는 이름으로 불러오기\n",
    "import numpy as np\n",
    "a = np.array([0, 1, 2, 3, 4, 5])\n",
    "a.ndim # ndim은 a의 차원 수를 알려준다"
   ]
  },
  {
   "cell_type": "code",
   "execution_count": 43,
   "metadata": {},
   "outputs": [
    {
     "data": {
      "text/plain": [
       "(6,)"
      ]
     },
     "execution_count": 43,
     "metadata": {},
     "output_type": "execute_result"
    }
   ],
   "source": [
    "#배열 a의 각 차원에 몇개의 값이 있는지를 튜플로 반환한다. 값 6개를 갖는 1차원 배열은 다음처럼 표현\n",
    "a.shape"
   ]
  },
  {
   "cell_type": "code",
   "execution_count": 44,
   "metadata": {},
   "outputs": [
    {
     "data": {
      "text/plain": [
       "dtype('int32')"
      ]
     },
     "execution_count": 44,
     "metadata": {},
     "output_type": "execute_result"
    }
   ],
   "source": [
    "# 배열 a의 값들의 타입을 알려주며, 아래 결과는 정수(integer)임을 의미한다\n",
    "a.dtype"
   ]
  },
  {
   "cell_type": "code",
   "execution_count": 45,
   "metadata": {},
   "outputs": [
    {
     "data": {
      "text/plain": [
       "array([2, 3, 4])"
      ]
     },
     "execution_count": 45,
     "metadata": {},
     "output_type": "execute_result"
    }
   ],
   "source": [
    "#기본 인덱싱\n",
    "a[[2, 3, 4]]\n",
    "array([2, 3, 4])"
   ]
  },
  {
   "cell_type": "code",
   "execution_count": 47,
   "metadata": {},
   "outputs": [
    {
     "data": {
      "text/plain": [
       "array([2, 3, 4])"
      ]
     },
     "execution_count": 47,
     "metadata": {},
     "output_type": "execute_result"
    }
   ],
   "source": [
    "# 배열을 인덱싱으로 사용할 수 있다.\n",
    "a[np.array([2, 3, 4])]"
   ]
  },
  {
   "cell_type": "code",
   "execution_count": 48,
   "metadata": {},
   "outputs": [
    {
     "data": {
      "text/plain": [
       "array([False, False, False, False, False,  True])"
      ]
     },
     "execution_count": 48,
     "metadata": {},
     "output_type": "execute_result"
    }
   ],
   "source": [
    "# 배열 중 원하는 값 출력하기 위해 논리 연산하기\n",
    "a > 4"
   ]
  },
  {
   "cell_type": "code",
   "execution_count": 49,
   "metadata": {},
   "outputs": [
    {
     "data": {
      "text/plain": [
       "array([5])"
      ]
     },
     "execution_count": 49,
     "metadata": {},
     "output_type": "execute_result"
    }
   ],
   "source": [
    "a[a > 4]"
   ]
  },
  {
   "cell_type": "code",
   "execution_count": 50,
   "metadata": {},
   "outputs": [
    {
     "data": {
      "text/plain": [
       "(2, 5)"
      ]
     },
     "execution_count": 50,
     "metadata": {},
     "output_type": "execute_result"
    }
   ],
   "source": [
    "#배열의 기본 활용 연습하기\n",
    "x = [0.0, 1, 2, 3, 4]\n",
    "y = np.array(x) #0.0으로 인해 다른 1, 2, 3, 4도 모두 실수형으로 변경되어 배열을 생성\n",
    "y = np.array([[0.0, 1, 2, 3, 4], [5, 6, 7, 8, 9]])\n",
    "np.shape(y) #행과 열을 확인"
   ]
  },
  {
   "cell_type": "code",
   "execution_count": 51,
   "metadata": {},
   "outputs": [
    {
     "data": {
      "text/plain": [
       "(2, 2, 2)"
      ]
     },
     "execution_count": 51,
     "metadata": {},
     "output_type": "execute_result"
    }
   ],
   "source": [
    "y = np.array([[[1, 2], [3, 4]], [[5, 6], [7, 8]]])\n",
    "np.shape(y) #2개의 2차원 배열, 각 2차원 배열은 2행 2열임을 순서대로 의미"
   ]
  },
  {
   "cell_type": "code",
   "execution_count": 54,
   "metadata": {},
   "outputs": [
    {
     "name": "stdout",
     "output_type": "stream",
     "text": [
      "[1. 2.]\n",
      "[3. 4.]\n",
      "[5. 6.]\n"
     ]
    }
   ],
   "source": [
    "a = np.array([[1, 2], [3, 4], [5, 6]], float)\n",
    "for x in a:\n",
    "    print(x)"
   ]
  },
  {
   "cell_type": "code",
   "execution_count": 55,
   "metadata": {},
   "outputs": [
    {
     "data": {
      "text/plain": [
       "array([0., 1., 2., 3., 4.])"
      ]
     },
     "execution_count": 55,
     "metadata": {},
     "output_type": "execute_result"
    }
   ],
   "source": [
    "#배열에서 슬라이싱 하기\n",
    "#1차원에서 0~9까지의 정수가 실수형으로 변환한 후 2행 5열 형태로 표현\n",
    "arr = np.arange(10, dtype = float).reshape((2, 5))\n",
    "arr[0] #1행"
   ]
  },
  {
   "cell_type": "code",
   "execution_count": 56,
   "metadata": {},
   "outputs": [
    {
     "data": {
      "text/plain": [
       "3.0"
      ]
     },
     "execution_count": 56,
     "metadata": {},
     "output_type": "execute_result"
    }
   ],
   "source": [
    "arr[0, 3] #1행 3열"
   ]
  },
  {
   "cell_type": "code",
   "execution_count": 57,
   "metadata": {},
   "outputs": [
    {
     "data": {
      "text/plain": [
       "3.0"
      ]
     },
     "execution_count": 57,
     "metadata": {},
     "output_type": "execute_result"
    }
   ],
   "source": [
    "arr[0][3]"
   ]
  },
  {
   "cell_type": "code",
   "execution_count": 58,
   "metadata": {},
   "outputs": [
    {
     "data": {
      "text/plain": [
       "array([0., 1., 2., 3., 4.])"
      ]
     },
     "execution_count": 58,
     "metadata": {},
     "output_type": "execute_result"
    }
   ],
   "source": [
    "arr[0, :]"
   ]
  },
  {
   "cell_type": "code",
   "execution_count": 59,
   "metadata": {},
   "outputs": [
    {
     "data": {
      "text/plain": [
       "array([0., 5.])"
      ]
     },
     "execution_count": 59,
     "metadata": {},
     "output_type": "execute_result"
    }
   ],
   "source": [
    "arr[:, 0]"
   ]
  },
  {
   "cell_type": "code",
   "execution_count": 60,
   "metadata": {},
   "outputs": [
    {
     "data": {
      "text/plain": [
       "0.1"
      ]
     },
     "execution_count": 60,
     "metadata": {},
     "output_type": "execute_result"
    }
   ],
   "source": [
    "#판다스의 시리즈와 데이터프레임을 임포트하기\n",
    "from pandas import Series, DataFrame\n",
    "s = Series([0.1, 1.2, 2.3, 3.4, 4.5], index = ['a','b','c','d','e'])\n",
    "s['a']"
   ]
  },
  {
   "cell_type": "code",
   "execution_count": 61,
   "metadata": {},
   "outputs": [
    {
     "data": {
      "text/plain": [
       "0.1"
      ]
     },
     "execution_count": 61,
     "metadata": {},
     "output_type": "execute_result"
    }
   ],
   "source": [
    "s[0]"
   ]
  },
  {
   "cell_type": "code",
   "execution_count": 62,
   "metadata": {},
   "outputs": [
    {
     "data": {
      "text/plain": [
       "a    0.1\n",
       "c    2.3\n",
       "dtype: float64"
      ]
     },
     "execution_count": 62,
     "metadata": {},
     "output_type": "execute_result"
    }
   ],
   "source": [
    "s[['a', 'c']]"
   ]
  },
  {
   "cell_type": "code",
   "execution_count": 63,
   "metadata": {},
   "outputs": [
    {
     "data": {
      "text/plain": [
       "a    0.1\n",
       "c    2.3\n",
       "dtype: float64"
      ]
     },
     "execution_count": 63,
     "metadata": {},
     "output_type": "execute_result"
    }
   ],
   "source": [
    "s[[0, 2]]"
   ]
  },
  {
   "cell_type": "code",
   "execution_count": 64,
   "metadata": {},
   "outputs": [
    {
     "data": {
      "text/plain": [
       "c    2.3\n",
       "d    3.4\n",
       "e    4.5\n",
       "dtype: float64"
      ]
     },
     "execution_count": 64,
     "metadata": {},
     "output_type": "execute_result"
    }
   ],
   "source": [
    "s[s > 2]"
   ]
  },
  {
   "cell_type": "code",
   "execution_count": 65,
   "metadata": {},
   "outputs": [
    {
     "data": {
      "text/plain": [
       "a    1.1\n",
       "b    3.2\n",
       "c    5.3\n",
       "dtype: float64"
      ]
     },
     "execution_count": 65,
     "metadata": {},
     "output_type": "execute_result"
    }
   ],
   "source": [
    "s1 = Series({'a': 0.1, 'b': 1.2, 'c': 2.3})\n",
    "s2 = Series({'a': 1.0, 'b': 2.0, 'c': 3.0})\n",
    "s1 + s2"
   ]
  },
  {
   "cell_type": "code",
   "execution_count": 67,
   "metadata": {},
   "outputs": [
    {
     "data": {
      "text/plain": [
       "count    10.00000\n",
       "mean     14.50000\n",
       "std       3.02765\n",
       "min      10.00000\n",
       "25%      12.25000\n",
       "50%      14.50000\n",
       "75%      16.75000\n",
       "max      19.00000\n",
       "dtype: float64"
      ]
     },
     "execution_count": 67,
     "metadata": {},
     "output_type": "execute_result"
    }
   ],
   "source": [
    "s1 = Series(np.arange(10.0, 20.0))\n",
    "s1.describe() # 시리즈 s1의 요약 정보 출력"
   ]
  },
  {
   "cell_type": "code",
   "execution_count": 70,
   "metadata": {},
   "outputs": [
    {
     "data": {
      "text/plain": [
       "14.5"
      ]
     },
     "execution_count": 70,
     "metadata": {},
     "output_type": "execute_result"
    }
   ],
   "source": [
    "summ = s1.describe()\n",
    "summ['mean'] #요약 값 중에서 mean 항목 값을 출력"
   ]
  },
  {
   "cell_type": "code",
   "execution_count": 71,
   "metadata": {},
   "outputs": [
    {
     "data": {
      "text/plain": [
       "b    3.0\n",
       "c    4.0\n",
       "d    5.0\n",
       "dtype: float64"
      ]
     },
     "execution_count": 71,
     "metadata": {},
     "output_type": "execute_result"
    }
   ],
   "source": [
    "s1 = Series(np.arange(1.0, 6), index = ['a','a','b','c','d'])\n",
    "s1.drop('a') #시리즈에서 index가 a인 값을 제외"
   ]
  },
  {
   "cell_type": "code",
   "execution_count": 74,
   "metadata": {},
   "outputs": [
    {
     "name": "stdout",
     "output_type": "stream",
     "text": [
      "   col0  col1  col2\n",
      "0     1    10   100\n",
      "1     2    20   200\n",
      "2     3    30   300\n",
      "3     4    40   400\n"
     ]
    }
   ],
   "source": [
    "#데이터 프레임을 다양하게 생성해보기\n",
    "from pandas import Series, DataFrame\n",
    "raw_data = {'col0':[1, 2, 3, 4],\n",
    "           'col1':[10, 20, 30, 40],\n",
    "           'col2':[100, 200, 300, 400]}\n",
    "data =DataFrame(raw_data)\n",
    "print(data)"
   ]
  },
  {
   "cell_type": "code",
   "execution_count": 75,
   "metadata": {},
   "outputs": [
    {
     "name": "stdout",
     "output_type": "stream",
     "text": [
      "       dogs  cats\n",
      "Alice   1.0   2.0\n",
      "Bob     3.0   4.0\n"
     ]
    }
   ],
   "source": [
    "a = np.array([[1.0, 2], [3, 4]])\n",
    "df = DataFrame(a, columns=['dogs', 'cats'], index= ['Alice', 'Bob'])\n",
    "print(df)"
   ]
  },
  {
   "cell_type": "code",
   "execution_count": 76,
   "metadata": {},
   "outputs": [
    {
     "ename": "PermissionError",
     "evalue": "[Errno 13] Permission denied: 'c:/test.csv'",
     "output_type": "error",
     "traceback": [
      "\u001b[1;31m---------------------------------------------------------------------------\u001b[0m",
      "\u001b[1;31mPermissionError\u001b[0m                           Traceback (most recent call last)",
      "\u001b[1;32m<ipython-input-76-b5d1d0ffccd2>\u001b[0m in \u001b[0;36m<module>\u001b[1;34m\u001b[0m\n\u001b[0;32m      1\u001b[0m \u001b[1;32mimport\u001b[0m \u001b[0mpandas\u001b[0m \u001b[1;32mas\u001b[0m \u001b[0mpd\u001b[0m\u001b[1;33m\u001b[0m\u001b[1;33m\u001b[0m\u001b[0m\n\u001b[0;32m      2\u001b[0m \u001b[1;31m#값의 구분자를 \\t라는 탭 문자로, 생성할 파일의 인코딩을 utf-8로 지정\u001b[0m\u001b[1;33m\u001b[0m\u001b[1;33m\u001b[0m\u001b[1;33m\u001b[0m\u001b[0m\n\u001b[1;32m----> 3\u001b[1;33m \u001b[0mdf\u001b[0m\u001b[1;33m.\u001b[0m\u001b[0mto_csv\u001b[0m\u001b[1;33m(\u001b[0m\u001b[1;34m'c:/test.csv'\u001b[0m\u001b[1;33m,\u001b[0m \u001b[0msep\u001b[0m \u001b[1;33m=\u001b[0m \u001b[1;34m'\\t'\u001b[0m\u001b[1;33m,\u001b[0m \u001b[0mencoding\u001b[0m \u001b[1;33m=\u001b[0m \u001b[1;34m'utf-8'\u001b[0m\u001b[1;33m)\u001b[0m\u001b[1;33m\u001b[0m\u001b[1;33m\u001b[0m\u001b[0m\n\u001b[0m\u001b[0;32m      4\u001b[0m \u001b[0mwriter\u001b[0m \u001b[1;33m=\u001b[0m \u001b[0mpd\u001b[0m\u001b[1;33m.\u001b[0m\u001b[0mExcelWriter\u001b[0m\u001b[1;33m(\u001b[0m\u001b[1;34m'c:/test.xlsx'\u001b[0m\u001b[1;33m)\u001b[0m\u001b[1;33m\u001b[0m\u001b[1;33m\u001b[0m\u001b[0m\n\u001b[0;32m      5\u001b[0m \u001b[0mdf\u001b[0m\u001b[1;33m.\u001b[0m\u001b[0mto_excel\u001b[0m\u001b[1;33m(\u001b[0m\u001b[0mwriter\u001b[0m\u001b[1;33m,\u001b[0m \u001b[1;34m'DataFrame'\u001b[0m\u001b[1;33m)\u001b[0m\u001b[1;33m\u001b[0m\u001b[1;33m\u001b[0m\u001b[0m\n",
      "\u001b[1;32mc:\\users\\gb-ofc-006\\appdata\\local\\programs\\python\\python38\\lib\\site-packages\\pandas\\core\\generic.py\u001b[0m in \u001b[0;36mto_csv\u001b[1;34m(self, path_or_buf, sep, na_rep, float_format, columns, header, index, index_label, mode, encoding, compression, quoting, quotechar, line_terminator, chunksize, date_format, doublequote, escapechar, decimal)\u001b[0m\n\u001b[0;32m   3202\u001b[0m             \u001b[0mdecimal\u001b[0m\u001b[1;33m=\u001b[0m\u001b[0mdecimal\u001b[0m\u001b[1;33m,\u001b[0m\u001b[1;33m\u001b[0m\u001b[1;33m\u001b[0m\u001b[0m\n\u001b[0;32m   3203\u001b[0m         )\n\u001b[1;32m-> 3204\u001b[1;33m         \u001b[0mformatter\u001b[0m\u001b[1;33m.\u001b[0m\u001b[0msave\u001b[0m\u001b[1;33m(\u001b[0m\u001b[1;33m)\u001b[0m\u001b[1;33m\u001b[0m\u001b[1;33m\u001b[0m\u001b[0m\n\u001b[0m\u001b[0;32m   3205\u001b[0m \u001b[1;33m\u001b[0m\u001b[0m\n\u001b[0;32m   3206\u001b[0m         \u001b[1;32mif\u001b[0m \u001b[0mpath_or_buf\u001b[0m \u001b[1;32mis\u001b[0m \u001b[1;32mNone\u001b[0m\u001b[1;33m:\u001b[0m\u001b[1;33m\u001b[0m\u001b[1;33m\u001b[0m\u001b[0m\n",
      "\u001b[1;32mc:\\users\\gb-ofc-006\\appdata\\local\\programs\\python\\python38\\lib\\site-packages\\pandas\\io\\formats\\csvs.py\u001b[0m in \u001b[0;36msave\u001b[1;34m(self)\u001b[0m\n\u001b[0;32m    182\u001b[0m             \u001b[0mclose\u001b[0m \u001b[1;33m=\u001b[0m \u001b[1;32mFalse\u001b[0m\u001b[1;33m\u001b[0m\u001b[1;33m\u001b[0m\u001b[0m\n\u001b[0;32m    183\u001b[0m         \u001b[1;32melse\u001b[0m\u001b[1;33m:\u001b[0m\u001b[1;33m\u001b[0m\u001b[1;33m\u001b[0m\u001b[0m\n\u001b[1;32m--> 184\u001b[1;33m             f, handles = get_handle(\n\u001b[0m\u001b[0;32m    185\u001b[0m                 \u001b[0mself\u001b[0m\u001b[1;33m.\u001b[0m\u001b[0mpath_or_buf\u001b[0m\u001b[1;33m,\u001b[0m\u001b[1;33m\u001b[0m\u001b[1;33m\u001b[0m\u001b[0m\n\u001b[0;32m    186\u001b[0m                 \u001b[0mself\u001b[0m\u001b[1;33m.\u001b[0m\u001b[0mmode\u001b[0m\u001b[1;33m,\u001b[0m\u001b[1;33m\u001b[0m\u001b[1;33m\u001b[0m\u001b[0m\n",
      "\u001b[1;32mc:\\users\\gb-ofc-006\\appdata\\local\\programs\\python\\python38\\lib\\site-packages\\pandas\\io\\common.py\u001b[0m in \u001b[0;36mget_handle\u001b[1;34m(path_or_buf, mode, encoding, compression, memory_map, is_text)\u001b[0m\n\u001b[0;32m    426\u001b[0m         \u001b[1;32mif\u001b[0m \u001b[0mencoding\u001b[0m\u001b[1;33m:\u001b[0m\u001b[1;33m\u001b[0m\u001b[1;33m\u001b[0m\u001b[0m\n\u001b[0;32m    427\u001b[0m             \u001b[1;31m# Encoding\u001b[0m\u001b[1;33m\u001b[0m\u001b[1;33m\u001b[0m\u001b[1;33m\u001b[0m\u001b[0m\n\u001b[1;32m--> 428\u001b[1;33m             \u001b[0mf\u001b[0m \u001b[1;33m=\u001b[0m \u001b[0mopen\u001b[0m\u001b[1;33m(\u001b[0m\u001b[0mpath_or_buf\u001b[0m\u001b[1;33m,\u001b[0m \u001b[0mmode\u001b[0m\u001b[1;33m,\u001b[0m \u001b[0mencoding\u001b[0m\u001b[1;33m=\u001b[0m\u001b[0mencoding\u001b[0m\u001b[1;33m,\u001b[0m \u001b[0mnewline\u001b[0m\u001b[1;33m=\u001b[0m\u001b[1;34m\"\"\u001b[0m\u001b[1;33m)\u001b[0m\u001b[1;33m\u001b[0m\u001b[1;33m\u001b[0m\u001b[0m\n\u001b[0m\u001b[0;32m    429\u001b[0m         \u001b[1;32melif\u001b[0m \u001b[0mis_text\u001b[0m\u001b[1;33m:\u001b[0m\u001b[1;33m\u001b[0m\u001b[1;33m\u001b[0m\u001b[0m\n\u001b[0;32m    430\u001b[0m             \u001b[1;31m# No explicit encoding\u001b[0m\u001b[1;33m\u001b[0m\u001b[1;33m\u001b[0m\u001b[1;33m\u001b[0m\u001b[0m\n",
      "\u001b[1;31mPermissionError\u001b[0m: [Errno 13] Permission denied: 'c:/test.csv'"
     ]
    }
   ],
   "source": [
    "import pandas as pd\n",
    "#값의 구분자를 \\t라는 탭 문자로, 생성할 파일의 인코딩을 utf-8로 지정\n",
    "df.to_csv('c:/test.csv', sep = '\\t', encoding = 'utf-8')\n",
    "writer = pd.ExcelWriter('c:/test.xlsx')\n",
    "df.to_excel(writer, 'DataFrame')\n",
    "writer.save()"
   ]
  },
  {
   "cell_type": "code",
   "execution_count": 1,
   "metadata": {},
   "outputs": [],
   "source": [
    "#numpy, scipy 이용해 다양한 선형대수 연산하기\n",
    "import numpy as np\n",
    "from scipy import linalg, sparse"
   ]
  },
  {
   "cell_type": "code",
   "execution_count": 2,
   "metadata": {},
   "outputs": [],
   "source": [
    "A = np.matrix(np.random.random((2, 2)))\n",
    "b = np.random.random((2, 2))\n",
    "B = np.asmatrix(b)\n",
    "C = np.mat(np.random.random((10, 5)))\n",
    "D = np.mat([[3, 4], [5, 6]]) # 2차원 자료를 나타낸 리스트를 행렬로 표현"
   ]
  },
  {
   "cell_type": "code",
   "execution_count": 3,
   "metadata": {},
   "outputs": [
    {
     "name": "stdout",
     "output_type": "stream",
     "text": [
      "[[0.0967617  0.86474896]\n",
      " [0.16914054 0.00806199]]\n"
     ]
    }
   ],
   "source": [
    "print(A)"
   ]
  },
  {
   "cell_type": "code",
   "execution_count": 4,
   "metadata": {},
   "outputs": [
    {
     "name": "stdout",
     "output_type": "stream",
     "text": [
      "[[0.02811455 0.2922685 ]\n",
      " [0.63154583 0.02129727]]\n"
     ]
    }
   ],
   "source": [
    "print(B)"
   ]
  },
  {
   "cell_type": "raw",
   "metadata": {},
   "source": [
    "print(C)"
   ]
  },
  {
   "cell_type": "code",
   "execution_count": 5,
   "metadata": {},
   "outputs": [
    {
     "name": "stdout",
     "output_type": "stream",
     "text": [
      "[[3 4]\n",
      " [5 6]]\n"
     ]
    }
   ],
   "source": [
    "print(D)"
   ]
  },
  {
   "cell_type": "code",
   "execution_count": 6,
   "metadata": {},
   "outputs": [
    {
     "data": {
      "text/plain": [
       "matrix([[-0.05541495,  5.9439448 ],\n",
       "        [ 1.16260567, -0.66510194]])"
      ]
     },
     "execution_count": 6,
     "metadata": {},
     "output_type": "execute_result"
    }
   ],
   "source": [
    "A.I # A의 역행렬"
   ]
  },
  {
   "cell_type": "code",
   "execution_count": 7,
   "metadata": {},
   "outputs": [
    {
     "data": {
      "text/plain": [
       "-0.1454840159384483"
      ]
     },
     "execution_count": 7,
     "metadata": {},
     "output_type": "execute_result"
    }
   ],
   "source": [
    "linalg.det(A) # A의 행렬식"
   ]
  },
  {
   "cell_type": "code",
   "execution_count": 8,
   "metadata": {},
   "outputs": [
    {
     "data": {
      "text/plain": [
       "matrix([[0.0967617 , 0.16914054],\n",
       "        [0.86474896, 0.00806199]])"
      ]
     },
     "execution_count": 8,
     "metadata": {},
     "output_type": "execute_result"
    }
   ],
   "source": [
    "A.T #A의 전치행렬"
   ]
  },
  {
   "cell_type": "code",
   "execution_count": 9,
   "metadata": {},
   "outputs": [
    {
     "data": {
      "text/plain": [
       "matrix([[3.0967617 , 4.86474896],\n",
       "        [5.16914054, 6.00806199]])"
      ]
     },
     "execution_count": 9,
     "metadata": {},
     "output_type": "execute_result"
    }
   ],
   "source": [
    "np.add(A, D) # A와 D의 합"
   ]
  },
  {
   "cell_type": "code",
   "execution_count": 10,
   "metadata": {},
   "outputs": [
    {
     "data": {
      "text/plain": [
       "matrix([[-2.9032383 , -3.13525104],\n",
       "        [-4.83085946, -5.99193801]])"
      ]
     },
     "execution_count": 10,
     "metadata": {},
     "output_type": "execute_result"
    }
   ],
   "source": [
    "np.subtract(A, D) # A와 D의 차"
   ]
  },
  {
   "cell_type": "code",
   "execution_count": 11,
   "metadata": {},
   "outputs": [
    {
     "data": {
      "text/plain": [
       "matrix([[0.0322539 , 0.21618724],\n",
       "        [0.03382811, 0.00134366]])"
      ]
     },
     "execution_count": 11,
     "metadata": {},
     "output_type": "execute_result"
    }
   ],
   "source": [
    "np.divide(A, D) # A 나누기 D"
   ]
  },
  {
   "cell_type": "code",
   "execution_count": 12,
   "metadata": {},
   "outputs": [
    {
     "name": "stdout",
     "output_type": "stream",
     "text": [
      "[[2.61052696 0.96199457]\n",
      " [3.92984771 1.5891261 ]]\n"
     ]
    }
   ],
   "source": [
    "print(D@B) # D와 B의 행렬곱을 @로 계산"
   ]
  },
  {
   "cell_type": "code",
   "execution_count": 13,
   "metadata": {},
   "outputs": [
    {
     "name": "stdout",
     "output_type": "stream",
     "text": [
      "[[2.61052696 0.96199457]\n",
      " [3.92984771 1.5891261 ]]\n"
     ]
    }
   ],
   "source": [
    "print(np.dot(D, B)) #D와 B의 행렬곱을 numpy의 dot 함수로도 계산할 수 있다."
   ]
  },
  {
   "cell_type": "code",
   "execution_count": 14,
   "metadata": {},
   "outputs": [
    {
     "name": "stdout",
     "output_type": "stream",
     "text": [
      "[[0.08434365 1.16907398]\n",
      " [3.15772913 0.12778362]]\n"
     ]
    }
   ],
   "source": [
    "print(np.multiply(D, B)) #행렬 D와 B에 대해서, 행렬곱이 아닌 대응되는 원소끼리의 단순 곱셈 수행"
   ]
  },
  {
   "cell_type": "code",
   "execution_count": 16,
   "metadata": {},
   "outputs": [
    {
     "data": {
      "text/plain": [
       "matrix([[1., 0.],\n",
       "        [0., 1.]])"
      ]
     },
     "execution_count": 16,
     "metadata": {},
     "output_type": "execute_result"
    }
   ],
   "source": [
    "G = np.mat(np.identity(2)) # 2x2 항등행렬\n",
    "G"
   ]
  },
  {
   "cell_type": "code",
   "execution_count": 17,
   "metadata": {},
   "outputs": [
    {
     "data": {
      "text/plain": [
       "array([ 0.43741966+0.j, -0.33259597+0.j])"
      ]
     },
     "execution_count": 17,
     "metadata": {},
     "output_type": "execute_result"
    }
   ],
   "source": [
    "linalg.eigvals(A) # 행렬 A의 고윳값 확인"
   ]
  },
  {
   "cell_type": "code",
   "execution_count": 18,
   "metadata": {},
   "outputs": [],
   "source": [
    "la, v = linalg.eig(A) #A의 고유 벡터"
   ]
  },
  {
   "cell_type": "code",
   "execution_count": 19,
   "metadata": {},
   "outputs": [],
   "source": [
    "l1, l2 = la #고유값을 l1, l2로 받기"
   ]
  },
  {
   "cell_type": "code",
   "execution_count": 20,
   "metadata": {},
   "outputs": [
    {
     "data": {
      "text/plain": [
       "array([0.93040866, 0.36652385])"
      ]
     },
     "execution_count": 20,
     "metadata": {},
     "output_type": "execute_result"
    }
   ],
   "source": [
    "v[: ,0] #첫 번째 고유 벡터"
   ]
  },
  {
   "cell_type": "code",
   "execution_count": 21,
   "metadata": {},
   "outputs": [
    {
     "data": {
      "text/plain": [
       "array([-0.89567358,  0.44471209])"
      ]
     },
     "execution_count": 21,
     "metadata": {},
     "output_type": "execute_result"
    }
   ],
   "source": [
    "v[:,1] # 두번째 고유 벡터"
   ]
  },
  {
   "cell_type": "code",
   "execution_count": 22,
   "metadata": {},
   "outputs": [],
   "source": [
    "C[C > 0.5] = 0"
   ]
  },
  {
   "cell_type": "code",
   "execution_count": 23,
   "metadata": {},
   "outputs": [],
   "source": [
    "H = sparse.csr_matrix(C) # C를 희소행렬 형태로 변환"
   ]
  },
  {
   "cell_type": "code",
   "execution_count": 24,
   "metadata": {},
   "outputs": [
    {
     "data": {
      "text/plain": [
       "matrix([[0.09370808, 0.14056213, 0.31030879, 0.        , 0.21349526],\n",
       "        [0.07023883, 0.        , 0.        , 0.18563381, 0.43082645],\n",
       "        [0.27976513, 0.        , 0.        , 0.        , 0.39048052],\n",
       "        [0.01653561, 0.        , 0.        , 0.        , 0.        ],\n",
       "        [0.        , 0.        , 0.        , 0.06750647, 0.28566097],\n",
       "        [0.        , 0.        , 0.15975035, 0.        , 0.00191707],\n",
       "        [0.        , 0.        , 0.11864229, 0.        , 0.        ],\n",
       "        [0.        , 0.        , 0.        , 0.        , 0.00444054],\n",
       "        [0.04866109, 0.10828018, 0.        , 0.        , 0.        ],\n",
       "        [0.        , 0.        , 0.1896508 , 0.        , 0.        ]])"
      ]
     },
     "execution_count": 24,
     "metadata": {},
     "output_type": "execute_result"
    }
   ],
   "source": [
    "H.todense()"
   ]
  },
  {
   "cell_type": "code",
   "execution_count": 25,
   "metadata": {},
   "outputs": [
    {
     "data": {
      "text/plain": [
       "True"
      ]
     },
     "execution_count": 25,
     "metadata": {},
     "output_type": "execute_result"
    }
   ],
   "source": [
    "sparse.isspmatrix_csr(H)"
   ]
  },
  {
   "cell_type": "code",
   "execution_count": 2,
   "metadata": {},
   "outputs": [],
   "source": [
    "import sympy as sp"
   ]
  },
  {
   "cell_type": "code",
   "execution_count": 3,
   "metadata": {},
   "outputs": [],
   "source": [
    "x = sp.Symbol('x')"
   ]
  },
  {
   "cell_type": "code",
   "execution_count": 4,
   "metadata": {},
   "outputs": [
    {
     "name": "stdout",
     "output_type": "stream",
     "text": [
      "6*x\n"
     ]
    }
   ],
   "source": [
    "print(sp.diff(3 * x**2 + 1, x)) # **는 파이썬에서 차수를 의미"
   ]
  },
  {
   "cell_type": "code",
   "execution_count": 5,
   "metadata": {},
   "outputs": [
    {
     "name": "stdout",
     "output_type": "stream",
     "text": [
      "12.0\n"
     ]
    }
   ],
   "source": [
    "from scipy.misc import derivative\n",
    "def f(x):                #원래 함수 정의\n",
    "    return 3*x**2+1\n",
    "def d(x):\n",
    "    return derivative(f, x) #미분한 함수\n",
    "print(d(2.0))"
   ]
  },
  {
   "cell_type": "code",
   "execution_count": 6,
   "metadata": {},
   "outputs": [
    {
     "data": {
      "text/latex": [
       "$\\displaystyle 1.0 x^{3} + 1.0 x$"
      ],
      "text/plain": [
       "1.0*x**3 + 1.0*x"
      ]
     },
     "execution_count": 6,
     "metadata": {},
     "output_type": "execute_result"
    }
   ],
   "source": [
    "import sympy as sp\n",
    "x = sp.Symbol('x')\n",
    "sp.integrate(3.0*x**2+1, x)\n"
   ]
  },
  {
   "cell_type": "code",
   "execution_count": 7,
   "metadata": {},
   "outputs": [
    {
     "name": "stdout",
     "output_type": "stream",
     "text": [
      "10.000000000000002\n"
     ]
    }
   ],
   "source": [
    "import numpy as np\n",
    "from scipy.integrate import quad\n",
    "\n",
    "def f(x):\n",
    "    return 3.0*x**2 +1\n",
    "i = quad(f, 0, 2)\n",
    "print(i[0])"
   ]
  },
  {
   "cell_type": "code",
   "execution_count": 9,
   "metadata": {},
   "outputs": [
    {
     "name": "stdout",
     "output_type": "stream",
     "text": [
      "[-3.]\n"
     ]
    }
   ],
   "source": [
    "from scipy.optimize import fsolve\n",
    "import numpy as np\n",
    "line = lambda x: x + 3\n",
    "solution = fsolve(line, -2) # 해를 -2부터 찾기 시작한다\n",
    "print(solution)"
   ]
  },
  {
   "cell_type": "code",
   "execution_count": 10,
   "metadata": {},
   "outputs": [],
   "source": [
    "def f(x): #함수 정의\n",
    "    return (x**3 -1) # x = 1에서 하나의 해 존재\n",
    "from scipy import optimize #사이파이에서 optimize 모듈 불러오기"
   ]
  },
  {
   "cell_type": "code",
   "execution_count": 11,
   "metadata": {},
   "outputs": [
    {
     "name": "stdout",
     "output_type": "stream",
     "text": [
      "1.0000000000000016\n"
     ]
    }
   ],
   "source": [
    "# x축의 1.5값 지점에서 시작하여 뉴턴랩슨 메서드로 x의 해를 구함\n",
    "root = optimize.newton(f, 1.5)\n",
    "print(root)"
   ]
  },
  {
   "cell_type": "code",
   "execution_count": 12,
   "metadata": {},
   "outputs": [
    {
     "name": "stdout",
     "output_type": "stream",
     "text": [
      "1.0\n"
     ]
    }
   ],
   "source": [
    "root = optimize.newton(f, 1.5, fprime = lambda x : 3 * x **2)\n",
    "print(root)"
   ]
  },
  {
   "cell_type": "code",
   "execution_count": 13,
   "metadata": {},
   "outputs": [
    {
     "name": "stdout",
     "output_type": "stream",
     "text": [
      "1.0000000000000016\n"
     ]
    }
   ],
   "source": [
    "# f의 미분된 함수를 또 미분한 함수를 표시\n",
    "root = optimize.newton(f, 1.5, fprime2 = lambda x: 6 * x)\n",
    "print(root)"
   ]
  },
  {
   "cell_type": "code",
   "execution_count": 14,
   "metadata": {},
   "outputs": [
    {
     "name": "stdout",
     "output_type": "stream",
     "text": [
      "1.0\n"
     ]
    }
   ],
   "source": [
    "root = optimize.newton(f, 1.5, fprime = lambda x: 3* x**2, fprime2 = lambda x: 6 * x)\n",
    "print(root)"
   ]
  },
  {
   "cell_type": "code",
   "execution_count": 15,
   "metadata": {},
   "outputs": [],
   "source": [
    "cur_x = 3 # x = 3에서 계산 시작\n",
    "rate = 0.01 # 학습률\n",
    "precision = 0.000001 # 반복 계산에 사용할 기준 (tolerance rate)\n",
    "previous_step_size = 1\n",
    "max_iters = 10000 #최대 반복 횟수 10000\n",
    "iters = 0 # 반복 횟수를 기록하기 위해 생성, 0 부터 시작\n",
    "df = lambda x: 2*(x + 5) #현재 예제에서 함수의 기울기"
   ]
  },
  {
   "cell_type": "code",
   "execution_count": 16,
   "metadata": {},
   "outputs": [],
   "source": [
    "while (previous_step_size > precision) and (iters < max_iters):\n",
    "    prev_x = cur_x # 현재 x를 이전 단계 x로 저장\n",
    "    cur_x = cur_x - rate * df(prev_x) # 경사 하강법 계산\n",
    "    previous_step_size = abs(cur_x - prev_x) # x값의 변화\n",
    "    iters = iters+1 # 반복 카운터 증가"
   ]
  },
  {
   "cell_type": "code",
   "execution_count": 17,
   "metadata": {},
   "outputs": [
    {
     "name": "stdout",
     "output_type": "stream",
     "text": [
      "국소 최솟값은? -4.9999518490318176\n"
     ]
    }
   ],
   "source": [
    "print(\"국소 최솟값은?\", cur_x)"
   ]
  },
  {
   "cell_type": "code",
   "execution_count": 18,
   "metadata": {},
   "outputs": [
    {
     "data": {
      "text/latex": [
       "$\\displaystyle 6.0 x$"
      ],
      "text/plain": [
       "6.0*x"
      ]
     },
     "execution_count": 18,
     "metadata": {},
     "output_type": "execute_result"
    }
   ],
   "source": [
    "#3x제곱 +1 미분하기\n",
    "import sympy as sp\n",
    "x = sp.Symbol('x')\n",
    "sp.diff(3.0*x**2 + 1, x)"
   ]
  },
  {
   "cell_type": "code",
   "execution_count": 19,
   "metadata": {},
   "outputs": [
    {
     "name": "stdout",
     "output_type": "stream",
     "text": [
      "[-3.]\n"
     ]
    }
   ],
   "source": [
    "#미분 개념을 활용하여 미분한 x + 3 함수가 0이 되는 해 찾기\n",
    "from scipy.optimize import fsolve\n",
    "import numpy as np\n",
    "line = lambda x: x + 3\n",
    "solution = fsolve(line, -2)\n",
    "print(solution)"
   ]
  },
  {
   "cell_type": "code",
   "execution_count": 20,
   "metadata": {},
   "outputs": [],
   "source": [
    "#x제곱을 적분하고 0~3 사이의 적분 값 찾기\n",
    "import numpy as np\n",
    "from scipy.integrate import quad"
   ]
  },
  {
   "cell_type": "code",
   "execution_count": 21,
   "metadata": {},
   "outputs": [],
   "source": [
    "# 적분할 함수 정의\n",
    "func = lambda x: np.cos(np.exp(x))**2"
   ]
  },
  {
   "cell_type": "code",
   "execution_count": 22,
   "metadata": {},
   "outputs": [
    {
     "name": "stdout",
     "output_type": "stream",
     "text": [
      "(1.296467785724373, 1.3977971853986262e-09)\n"
     ]
    }
   ],
   "source": [
    "# 0부터 3까지의 구간에 대해 함수 func를 적분\n",
    "solution = quad(func, 0, 3)\n",
    "print(solution)\n",
    "# 첫 번째 값은 적분, 두 번째 값은 오차"
   ]
  },
  {
   "cell_type": "code",
   "execution_count": 23,
   "metadata": {},
   "outputs": [],
   "source": [
    "#sin(x) + cos(x제곱) + 1 함수를 적분하고 구간 0~5의 적분 값 찾기\n",
    "import numpy as np\n",
    "from scipy.integrate import quad\n",
    "x = np.sort(np.random.randn(150) * 4 + 4).clip(0, 5) # 0~5 사이의 랜덤한 값 생성\n",
    "func = lambda x: np.sin(x) * np.cos(x**2) + 1 #적분할 함수\n",
    "y = func(x)"
   ]
  },
  {
   "cell_type": "code",
   "execution_count": 24,
   "metadata": {},
   "outputs": [
    {
     "name": "stdout",
     "output_type": "stream",
     "text": [
      "(5.100345067540932, 1.2589916837356385e-08)\n"
     ]
    }
   ],
   "source": [
    "fsolution = quad(func, 0, 5) # 함수 quad로 적분하기\n",
    "print(fsolution)"
   ]
  },
  {
   "cell_type": "code",
   "execution_count": null,
   "metadata": {},
   "outputs": [],
   "source": []
  }
 ],
 "metadata": {
  "kernelspec": {
   "display_name": "Python 3",
   "language": "python",
   "name": "python3"
  },
  "language_info": {
   "codemirror_mode": {
    "name": "ipython",
    "version": 3
   },
   "file_extension": ".py",
   "mimetype": "text/x-python",
   "name": "python",
   "nbconvert_exporter": "python",
   "pygments_lexer": "ipython3",
   "version": "3.8.4rc1"
  }
 },
 "nbformat": 4,
 "nbformat_minor": 4
}
