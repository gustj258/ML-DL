{
 "cells": [
  {
   "cell_type": "code",
   "execution_count": 12,
   "metadata": {},
   "outputs": [
    {
     "name": "stdout",
     "output_type": "stream",
     "text": [
      "1.안녕하세요 파이썬입니다.\n",
      "2.안녕하세요 파이썬입니다.\n",
      "3.안녕하세요 파이썬입니다.\n",
      "\n",
      "안녕하세요 파이썬입니다.\n",
      "2.안녕하세요 파이썬입니다.\n",
      "3.안녕하세요 파이썬입니다.\n",
      "\n"
     ]
    }
   ],
   "source": [
    "f = open('test.txt', 'r', encoding=\"utf-8\")\n",
    "print(f.read())\n",
    "f.seek(2)\n",
    "print(f.read())"
   ]
  },
  {
   "cell_type": "code",
   "execution_count": 29,
   "metadata": {},
   "outputs": [],
   "source": [
    "with open('image.jpg','rb') as fr:\n",
    "    with open('image_copy.jpg', 'wb') as fw:\n",
    "        fw.write(fr.read())"
   ]
  },
  {
   "cell_type": "code",
   "execution_count": 3,
   "metadata": {},
   "outputs": [],
   "source": [
    "import urllib.request as req\n",
    "import re"
   ]
  },
  {
   "cell_type": "code",
   "execution_count": 4,
   "metadata": {},
   "outputs": [],
   "source": [
    "#사이트 내에 모든 사진 저장\n",
    "rep = req.urlopen('https://daum.net')\n",
    "\n",
    "data = rep.read().decode('utf8')\n",
    "\n",
    "result = re.findall('https://[./-_\\w]+.jpg', data)\n",
    "for link in result:\n",
    "    idx = link.rfind('/')\n",
    "    with open(link[idx+1:], \"wb\") as f:\n",
    "        pic = req.urlopen(link)\n",
    "        f.write( pic.read() )"
   ]
  },
  {
   "cell_type": "code",
   "execution_count": 3,
   "metadata": {},
   "outputs": [],
   "source": [
    "from bs4 import BeautifulSoup\n",
    "import urllib.request as req"
   ]
  },
  {
   "cell_type": "code",
   "execution_count": 4,
   "metadata": {},
   "outputs": [],
   "source": [
    "#구현안됨\n",
    "def getMeals(date='0701'):\n",
    "    baseURL = 'http://school.cbe.go.kr/cbs-h/M01050705/list?ymd=20190331'\n",
    "    res = req.urlopen(baseURL+date)\n",
    "    soup = BeautifulSoup(res,'html.parser')\n",
    "    meals = soup.find_all(class_='tch-lnc-wrap')\n",
    "    dic = {}\n",
    "    for meal in meals:\n",
    "        dic.update({meal.dt.text:meal.ul.text})\n",
    "        return dic\n",
    "    \n",
    "    user_date = input(\"원하는 날짜를 입력하세요 예)0701 >\")\n",
    "    result = getMeals(user_date)\n",
    "    print(result)"
   ]
  },
  {
   "cell_type": "code",
   "execution_count": null,
   "metadata": {},
   "outputs": [],
   "source": []
  }
 ],
 "metadata": {
  "kernelspec": {
   "display_name": "Python 3",
   "language": "python",
   "name": "python3"
  },
  "language_info": {
   "codemirror_mode": {
    "name": "ipython",
    "version": 3
   },
   "file_extension": ".py",
   "mimetype": "text/x-python",
   "name": "python",
   "nbconvert_exporter": "python",
   "pygments_lexer": "ipython3",
   "version": "3.8.4rc1"
  }
 },
 "nbformat": 4,
 "nbformat_minor": 4
}
