{
 "cells": [
  {
   "cell_type": "markdown",
   "metadata": {},
   "source": [
    "### 학습목표\n",
    " - random 서브모듈 함수를 통해 ndarray 생성하기"
   ]
  },
  {
   "cell_type": "code",
   "execution_count": 1,
   "metadata": {},
   "outputs": [],
   "source": [
    "import numpy as np"
   ]
  },
  {
   "cell_type": "markdown",
   "metadata": {},
   "source": [
    "#### random 서브모듈"
   ]
  },
  {
   "cell_type": "markdown",
   "metadata": {},
   "source": [
    "#### rand 함수\n",
    " - 0, 1사이의 분포로 랜덤한 ndarray 생성"
   ]
  },
  {
   "cell_type": "code",
   "execution_count": 2,
   "metadata": {},
   "outputs": [
    {
     "data": {
      "text/plain": [
       "array([[[5.48421845e-01, 4.09189349e-01, 2.97935655e-02],\n",
       "        [9.79080791e-02, 6.83261792e-01, 1.03711067e-01],\n",
       "        [7.95662605e-01, 3.69384488e-01, 1.80398336e-01],\n",
       "        [5.51504970e-01, 6.87788166e-01, 7.19180399e-01],\n",
       "        [7.47987774e-01, 4.09348895e-02, 4.73807774e-01]],\n",
       "\n",
       "       [[2.18804102e-01, 9.82873636e-01, 7.88650508e-04],\n",
       "        [4.91074154e-03, 5.27178669e-02, 9.32650521e-01],\n",
       "        [2.94266515e-01, 2.36233526e-01, 2.83202016e-01],\n",
       "        [3.52820688e-01, 3.04107253e-01, 5.02638644e-01],\n",
       "        [8.62705351e-01, 1.75375996e-01, 8.50645445e-01]],\n",
       "\n",
       "       [[1.83913861e-02, 7.29861091e-01, 9.98218205e-01],\n",
       "        [3.43240174e-01, 4.30226884e-01, 8.08978104e-01],\n",
       "        [5.55847168e-01, 3.90877242e-02, 2.62712747e-01],\n",
       "        [6.41210108e-01, 6.21589050e-01, 4.62546549e-01],\n",
       "        [6.71661372e-01, 6.08212846e-01, 4.76622393e-01]],\n",
       "\n",
       "       [[4.05714288e-01, 2.04000596e-01, 1.13637630e-01],\n",
       "        [1.65412175e-01, 8.35757462e-01, 9.05803479e-01],\n",
       "        [7.74832887e-01, 6.33559854e-02, 4.15952251e-02],\n",
       "        [9.75868165e-01, 2.34877415e-01, 3.12739031e-01],\n",
       "        [3.18194258e-01, 8.07485999e-01, 5.84974087e-01]]])"
      ]
     },
     "execution_count": 2,
     "metadata": {},
     "output_type": "execute_result"
    }
   ],
   "source": [
    "np.random.rand(4, 5, 3)"
   ]
  },
  {
   "cell_type": "markdown",
   "metadata": {},
   "source": [
    "#### randn함수\n",
    " - n: normal distribution(정규분포)\n",
    " - 정규분포로 샘플링된 랜덤 ndarray 생성"
   ]
  },
  {
   "cell_type": "code",
   "execution_count": 3,
   "metadata": {},
   "outputs": [
    {
     "data": {
      "text/plain": [
       "array([ 1.11703961,  1.50324336, -0.58349165,  0.98862467, -1.98012205])"
      ]
     },
     "execution_count": 3,
     "metadata": {},
     "output_type": "execute_result"
    }
   ],
   "source": [
    "np.random.randn(5)"
   ]
  },
  {
   "cell_type": "code",
   "execution_count": 4,
   "metadata": {},
   "outputs": [
    {
     "data": {
      "text/plain": [
       "array([[[-8.76241615e-01, -6.32432726e-01],\n",
       "        [-6.08400733e-01, -6.60982162e-01],\n",
       "        [ 7.64470276e-01,  1.01752896e+00],\n",
       "        [ 8.62592192e-01,  6.57274787e-02]],\n",
       "\n",
       "       [[ 6.16067106e-01, -8.44126611e-02],\n",
       "        [ 3.69921666e-01,  9.09697600e-01],\n",
       "        [ 1.46715851e+00, -7.35509703e-01],\n",
       "        [ 2.69849021e-01, -8.27090534e-01]],\n",
       "\n",
       "       [[-1.57835583e-03,  2.00079498e+00],\n",
       "        [-1.04695145e-01, -6.62094277e-01],\n",
       "        [-2.08607907e-01, -6.90200681e-01],\n",
       "        [ 4.57291430e-01, -4.12213943e-02]]])"
      ]
     },
     "execution_count": 4,
     "metadata": {},
     "output_type": "execute_result"
    }
   ],
   "source": [
    "np.random.randn(3, 4, 2)"
   ]
  },
  {
   "cell_type": "markdown",
   "metadata": {},
   "source": [
    "#### randint 함수\n",
    " - 특정 정수 사이에서 랜덤하게 샘플링"
   ]
  },
  {
   "cell_type": "code",
   "execution_count": 5,
   "metadata": {},
   "outputs": [
    {
     "data": {
      "text/plain": [
       "array([35, 56, 25, 46, 81])"
      ]
     },
     "execution_count": 5,
     "metadata": {},
     "output_type": "execute_result"
    }
   ],
   "source": [
    "np.random.randint(1, 100, size=(5,))"
   ]
  },
  {
   "cell_type": "markdown",
   "metadata": {},
   "source": [
    "#### seed 함수\n",
    " - 랜덤한 값을 동일하게 다시 생성하고자 할때 사용"
   ]
  },
  {
   "cell_type": "code",
   "execution_count": 6,
   "metadata": {},
   "outputs": [
    {
     "data": {
      "text/plain": [
       "array([[ 0.66698806,  0.02581308, -0.77761941,  0.94863382],\n",
       "       [ 0.70167179, -1.05108156, -0.36754812, -1.13745969],\n",
       "       [-1.32214752,  1.77225828, -0.34745899,  0.67014016]])"
      ]
     },
     "execution_count": 6,
     "metadata": {},
     "output_type": "execute_result"
    }
   ],
   "source": [
    "np.random.seed(23)\n",
    "np.random.randn(3, 4)"
   ]
  },
  {
   "cell_type": "markdown",
   "metadata": {},
   "source": [
    "#### choice\n",
    " - 주어진 1차원 ndarray로 부터 랜덤으로 샘플링\n",
    " - 정수가 주어진 경우, np.arange(해당숫자)로 간주"
   ]
  },
  {
   "cell_type": "code",
   "execution_count": 7,
   "metadata": {},
   "outputs": [
    {
     "data": {
      "text/plain": [
       "array([[79, 90, 62, 57],\n",
       "       [19, 33, 59, 39],\n",
       "       [15, 36, 65,  1]])"
      ]
     },
     "execution_count": 7,
     "metadata": {},
     "output_type": "execute_result"
    }
   ],
   "source": [
    "np.random.choice(100, size=(3, 4))"
   ]
  },
  {
   "cell_type": "code",
   "execution_count": 8,
   "metadata": {},
   "outputs": [
    {
     "data": {
      "text/plain": [
       "array([[1. , 2. ],\n",
       "       [3. , 4.9]])"
      ]
     },
     "execution_count": 8,
     "metadata": {},
     "output_type": "execute_result"
    }
   ],
   "source": [
    "x = np.array([1, 2, 3, 1.5, 2.6, 4.9])\n",
    "np.random.choice(x, size=(2, 2), replace=False)"
   ]
  },
  {
   "cell_type": "markdown",
   "metadata": {},
   "source": [
    "#### 확률분포에 따른 ndarray 생성\n",
    " - uniform\n",
    " - normal 등등"
   ]
  },
  {
   "cell_type": "code",
   "execution_count": 9,
   "metadata": {},
   "outputs": [
    {
     "data": {
      "text/plain": [
       "array([[2.51225457, 2.66736254, 1.34436822, 1.42430685, 2.74942904],\n",
       "       [1.8654592 , 2.75215591, 1.94121243, 1.60485579, 2.53464481],\n",
       "       [1.02068753, 2.35248663, 1.94336175, 2.26833065, 2.84085397],\n",
       "       [1.26336399, 2.67879335, 2.40971945, 2.93578399, 2.80844986]])"
      ]
     },
     "execution_count": 9,
     "metadata": {},
     "output_type": "execute_result"
    }
   ],
   "source": [
    "np.random.uniform(1.0, 3.0, size=(4, 5))"
   ]
  },
  {
   "cell_type": "code",
   "execution_count": 10,
   "metadata": {},
   "outputs": [
    {
     "data": {
      "text/plain": [
       "array([[-1.10028295,  0.19820952,  0.0407598 ,  0.78145406],\n",
       "       [ 0.06493754, -0.15102838, -0.01601653,  1.5072508 ],\n",
       "       [-1.60482532,  1.78616035, -0.2363808 , -2.42559596]])"
      ]
     },
     "execution_count": 10,
     "metadata": {},
     "output_type": "execute_result"
    }
   ],
   "source": [
    "np.random.normal(size=(3, 4))\n",
    "np.random.randn(3, 4)"
   ]
  },
  {
   "cell_type": "code",
   "execution_count": null,
   "metadata": {},
   "outputs": [],
   "source": []
  }
 ],
 "metadata": {
  "kernelspec": {
   "display_name": "Python 3",
   "language": "python",
   "name": "python3"
  },
  "language_info": {
   "codemirror_mode": {
    "name": "ipython",
    "version": 3
   },
   "file_extension": ".py",
   "mimetype": "text/x-python",
   "name": "python",
   "nbconvert_exporter": "python",
   "pygments_lexer": "ipython3",
   "version": "3.8.4rc1"
  }
 },
 "nbformat": 4,
 "nbformat_minor": 2
}
