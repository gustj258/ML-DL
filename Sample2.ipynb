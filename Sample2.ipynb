{
 "cells": [
  {
   "cell_type": "code",
   "execution_count": 1,
   "metadata": {},
   "outputs": [],
   "source": [
    "from urllib.parse import quote_plus\n",
    "from bs4 import BeautifulSoup\n",
    "from selenium import webdriver"
   ]
  },
  {
   "cell_type": "code",
   "execution_count": 9,
   "metadata": {},
   "outputs": [
    {
     "name": "stdout",
     "output_type": "stream",
     "text": [
      "무엇을 검색하실건가요? :파이썬\n",
      "파이썬 - 위키백과, 우리 모두의 백과사전\n",
      "https://ko.wikipedia.org/wiki/%ED%8C%8C%EC%9D%B4%EC%8D%AC\n",
      "\n",
      "파이썬 자습서 — Python 3.8.4rc1 문서\n",
      "https://docs.python.org/ko/3/tutorial/index.html\n",
      "\n",
      "Python - 나무위키\n",
      "https://namu.wiki/w/Python\n",
      "\n",
      "1. 파이썬 시작하기 - 왕초보를 위한 Python - WikiDocs\n",
      "https://wikidocs.net/43\n",
      "\n",
      "Python 코딩의 기초 - 예제로 배우는 파이썬 프로그래밍\n",
      "http://pythonstudy.xyz/python/article/6-Python-%EC%BD%94%EB%94%A9%EC%9D%98-%EA%B8%B0%EC%B4%88\n",
      "\n",
      "파이썬 무료 강의 (기본편) - 6시간 뒤면 나도 개발자 - 인프런\n",
      "https://www.inflearn.com/course/%EB%82%98%EB%8F%84%EC%BD%94%EB%94%A9-%ED%8C%8C%EC%9D%B4%EC%8D%AC-%EA%B8%B0%EB%B3%B8\n",
      "\n",
      "파이썬의 인기는 언제까지 갈까? - Byline Network\n",
      "https://byline.network/2020/03/17-90/\n",
      "\n",
      "파이썬 코딩 도장: 1.3 파이썬\n",
      "https://dojang.io/mod/page/view.php?id=2153\n",
      "\n"
     ]
    }
   ],
   "source": [
    "#구글 검색 링크 크롤링\n",
    "baseUrl = 'https://www.google.com/search?q='\n",
    "plusUrl = input('무엇을 검색하실건가요? :')\n",
    "url = baseUrl + quote_plus(plusUrl)\n",
    "\n",
    "driver = webdriver.Chrome()\n",
    "driver.get(url)\n",
    "\n",
    "html = driver.page_source\n",
    "soup = BeautifulSoup(html)\n",
    "\n",
    "r = soup.select('.r')\n",
    "for i in r:\n",
    "    print(i.select_one('.LC20lb').text)\n",
    "    print(i.a.attrs['href'])\n",
    "    print()\n",
    "    \n",
    "driver.close()"
   ]
  },
  {
   "cell_type": "code",
   "execution_count": null,
   "metadata": {},
   "outputs": [],
   "source": []
  }
 ],
 "metadata": {
  "kernelspec": {
   "display_name": "Python 3",
   "language": "python",
   "name": "python3"
  },
  "language_info": {
   "codemirror_mode": {
    "name": "ipython",
    "version": 3
   },
   "file_extension": ".py",
   "mimetype": "text/x-python",
   "name": "python",
   "nbconvert_exporter": "python",
   "pygments_lexer": "ipython3",
   "version": "3.8.4rc1"
  }
 },
 "nbformat": 4,
 "nbformat_minor": 4
}
