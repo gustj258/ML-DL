{
 "cells": [
  {
   "cell_type": "code",
   "execution_count": 2,
   "metadata": {},
   "outputs": [],
   "source": [
    "import urllib.request as req\n",
    "import re\n",
    "import ssl"
   ]
  },
  {
   "cell_type": "code",
   "execution_count": 3,
   "metadata": {},
   "outputs": [
    {
     "name": "stdout",
     "output_type": "stream",
     "text": [
      "https://chilgok.fowi.or.kr//images/common/logo.jpg\n",
      "logo.jpg\n",
      "https://chilgok.fowi.or.kr//images/facility/admin_photo01.jpg\n",
      "admin_photo01.jpg\n",
      "https://chilgok.fowi.or.kr//images/facility/admin_photo02.jpg\n",
      "admin_photo02.jpg\n",
      "https://chilgok.fowi.or.kr//images/facility/admin_photo05.jpg\n",
      "admin_photo05.jpg\n",
      "https://chilgok.fowi.or.kr//images/facility/admin_photo03.jpg\n",
      "admin_photo03.jpg\n",
      "https://chilgok.fowi.or.kr//images/common/logo_footer.jpg\n",
      "logo_footer.jpg\n"
     ]
    }
   ],
   "source": [
    "context = ssl._create_unverified_context()\n",
    "url = 'https://chilgok.fowi.or.kr/'\n",
    "active = '/facility/admin.do'\n",
    "rep = req.urlopen(url+active,context=context)\n",
    "data = rep.read().decode('utf8')\n",
    "result = re.findall('/images.+jpg', data)\n",
    "# 정규표현식 \"/images\"텍스트 + 아무 글자 1개 이상 + \"jpg\"텍스트\n",
    "# \"/images/facility/admin_photo01.jpg\" 이미지가 상대경로로 되어있기 때문에 루트 경로를 찾으셔야 합니다. 이 경우 \"https://chilgok.fowi.or.kr\"\n",
    "\n",
    "for link in result:\n",
    "    print(url+link)\n",
    "    # 루트 경로 + 상대경로\n",
    "    imgUrl = url + link\n",
    "    idx = imgUrl.rfind('/')\n",
    "    fileName = imgUrl[idx+1:]\n",
    "    print(fileName) \n",
    "    # 중간에 에러가 난다면 어디까지 정상적인 값을 받아오는지 체크해보시기 바랍니다.\n",
    "\n",
    "    with open(fileName, \"wb\") as f:\n",
    "        pic = req.urlopen(imgUrl,context=context) # 여기도 (https - ssl)\n",
    "        f.write( pic.read() )"
   ]
  },
  {
   "cell_type": "code",
   "execution_count": null,
   "metadata": {},
   "outputs": [],
   "source": []
  }
 ],
 "metadata": {
  "kernelspec": {
   "display_name": "Python 3",
   "language": "python",
   "name": "python3"
  },
  "language_info": {
   "codemirror_mode": {
    "name": "ipython",
    "version": 3
   },
   "file_extension": ".py",
   "mimetype": "text/x-python",
   "name": "python",
   "nbconvert_exporter": "python",
   "pygments_lexer": "ipython3",
   "version": "3.8.4rc1"
  }
 },
 "nbformat": 4,
 "nbformat_minor": 4
}
