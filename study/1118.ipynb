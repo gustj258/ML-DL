{
 "cells": [
  {
   "cell_type": "code",
   "execution_count": 1,
   "metadata": {},
   "outputs": [],
   "source": [
    "#MAP 7평가 척도를 구하는 코드\n",
    "import numpy as np\n",
    "\n",
    "def apk(actual, predicted, k=7, default=0.0):\n",
    "    # MAP@7 이므로, 최대 7개만 사용한다.\n",
    "    if len(predicted) > k:\n",
    "        predicted = predicted[:k]\n",
    "        \n",
    "    score = 0.0\n",
    "    num_hits = 0.0\n",
    "    \n",
    "    for i, p, in enuerate(predicted):\n",
    "        # 점수를 부여한느 조건은 다음과 같다 :\n",
    "        # 예측 값이 정답에 있고 ('p in actual')\n",
    "        # 예측 값이 중복이 아니면 ('p not in predicted[:i]')\n",
    "        if p in actual and p not in predicted[:i]:\n",
    "            num_hits += 1.0\n",
    "            score += num_hits / (i+1.0)\n",
    "    \n",
    "    # 정답 값이 공백일 경우, 무조건 0.0점을 반환한다.\n",
    "    if not actual:\n",
    "        return default\n",
    "    \n",
    "    # 정답의 개수(len(actual))로 average precision을 구한다.\n",
    "    if not actual:\n",
    "        return default\n",
    "    \n",
    "def mapk(actual, predicted, k=7, default=0.0):\n",
    "    # list of list인 정답 값(actual)과 예측 값(predicted)에서 고객별 Average Precision을 구하고, np.mean()을 통해 평균을 계산한다.\n",
    "    return np.mean([apk(a, p, k, default) for a, p in zip(actual,\n",
    "    predicted)])"
   ]
  },
  {
   "cell_type": "code",
   "execution_count": null,
   "metadata": {},
   "outputs": [],
   "source": []
  }
 ],
 "metadata": {
  "kernelspec": {
   "display_name": "Python 3",
   "language": "python",
   "name": "python3"
  },
  "language_info": {
   "codemirror_mode": {
    "name": "ipython",
    "version": 3
   },
   "file_extension": ".py",
   "mimetype": "text/x-python",
   "name": "python",
   "nbconvert_exporter": "python",
   "pygments_lexer": "ipython3",
   "version": "3.8.4rc1"
  }
 },
 "nbformat": 4,
 "nbformat_minor": 4
}
