{
 "cells": [
  {
   "cell_type": "code",
   "execution_count": 40,
   "metadata": {},
   "outputs": [],
   "source": [
    "from bs4 import BeautifulSoup as bs\n",
    "from openpyxl import Workbook\n",
    "import requests"
   ]
  },
  {
   "cell_type": "code",
   "execution_count": 41,
   "metadata": {},
   "outputs": [],
   "source": [
    "url = \"https://movie.naver.com/movie/bi/mi/pointWriteFormList.nhn?code=185917&type=after&isActualPointWriteExecute=false&isMileageSubscriptionAlready=false&isMileageSubscriptionReject=false&page=1\"\n",
    "\n",
    "html = bs(requests.get(url).content, \"html.parser\", from_encoding=\"utf-8\")\n",
    "cnt = html.select(\"body > div > div > div.score_total > strong > em\")[0].contents[0].replace(',','')\n",
    "\n",
    "wb = Workbook()\n",
    "ws = wb.create_sheet(\"겨울왕국2\", 0)\n",
    "row = 2\n",
    "ws.cell(1, 1, \"평점\")\n",
    "ws.cell(1, 2, \"좋아요\")\n",
    "ws.cell(1, 3, \"싫어요\")\n",
    "ws.cell(1, 4, \"비율\")\n",
    "ws.cell(1, 5, \"댓글\")\n",
    "\n",
    "for x in range(1, int(cnt)//10+1):\n",
    "    html = bs(requests.get(url + \"&page=\" + str(x)).content, \"html.parser\", from_encoding=\"utf-8\")\n",
    "    score = html.select(\"body > div > div > div.score_result > ul > li > div.star_score > em\")\n",
    "    reple = html.select(\"body > div > div > div.score_result > ul > li > div.star_reple > em\")\n",
    "    like = html.select(\"body > div > div > div.score_result > ul > li > div.btn_area\")\n",
    "    for i in range(len(reple)):\n",
    "        ws.cell(row, 1, int(score[i].contents[0]))\n",
    "        ws.cell(row, 2, int(like[i].contents[1].contents[5].contents[0]))\n",
    "        ws.cell(row, 3, int(like[i].contents[3].contents[5].contents[0]))\n",
    "        if int(like[i].contents[1].contents[5].contents[0]) == 0 or \\\n",
    "            int(like[i].contents[3].contents[5].contents[0]) == 0:\n",
    "            ws.cell(row, 4, 1)\n",
    "        else:\n",
    "                ws.cell(row, 4, int(like[i].contents[i].contents[5].contents[0]) /\n",
    "                      int(like[i].contents[3].contents[5].contents[0]))\n",
    "                tmp = reple[i].contents[5].contents[0].strip()\n",
    "                if tmp == \"\":\n",
    "                    try:\n",
    "                       tmp = reple[i].contents[5].contents[1].contents[1]['data-src']\n",
    "                    except:\n",
    "                        continue\n",
    "                        ws.cell(row, 5, tmp)\n",
    "                        row += 1"
   ]
  },
  {
   "cell_type": "code",
   "execution_count": null,
   "metadata": {},
   "outputs": [],
   "source": []
  }
 ],
 "metadata": {
  "kernelspec": {
   "display_name": "Python 3",
   "language": "python",
   "name": "python3"
  },
  "language_info": {
   "codemirror_mode": {
    "name": "ipython",
    "version": 3
   },
   "file_extension": ".py",
   "mimetype": "text/x-python",
   "name": "python",
   "nbconvert_exporter": "python",
   "pygments_lexer": "ipython3",
   "version": "3.8.4rc1"
  }
 },
 "nbformat": 4,
 "nbformat_minor": 4
}
